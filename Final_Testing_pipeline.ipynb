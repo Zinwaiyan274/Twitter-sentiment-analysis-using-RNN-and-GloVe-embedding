{
  "cells": [
    {
      "cell_type": "markdown",
      "metadata": {
        "id": "view-in-github",
        "colab_type": "text"
      },
      "source": [
        "<a href=\"https://colab.research.google.com/github/Zinwaiyan274/Twitter-sentiment-analysis-using-RNN-and-GloVe-embedding/blob/main/Final_Testing_pipeline.ipynb\" target=\"_parent\"><img src=\"https://colab.research.google.com/assets/colab-badge.svg\" alt=\"Open In Colab\"/></a>"
      ]
    },
    {
      "cell_type": "code",
      "execution_count": null,
      "metadata": {
        "id": "Llk6vfxNEFS1"
      },
      "outputs": [],
      "source": [
        "                                                                                                                                                                                                                                                                                                                                                                                                                                                                                                                                                  import numpy as np # linear algebraimport pandas as pd # data processing, CSV file I/O (e.g. pd.read_csv)\n",
        "import re\n",
        "from sklearn.feature_extraction.text import CountVectorizer\n",
        "from keras.preprocessing.text import Tokenizer\n",
        "# from keras.preprocessing.sequence import pad_sequences\n",
        "from keras.models import Sequential\n",
        "from keras.utils.np_utils import to_categorical\n",
        "from tensorflow.keras.preprocessing.text import Tokenizer\n",
        "\n",
        "\n",
        "#essential libs\n",
        "import pandas as pd\n",
        "import numpy as np\n",
        "\n",
        "\n",
        "from keras.preprocessing.text import Tokenizer\n",
        "from tensorflow.keras.preprocessing.text import Tokenizer\n",
        "import pickle"
      ]
    },
    {
      "cell_type": "code",
      "execution_count": null,
      "metadata": {
        "id": "3dhKwFAP2IID"
      },
      "outputs": [],
      "source": [
        "# from google.colab import drive\n",
        "# drive.mount('/content/drive')"
      ]
    },
    {
      "cell_type": "code",
      "execution_count": null,
      "metadata": {
        "colab": {
          "base_uri": "https://localhost:8080/",
          "height": 424
        },
        "id": "1UqGlr9Ph882",
        "outputId": "939d445c-85db-4822-e86c-4e26fb6fae23"
      },
      "outputs": [
        {
          "output_type": "execute_result",
          "data": {
            "text/plain": [
              "       ID             Entity label  \\\n",
              "1    2401        Borderlands     2   \n",
              "2    2401        Borderlands     2   \n",
              "3    2401        Borderlands     2   \n",
              "4    2401        Borderlands     2   \n",
              "5    2401        Borderlands     2   \n",
              "..    ...                ...   ...   \n",
              "993   314             Amazon     1   \n",
              "994  9701  PlayStation5(PS5)     2   \n",
              "997  2652        Borderlands     2   \n",
              "998  8069          Microsoft     2   \n",
              "999  6960    johnson&johnson     0   \n",
              "\n",
              "                                               Feature  \n",
              "1    I am coming to the borders and I will kill you...  \n",
              "2    im getting on borderlands and i will kill you ...  \n",
              "3    im coming on borderlands and i will murder you...  \n",
              "4    im getting on borderlands 2 and i will murder ...  \n",
              "5    im getting into borderlands and i can murder y...  \n",
              "..                                                 ...  \n",
              "993  Please explain how this is possible! How can t...  \n",
              "994  Good on Sony. As much as I want to see the new...  \n",
              "997  Today sucked so it’s time to drink wine n play...  \n",
              "998  Bought a fraction of Microsoft today. Small wins.  \n",
              "999  Johnson & Johnson to stop selling talc baby po...  \n",
              "\n",
              "[61713 rows x 4 columns]"
            ],
            "text/html": [
              "\n",
              "  <div id=\"df-d1bb7fbf-b2f5-49db-9b59-2d368280018f\">\n",
              "    <div class=\"colab-df-container\">\n",
              "      <div>\n",
              "<style scoped>\n",
              "    .dataframe tbody tr th:only-of-type {\n",
              "        vertical-align: middle;\n",
              "    }\n",
              "\n",
              "    .dataframe tbody tr th {\n",
              "        vertical-align: top;\n",
              "    }\n",
              "\n",
              "    .dataframe thead th {\n",
              "        text-align: right;\n",
              "    }\n",
              "</style>\n",
              "<table border=\"1\" class=\"dataframe\">\n",
              "  <thead>\n",
              "    <tr style=\"text-align: right;\">\n",
              "      <th></th>\n",
              "      <th>ID</th>\n",
              "      <th>Entity</th>\n",
              "      <th>label</th>\n",
              "      <th>Feature</th>\n",
              "    </tr>\n",
              "  </thead>\n",
              "  <tbody>\n",
              "    <tr>\n",
              "      <th>1</th>\n",
              "      <td>2401</td>\n",
              "      <td>Borderlands</td>\n",
              "      <td>2</td>\n",
              "      <td>I am coming to the borders and I will kill you...</td>\n",
              "    </tr>\n",
              "    <tr>\n",
              "      <th>2</th>\n",
              "      <td>2401</td>\n",
              "      <td>Borderlands</td>\n",
              "      <td>2</td>\n",
              "      <td>im getting on borderlands and i will kill you ...</td>\n",
              "    </tr>\n",
              "    <tr>\n",
              "      <th>3</th>\n",
              "      <td>2401</td>\n",
              "      <td>Borderlands</td>\n",
              "      <td>2</td>\n",
              "      <td>im coming on borderlands and i will murder you...</td>\n",
              "    </tr>\n",
              "    <tr>\n",
              "      <th>4</th>\n",
              "      <td>2401</td>\n",
              "      <td>Borderlands</td>\n",
              "      <td>2</td>\n",
              "      <td>im getting on borderlands 2 and i will murder ...</td>\n",
              "    </tr>\n",
              "    <tr>\n",
              "      <th>5</th>\n",
              "      <td>2401</td>\n",
              "      <td>Borderlands</td>\n",
              "      <td>2</td>\n",
              "      <td>im getting into borderlands and i can murder y...</td>\n",
              "    </tr>\n",
              "    <tr>\n",
              "      <th>...</th>\n",
              "      <td>...</td>\n",
              "      <td>...</td>\n",
              "      <td>...</td>\n",
              "      <td>...</td>\n",
              "    </tr>\n",
              "    <tr>\n",
              "      <th>993</th>\n",
              "      <td>314</td>\n",
              "      <td>Amazon</td>\n",
              "      <td>1</td>\n",
              "      <td>Please explain how this is possible! How can t...</td>\n",
              "    </tr>\n",
              "    <tr>\n",
              "      <th>994</th>\n",
              "      <td>9701</td>\n",
              "      <td>PlayStation5(PS5)</td>\n",
              "      <td>2</td>\n",
              "      <td>Good on Sony. As much as I want to see the new...</td>\n",
              "    </tr>\n",
              "    <tr>\n",
              "      <th>997</th>\n",
              "      <td>2652</td>\n",
              "      <td>Borderlands</td>\n",
              "      <td>2</td>\n",
              "      <td>Today sucked so it’s time to drink wine n play...</td>\n",
              "    </tr>\n",
              "    <tr>\n",
              "      <th>998</th>\n",
              "      <td>8069</td>\n",
              "      <td>Microsoft</td>\n",
              "      <td>2</td>\n",
              "      <td>Bought a fraction of Microsoft today. Small wins.</td>\n",
              "    </tr>\n",
              "    <tr>\n",
              "      <th>999</th>\n",
              "      <td>6960</td>\n",
              "      <td>johnson&amp;johnson</td>\n",
              "      <td>0</td>\n",
              "      <td>Johnson &amp; Johnson to stop selling talc baby po...</td>\n",
              "    </tr>\n",
              "  </tbody>\n",
              "</table>\n",
              "<p>61713 rows × 4 columns</p>\n",
              "</div>\n",
              "      <button class=\"colab-df-convert\" onclick=\"convertToInteractive('df-d1bb7fbf-b2f5-49db-9b59-2d368280018f')\"\n",
              "              title=\"Convert this dataframe to an interactive table.\"\n",
              "              style=\"display:none;\">\n",
              "        \n",
              "  <svg xmlns=\"http://www.w3.org/2000/svg\" height=\"24px\"viewBox=\"0 0 24 24\"\n",
              "       width=\"24px\">\n",
              "    <path d=\"M0 0h24v24H0V0z\" fill=\"none\"/>\n",
              "    <path d=\"M18.56 5.44l.94 2.06.94-2.06 2.06-.94-2.06-.94-.94-2.06-.94 2.06-2.06.94zm-11 1L8.5 8.5l.94-2.06 2.06-.94-2.06-.94L8.5 2.5l-.94 2.06-2.06.94zm10 10l.94 2.06.94-2.06 2.06-.94-2.06-.94-.94-2.06-.94 2.06-2.06.94z\"/><path d=\"M17.41 7.96l-1.37-1.37c-.4-.4-.92-.59-1.43-.59-.52 0-1.04.2-1.43.59L10.3 9.45l-7.72 7.72c-.78.78-.78 2.05 0 2.83L4 21.41c.39.39.9.59 1.41.59.51 0 1.02-.2 1.41-.59l7.78-7.78 2.81-2.81c.8-.78.8-2.07 0-2.86zM5.41 20L4 18.59l7.72-7.72 1.47 1.35L5.41 20z\"/>\n",
              "  </svg>\n",
              "      </button>\n",
              "      \n",
              "  <style>\n",
              "    .colab-df-container {\n",
              "      display:flex;\n",
              "      flex-wrap:wrap;\n",
              "      gap: 12px;\n",
              "    }\n",
              "\n",
              "    .colab-df-convert {\n",
              "      background-color: #E8F0FE;\n",
              "      border: none;\n",
              "      border-radius: 50%;\n",
              "      cursor: pointer;\n",
              "      display: none;\n",
              "      fill: #1967D2;\n",
              "      height: 32px;\n",
              "      padding: 0 0 0 0;\n",
              "      width: 32px;\n",
              "    }\n",
              "\n",
              "    .colab-df-convert:hover {\n",
              "      background-color: #E2EBFA;\n",
              "      box-shadow: 0px 1px 2px rgba(60, 64, 67, 0.3), 0px 1px 3px 1px rgba(60, 64, 67, 0.15);\n",
              "      fill: #174EA6;\n",
              "    }\n",
              "\n",
              "    [theme=dark] .colab-df-convert {\n",
              "      background-color: #3B4455;\n",
              "      fill: #D2E3FC;\n",
              "    }\n",
              "\n",
              "    [theme=dark] .colab-df-convert:hover {\n",
              "      background-color: #434B5C;\n",
              "      box-shadow: 0px 1px 3px 1px rgba(0, 0, 0, 0.15);\n",
              "      filter: drop-shadow(0px 1px 2px rgba(0, 0, 0, 0.3));\n",
              "      fill: #FFFFFF;\n",
              "    }\n",
              "  </style>\n",
              "\n",
              "      <script>\n",
              "        const buttonEl =\n",
              "          document.querySelector('#df-d1bb7fbf-b2f5-49db-9b59-2d368280018f button.colab-df-convert');\n",
              "        buttonEl.style.display =\n",
              "          google.colab.kernel.accessAllowed ? 'block' : 'none';\n",
              "\n",
              "        async function convertToInteractive(key) {\n",
              "          const element = document.querySelector('#df-d1bb7fbf-b2f5-49db-9b59-2d368280018f');\n",
              "          const dataTable =\n",
              "            await google.colab.kernel.invokeFunction('convertToInteractive',\n",
              "                                                     [key], {});\n",
              "          if (!dataTable) return;\n",
              "\n",
              "          const docLinkHtml = 'Like what you see? Visit the ' +\n",
              "            '<a target=\"_blank\" href=https://colab.research.google.com/notebooks/data_table.ipynb>data table notebook</a>'\n",
              "            + ' to learn more about interactive tables.';\n",
              "          element.innerHTML = '';\n",
              "          dataTable['output_type'] = 'display_data';\n",
              "          await google.colab.output.renderOutput(dataTable, element);\n",
              "          const docLink = document.createElement('div');\n",
              "          docLink.innerHTML = docLinkHtml;\n",
              "          element.appendChild(docLink);\n",
              "        }\n",
              "      </script>\n",
              "    </div>\n",
              "  </div>\n",
              "  "
            ]
          },
          "metadata": {},
          "execution_count": 56
        }
      ],
      "source": [
        "headers=['ID','Entity','label','Feature']\n",
        "\n",
        "train_data = pd.read_csv(\"https://raw.githubusercontent.com/Zinwaiyan274/Twitter-Sentiment-Analysis/main/twitter_training.csv\", sep=',', names=headers)\n",
        "val_data = pd.read_csv(\"https://raw.githubusercontent.com/Zinwaiyan274/Twitter-Sentiment-Analysis/main/twitter_validation.csv\", sep=',', names=headers)\n",
        "\n",
        "df = train_data.append(val_data)\n",
        "# # df = train_data\n",
        "# df\n",
        "# # train data = df\n",
        "\n",
        "# # for train_df data\n",
        "\n",
        "df[\"label\"] = df[\"label\"].replace(\"Positive\" , int(\"2\"))\n",
        "df[\"label\"] = df[\"label\"].replace(\"Negative\", int(\"1\"))\n",
        "df[\"label\"] = df[\"label\"].replace(\"Neutral\", int(\"0\"))\n",
        "# df = df[df[\"label\"].str.contains(\"Irrelevant\") == False]\n",
        "df.drop(df.loc[df['label']== \"Irrelevant\"].index, inplace=True)\n",
        "df.dropna()"
      ]
    },
    {
      "cell_type": "code",
      "source": [
        "val_data[\"label\"] = val_data[\"label\"].replace(\"Positive\" , int(\"2\"))\n",
        "val_data[\"label\"] = val_data[\"label\"].replace(\"Negative\", int(\"1\"))\n",
        "val_data[\"label\"] = val_data[\"label\"].replace(\"Neutral\", int(\"0\"))\n",
        "val_data.drop(val_data.loc[val_data['label']== \"Irrelevant\"].index, inplace=True)\n",
        "\n",
        "\n",
        "\n",
        "\n",
        "val_label = val_data.label\n",
        "val_Feature = val_data.Feature\n",
        "val_Feature.shape, val_label.shape\n",
        "val_label\n",
        "\n"
      ],
      "metadata": {
        "colab": {
          "base_uri": "https://localhost:8080/"
        },
        "id": "hWm4tClzcNWb",
        "outputId": "b1b5c2f5-34ca-4f84-8231-2d1b55201b81"
      },
      "execution_count": null,
      "outputs": [
        {
          "output_type": "execute_result",
          "data": {
            "text/plain": [
              "1      0\n",
              "2      1\n",
              "3      1\n",
              "4      0\n",
              "5      1\n",
              "      ..\n",
              "993    1\n",
              "994    2\n",
              "997    2\n",
              "998    2\n",
              "999    0\n",
              "Name: label, Length: 828, dtype: object"
            ]
          },
          "metadata": {},
          "execution_count": 57
        }
      ]
    },
    {
      "cell_type": "code",
      "source": [
        "val_Feature"
      ],
      "metadata": {
        "colab": {
          "base_uri": "https://localhost:8080/"
        },
        "id": "HEU5IMJEcs64",
        "outputId": "1ab2ad25-4b88-4f95-c4b0-fd85bf3eb5e4"
      },
      "execution_count": null,
      "outputs": [
        {
          "output_type": "execute_result",
          "data": {
            "text/plain": [
              "1      BBC News - Amazon boss Jeff Bezos rejects clai...\n",
              "2      @Microsoft Why do I pay for WORD when it funct...\n",
              "3      CSGO matchmaking is so full of closet hacking,...\n",
              "4      Now the President is slapping Americans in the...\n",
              "5      Hi @EAHelp I’ve had Madeleine McCann in my cel...\n",
              "                             ...                        \n",
              "993    Please explain how this is possible! How can t...\n",
              "994    Good on Sony. As much as I want to see the new...\n",
              "997    Today sucked so it’s time to drink wine n play...\n",
              "998    Bought a fraction of Microsoft today. Small wins.\n",
              "999    Johnson & Johnson to stop selling talc baby po...\n",
              "Name: Feature, Length: 828, dtype: object"
            ]
          },
          "metadata": {},
          "execution_count": 58
        }
      ]
    },
    {
      "cell_type": "code",
      "execution_count": null,
      "metadata": {
        "colab": {
          "base_uri": "https://localhost:8080/"
        },
        "id": "s-b286_PFV7D",
        "outputId": "91c7601a-c2a5-49f6-e38b-aa8ab54e3651"
      },
      "outputs": [
        {
          "output_type": "execute_result",
          "data": {
            "text/plain": [
              "1      I am coming to the borders and I will kill you...\n",
              "2      im getting on borderlands and i will kill you ...\n",
              "3      im coming on borderlands and i will murder you...\n",
              "4      im getting on borderlands 2 and i will murder ...\n",
              "5      im getting into borderlands and i can murder y...\n",
              "                             ...                        \n",
              "993    Please explain how this is possible! How can t...\n",
              "994    Good on Sony. As much as I want to see the new...\n",
              "997    Today sucked so it’s time to drink wine n play...\n",
              "998    Bought a fraction of Microsoft today. Small wins.\n",
              "999    Johnson & Johnson to stop selling talc baby po...\n",
              "Name: Feature, Length: 62284, dtype: object"
            ]
          },
          "metadata": {},
          "execution_count": 59
        }
      ],
      "source": [
        "df.Feature"
      ]
    },
    {
      "cell_type": "code",
      "execution_count": null,
      "metadata": {
        "colab": {
          "base_uri": "https://localhost:8080/"
        },
        "id": "chFApJAMaCH3",
        "outputId": "81043403-a1b5-40f6-a666-bbdd7121a78a"
      },
      "outputs": [
        {
          "output_type": "execute_result",
          "data": {
            "text/plain": [
              "1      2\n",
              "2      2\n",
              "3      2\n",
              "4      2\n",
              "5      2\n",
              "      ..\n",
              "993    1\n",
              "994    2\n",
              "997    2\n",
              "998    2\n",
              "999    0\n",
              "Name: label, Length: 62284, dtype: object"
            ]
          },
          "metadata": {},
          "execution_count": 60
        }
      ],
      "source": [
        "df[\"label\"]"
      ]
    },
    {
      "cell_type": "code",
      "execution_count": null,
      "metadata": {
        "colab": {
          "base_uri": "https://localhost:8080/"
        },
        "id": "Ac96F6fJO-7T",
        "outputId": "6d36cb89-3674-44ce-f42a-a9a941dba9f3"
      },
      "outputs": [
        {
          "output_type": "execute_result",
          "data": {
            "text/plain": [
              "(62284, 62284)"
            ]
          },
          "metadata": {},
          "execution_count": 61
        }
      ],
      "source": [
        "len(df.Feature), len(df[\"label\"])"
      ]
    },
    {
      "cell_type": "code",
      "execution_count": null,
      "metadata": {
        "colab": {
          "base_uri": "https://localhost:8080/",
          "height": 424
        },
        "id": "xws9l0qbiKRz",
        "outputId": "c84e22b3-98ff-46fb-a5fa-e508172abb21"
      },
      "outputs": [
        {
          "output_type": "execute_result",
          "data": {
            "text/plain": [
              "     0  1  2\n",
              "1    0  0  1\n",
              "2    0  0  1\n",
              "3    0  0  1\n",
              "4    0  0  1\n",
              "5    0  0  1\n",
              "..  .. .. ..\n",
              "993  0  1  0\n",
              "994  0  0  1\n",
              "997  0  0  1\n",
              "998  0  0  1\n",
              "999  1  0  0\n",
              "\n",
              "[62284 rows x 3 columns]"
            ],
            "text/html": [
              "\n",
              "  <div id=\"df-7d932e9f-c173-4988-8302-42152ff853f2\">\n",
              "    <div class=\"colab-df-container\">\n",
              "      <div>\n",
              "<style scoped>\n",
              "    .dataframe tbody tr th:only-of-type {\n",
              "        vertical-align: middle;\n",
              "    }\n",
              "\n",
              "    .dataframe tbody tr th {\n",
              "        vertical-align: top;\n",
              "    }\n",
              "\n",
              "    .dataframe thead th {\n",
              "        text-align: right;\n",
              "    }\n",
              "</style>\n",
              "<table border=\"1\" class=\"dataframe\">\n",
              "  <thead>\n",
              "    <tr style=\"text-align: right;\">\n",
              "      <th></th>\n",
              "      <th>0</th>\n",
              "      <th>1</th>\n",
              "      <th>2</th>\n",
              "    </tr>\n",
              "  </thead>\n",
              "  <tbody>\n",
              "    <tr>\n",
              "      <th>1</th>\n",
              "      <td>0</td>\n",
              "      <td>0</td>\n",
              "      <td>1</td>\n",
              "    </tr>\n",
              "    <tr>\n",
              "      <th>2</th>\n",
              "      <td>0</td>\n",
              "      <td>0</td>\n",
              "      <td>1</td>\n",
              "    </tr>\n",
              "    <tr>\n",
              "      <th>3</th>\n",
              "      <td>0</td>\n",
              "      <td>0</td>\n",
              "      <td>1</td>\n",
              "    </tr>\n",
              "    <tr>\n",
              "      <th>4</th>\n",
              "      <td>0</td>\n",
              "      <td>0</td>\n",
              "      <td>1</td>\n",
              "    </tr>\n",
              "    <tr>\n",
              "      <th>5</th>\n",
              "      <td>0</td>\n",
              "      <td>0</td>\n",
              "      <td>1</td>\n",
              "    </tr>\n",
              "    <tr>\n",
              "      <th>...</th>\n",
              "      <td>...</td>\n",
              "      <td>...</td>\n",
              "      <td>...</td>\n",
              "    </tr>\n",
              "    <tr>\n",
              "      <th>993</th>\n",
              "      <td>0</td>\n",
              "      <td>1</td>\n",
              "      <td>0</td>\n",
              "    </tr>\n",
              "    <tr>\n",
              "      <th>994</th>\n",
              "      <td>0</td>\n",
              "      <td>0</td>\n",
              "      <td>1</td>\n",
              "    </tr>\n",
              "    <tr>\n",
              "      <th>997</th>\n",
              "      <td>0</td>\n",
              "      <td>0</td>\n",
              "      <td>1</td>\n",
              "    </tr>\n",
              "    <tr>\n",
              "      <th>998</th>\n",
              "      <td>0</td>\n",
              "      <td>0</td>\n",
              "      <td>1</td>\n",
              "    </tr>\n",
              "    <tr>\n",
              "      <th>999</th>\n",
              "      <td>1</td>\n",
              "      <td>0</td>\n",
              "      <td>0</td>\n",
              "    </tr>\n",
              "  </tbody>\n",
              "</table>\n",
              "<p>62284 rows × 3 columns</p>\n",
              "</div>\n",
              "      <button class=\"colab-df-convert\" onclick=\"convertToInteractive('df-7d932e9f-c173-4988-8302-42152ff853f2')\"\n",
              "              title=\"Convert this dataframe to an interactive table.\"\n",
              "              style=\"display:none;\">\n",
              "        \n",
              "  <svg xmlns=\"http://www.w3.org/2000/svg\" height=\"24px\"viewBox=\"0 0 24 24\"\n",
              "       width=\"24px\">\n",
              "    <path d=\"M0 0h24v24H0V0z\" fill=\"none\"/>\n",
              "    <path d=\"M18.56 5.44l.94 2.06.94-2.06 2.06-.94-2.06-.94-.94-2.06-.94 2.06-2.06.94zm-11 1L8.5 8.5l.94-2.06 2.06-.94-2.06-.94L8.5 2.5l-.94 2.06-2.06.94zm10 10l.94 2.06.94-2.06 2.06-.94-2.06-.94-.94-2.06-.94 2.06-2.06.94z\"/><path d=\"M17.41 7.96l-1.37-1.37c-.4-.4-.92-.59-1.43-.59-.52 0-1.04.2-1.43.59L10.3 9.45l-7.72 7.72c-.78.78-.78 2.05 0 2.83L4 21.41c.39.39.9.59 1.41.59.51 0 1.02-.2 1.41-.59l7.78-7.78 2.81-2.81c.8-.78.8-2.07 0-2.86zM5.41 20L4 18.59l7.72-7.72 1.47 1.35L5.41 20z\"/>\n",
              "  </svg>\n",
              "      </button>\n",
              "      \n",
              "  <style>\n",
              "    .colab-df-container {\n",
              "      display:flex;\n",
              "      flex-wrap:wrap;\n",
              "      gap: 12px;\n",
              "    }\n",
              "\n",
              "    .colab-df-convert {\n",
              "      background-color: #E8F0FE;\n",
              "      border: none;\n",
              "      border-radius: 50%;\n",
              "      cursor: pointer;\n",
              "      display: none;\n",
              "      fill: #1967D2;\n",
              "      height: 32px;\n",
              "      padding: 0 0 0 0;\n",
              "      width: 32px;\n",
              "    }\n",
              "\n",
              "    .colab-df-convert:hover {\n",
              "      background-color: #E2EBFA;\n",
              "      box-shadow: 0px 1px 2px rgba(60, 64, 67, 0.3), 0px 1px 3px 1px rgba(60, 64, 67, 0.15);\n",
              "      fill: #174EA6;\n",
              "    }\n",
              "\n",
              "    [theme=dark] .colab-df-convert {\n",
              "      background-color: #3B4455;\n",
              "      fill: #D2E3FC;\n",
              "    }\n",
              "\n",
              "    [theme=dark] .colab-df-convert:hover {\n",
              "      background-color: #434B5C;\n",
              "      box-shadow: 0px 1px 3px 1px rgba(0, 0, 0, 0.15);\n",
              "      filter: drop-shadow(0px 1px 2px rgba(0, 0, 0, 0.3));\n",
              "      fill: #FFFFFF;\n",
              "    }\n",
              "  </style>\n",
              "\n",
              "      <script>\n",
              "        const buttonEl =\n",
              "          document.querySelector('#df-7d932e9f-c173-4988-8302-42152ff853f2 button.colab-df-convert');\n",
              "        buttonEl.style.display =\n",
              "          google.colab.kernel.accessAllowed ? 'block' : 'none';\n",
              "\n",
              "        async function convertToInteractive(key) {\n",
              "          const element = document.querySelector('#df-7d932e9f-c173-4988-8302-42152ff853f2');\n",
              "          const dataTable =\n",
              "            await google.colab.kernel.invokeFunction('convertToInteractive',\n",
              "                                                     [key], {});\n",
              "          if (!dataTable) return;\n",
              "\n",
              "          const docLinkHtml = 'Like what you see? Visit the ' +\n",
              "            '<a target=\"_blank\" href=https://colab.research.google.com/notebooks/data_table.ipynb>data table notebook</a>'\n",
              "            + ' to learn more about interactive tables.';\n",
              "          element.innerHTML = '';\n",
              "          dataTable['output_type'] = 'display_data';\n",
              "          await google.colab.output.renderOutput(dataTable, element);\n",
              "          const docLink = document.createElement('div');\n",
              "          docLink.innerHTML = docLinkHtml;\n",
              "          element.appendChild(docLink);\n",
              "        }\n",
              "      </script>\n",
              "    </div>\n",
              "  </div>\n",
              "  "
            ]
          },
          "metadata": {},
          "execution_count": 62
        }
      ],
      "source": [
        "# X = df.Feature\n",
        "\n",
        "# df['label']\n",
        "Y = df['label']\n",
        "Y = pd.get_dummies(Y)\n",
        "# Y = Y.iloc[:20401] \n",
        "Y"
      ]
    },
    {
      "cell_type": "code",
      "execution_count": null,
      "metadata": {
        "colab": {
          "base_uri": "https://localhost:8080/"
        },
        "id": "ShrJC7lLEOmj",
        "outputId": "230c9d70-e548-4b9a-82da-73b2f0c01300"
      },
      "outputs": [
        {
          "output_type": "stream",
          "name": "stderr",
          "text": [
            "[nltk_data] Downloading package stopwords to /root/nltk_data...\n",
            "[nltk_data]   Package stopwords is already up-to-date!\n"
          ]
        },
        {
          "output_type": "stream",
          "name": "stdout",
          "text": [
            "Looking in indexes: https://pypi.org/simple, https://us-python.pkg.dev/colab-wheels/public/simple/\n",
            "Requirement already satisfied: emoji in /usr/local/lib/python3.7/dist-packages (2.1.0)\n"
          ]
        }
      ],
      "source": [
        "import re\n",
        "REPLACE_WITH_SPACE = re.compile(\"(@)\")\n",
        "SPACE = \" \"\n",
        "\n",
        "\n",
        "\n",
        "# How about stop words??\n",
        "\n",
        "import nltk\n",
        "nltk.download('stopwords')\n",
        "stemmer = nltk.SnowballStemmer(\"english\")\n",
        "from nltk.corpus import stopwords\n",
        "import string\n",
        "stopword=set(stopwords.words('english'))\n",
        "\n",
        "def clean(text):  \n",
        "    text = str(text).lower()\n",
        "    text = re.sub('\\[.*?\\]', '', text)\n",
        "    text = re.sub('https?://\\S+|www\\.\\S+', '', text)\n",
        "    text = re.sub('<.*?>+', '', text)\n",
        "    text = re.sub('[%s]' % re.escape(string.punctuation), '', text)\n",
        "    text = re.sub('\\n', '', text)\n",
        "    text = re.sub('\\w*\\d\\w*', '', text)\n",
        "    text = [word for word in text.split(' ') if word not in stopword]\n",
        "    text=\" \".join(text)\n",
        "    text = [stemmer.stem(word) for word in text.split(' ')]\n",
        "    text=\" \".join(text)\n",
        "    return text\n",
        "\n",
        "\n",
        "\n",
        "from nltk.parse.transitionparser import remove\n",
        "\n",
        "\n",
        "\n",
        "#remove link\n",
        "def remove_links(tweet):\n",
        "    tweet = re.sub(r'http\\S+', '', tweet) # remove http links\n",
        "    tweet = re.sub(r'bit.ly/\\S+', '', tweet) # rempve bitly links\n",
        "    tweet = tweet.strip('[link]') # remove [links]\n",
        "    return tweet\n",
        "\n",
        "\n",
        "\n",
        "# # df['Feature']= df[\"Feature\"].apply(preprocess_reviews)\n",
        "# df['Feature']= df[\"Feature\"].apply(clean)\n",
        "# # df['Feature']= df[\"Feature\"].apply(preprocess)\n",
        "# df['Feature']= df[\"Feature\"].apply(remove_links)\n",
        "\n",
        "\n",
        "\n",
        "#remove twitter user ( acc username)\n",
        "def remove_users(tweet):\n",
        "    '''Takes a string and removes retweet and @user information'''\n",
        "    tweet = re.sub('(RT\\s@[A-Za-z]+[A-Za-z0-9-_]+)', '', tweet) # remove retweet\n",
        "    tweet = re.sub('(@[A-Za-z]+[A-Za-z0-9-_]+)', '', tweet) # remove tweeted at\n",
        "    return tweet\n",
        "\n",
        "\n",
        "# df['Feature']= df[\"Feature\"].apply(remove_users)\n",
        "\n",
        "\n",
        "\n",
        "#remove punctuation\n",
        "my_punctuation = '!\"$%&\\'()*+,-./:;<=>?[\\\\]^_`{|}~•@'\n",
        "def preprocess(sent):\n",
        "    sent = remove_users(sent)\n",
        "    sent = remove_links(sent)\n",
        "    sent = sent.lower()\n",
        "    sent = re.sub('['+my_punctuation + ']+', ' ', sent) # strip punctuation\n",
        "    sent = re.sub('\\s+', ' ', sent) #remove double spacing\n",
        "    sent = re.sub('([0-9]+)', '', sent) # remove numbers\n",
        "    sent_token_list = [word for word in sent.split(' ')]\n",
        "    sent = ' '.join(sent_token_list)\n",
        "    return sent\n",
        "\n",
        "# df['Feature']= df[\"Feature\"].apply(preprocess)\n",
        "\n",
        "\n",
        "\n",
        "# remove emoticons\n",
        "\n",
        "\n",
        "!pip install emoji\n",
        "import emoji\n",
        "import regex as re\n",
        "# import renew_tweet\n",
        "import sys\n",
        "def remove_emoji(text):\n",
        "    emoji_pattern = re.compile(\"[\"\n",
        "                           u\"\\U0001F600-\\U0001F64F\"  # emoticons\n",
        "                           u\"\\U0001F300-\\U0001F5FF\"  # symbols & pictographs\n",
        "                           u\"\\U0001F680-\\U0001F6FF\"  # transport & map symbols\n",
        "                           u\"\\U0001F1E0-\\U0001F1FF\"  # flags \n",
        "                           u\"\\U00002702-\\U000027B0\"\n",
        "                           u\"\\U000024C2-\\U0001F251\"\n",
        "                           \"]+\", flags=re.UNICODE)\n",
        "    return emoji_pattern.sub(r'', text)\n",
        "\n",
        "\n",
        "# df['Feature']= df[\"Feature\"].apply(remove_emoji)\n",
        "\n",
        "import re\n",
        "from nltk.stem.porter import *\n",
        "from nltk.corpus import stopwords\n",
        "\n",
        "def tweet_to_words(tweet):\n",
        "    ''' Convert tweet text into a sequence of words '''\n",
        "    \n",
        "    # convert to lowercase\n",
        "    text = tweet.lower()\n",
        "    # remove non letters\n",
        "    text = re.sub(r\"[^a-zA-Z0-9]\", \" \", text)\n",
        "    # tokenize\n",
        "    words = text.split()\n",
        "    # remove stopwords\n",
        "    words = [w for w in words if w not in stopwords.words(\"english\")]\n",
        "    # apply stemming\n",
        "    words = [PorterStemmer().stem(w) for w in words]\n",
        "    # return list\n",
        "    return words\n",
        "\n",
        "# df['Feature']= df[\"Feature\"].apply(tweet_to_words)\n"
      ]
    },
    {
      "cell_type": "code",
      "execution_count": null,
      "metadata": {
        "colab": {
          "base_uri": "https://localhost:8080/"
        },
        "id": "LhOS38a1iRQX",
        "outputId": "b146e61d-195f-49fa-e0c4-2a60e75a1b55"
      },
      "outputs": [
        {
          "output_type": "execute_result",
          "data": {
            "text/plain": [
              "7506     used cheats on my smurf account. did an overwa...\n",
              "26601      I have NEVER played an Apollo Creed Game... but\n",
              "32086    dont forget and tpci is partnering with t * h ...\n",
              "28317    Thank u @excalibagel uwu.. 4 fave games.. -Hal...\n",
              "24597          fuck you google! pic.twitter.com/wo7ntZsGNL\n",
              "                               ...                        \n",
              "66808    Richard Johnson & Martin Johnson working on va...\n",
              "47221    Me Too by Meghan Trainor is set in this Home D...\n",
              "1139                                    then want to thank\n",
              "19452                           LOVE my Warcraft fam!!! . \n",
              "69271    That sucks. If you say that CD Project Red can...\n",
              "Name: Feature, Length: 41730, dtype: object"
            ]
          },
          "metadata": {},
          "execution_count": 64
        }
      ],
      "source": [
        "from tensorflow.keras.utils import pad_sequences\n",
        "from tensorflow.keras.preprocessing.text import Tokenizer\n",
        "from sklearn.model_selection import train_test_split\n",
        "\n",
        "from keras.preprocessing.text import Tokenizer\n",
        "from keras.utils import pad_sequences\n",
        "X_train, X_test, Y_train, Y_test = train_test_split(df[\"Feature\"],Y, test_size = 0.33, random_state = 42)\n",
        "X_test, X_val, y_test, y_val = train_test_split(X_train,Y_train, train_size = 0.75)\n",
        "#train\n",
        "\n",
        "\n",
        "X_train\n",
        "\n",
        "\n",
        "\n"
      ]
    },
    {
      "cell_type": "code",
      "execution_count": null,
      "metadata": {
        "id": "0yy4UAjfzojG"
      },
      "outputs": [],
      "source": [
        "import pickle\n",
        "\n",
        "# loading\n",
        "with open('/content/drive/MyDrive/TSA_pj/tokenizer.pickle', 'rb') as handle:\n",
        "    tokenizer = pickle.load(handle)\n",
        "\n",
        "import tensorflow\n",
        "from tensorflow.keras.models import load_model\n",
        "model_file = \"/content/drive/MyDrive/TSA_pj/1st_model (1).h5\"\n",
        "model = tensorflow.keras.models.load_model(model_file)"
      ]
    },
    {
      "cell_type": "markdown",
      "metadata": {
        "id": "LUqdPjiwK1Vd"
      },
      "source": [
        "#Testing"
      ]
    },
    {
      "cell_type": "code",
      "source": [
        "F =  df[\"Feature\"]\n",
        "# F = F.head()\n",
        "F = F.to_list()\n",
        "# X = F.tolist()\n",
        "F\n"
      ],
      "metadata": {
        "id": "W8FfumSNaqzc",
        "colab": {
          "base_uri": "https://localhost:8080/"
        },
        "outputId": "417d4f12-2250-4af8-dad2-19e19900d268"
      },
      "execution_count": null,
      "outputs": [
        {
          "output_type": "execute_result",
          "data": {
            "text/plain": [
              "['I am coming to the borders and I will kill you all,',\n",
              " 'im getting on borderlands and i will kill you all,',\n",
              " 'im coming on borderlands and i will murder you all,',\n",
              " 'im getting on borderlands 2 and i will murder you me all,',\n",
              " 'im getting into borderlands and i can murder you all,',\n",
              " \"So I spent a few hours making something for fun. . . If you don't know I am a HUGE @Borderlands fan and Maya is one of my favorite characters. So I decided to make myself a wallpaper for my PC. . Here is the original image versus the creation I made :) Enjoy! pic.twitter.com/mLsI5wf9Jg\",\n",
              " \"So I spent a couple of hours doing something for fun... If you don't know that I'm a huge @ Borderlands fan and Maya is one of my favorite characters, I decided to make a wallpaper for my PC.. Here's the original picture compared to the creation I made:) Have fun! pic.twitter.com / mLsI5wf9Jg\",\n",
              " \"So I spent a few hours doing something for fun... If you don't know I'm a HUGE @ Borderlands fan and Maya is one of my favorite characters.\",\n",
              " \"So I spent a few hours making something for fun. . . If you don't know I am a HUGE RhandlerR fan and Maya is one of my favorite characters. So I decided to make myself a wallpaper for my PC. . Here is the original image versus the creation I made :) Enjoy! pic.twitter.com/mLsI5wf9Jg\",\n",
              " \"2010 So I spent a few hours making something for fun. . . If you don't know I am a HUGE RhandlerR fan and Maya is one of my favorite characters. So I decided to make myself a wallpaper for my PC. . Here is the original image versus the creation I made :) Enjoy! pic.twitter.com/mLsI5wf9Jg\",\n",
              " 'was',\n",
              " 'Rock-Hard La Varlope, RARE & POWERFUL, HANDSOME JACKPOT, Borderlands 3 (Xbox) dlvr.it/RMTrgF  ',\n",
              " 'Rock-Hard La Varlope, RARE & POWERFUL, HANDSOME JACKPOT, Borderlands 3 (Xbox) dlvr.it / RMTrgF',\n",
              " 'Rock-Hard La Varlope, RARE & POWERFUL, HANDSOME JACKPOT, Borderlands 3 (Xbox) dfr.it / RMTrgF',\n",
              " 'Rock-Hard La Vita, RARE BUT POWERFUL, HANDSOME JACKPOT, Borderlands 1 (Xbox) dlvr.it/RMTrgF',\n",
              " 'Live Rock - Hard music La la Varlope, RARE & the POWERFUL, Live HANDSOME i JACKPOT, Borderlands 3 ( Sega Xbox ) dlvr. From it / e RMTrgF',\n",
              " 'I-Hard like me, RARE LONDON DE, HANDSOME 2011, Borderlands 3 (Xbox) dlvr.it/RMTrgF',\n",
              " 'that was the first borderlands session in a long time where i actually had a really satisfying combat experience. i got some really good kills',\n",
              " 'this was the first Borderlands session in a long time where i actually had a really satisfying fighting experience. i got some really good kills',\n",
              " 'that was the first borderlands session in a long time where i actually had a really satisfying combat experience. i got some really good kills',\n",
              " 'that was the first borderlands session in a long time where i actually enjoyed a really satisfying combat experience. i got some rather good kills',\n",
              " 'that was the first borderlands session in a hot row where i actually had a really bad combat experience. i did some really good kills',\n",
              " 'the biggest dissappoinment in my life came out a year ago fuck borderlands 3',\n",
              " 'The biggest disappointment of my life came a year ago.',\n",
              " 'The biggest disappointment of my life came a year ago.',\n",
              " 'the biggest dissappoinment in my life came back last year ago fuck borderlands last',\n",
              " 'WE FINISHED BORDERLANDS 3 FINALLY YAS! Thank you for hanging out everyone! It was fun. I will try to stream tomorrow but if not I might so some IRL streams while awayu. We shall see. Thank you so much for the raids @mompou_mumpow @MegaMagwitch and @KfdMitch.',\n",
              " \"WE FINALLY FINALLY FIND BORDERLANDS 3 YES! Thank you all for hanging out! It was fun. I'll try to stream tomorrow, but if not, maybe some IRL streams. We'll see. Thanks for the raids @ mompou _ mumpow @ MegaMagwitch and @ KfdMitch.\",\n",
              " \"Thank you for hanging up everyone! It was fun. I'll try to get a haircut tomorrow, but if it wasn't for me, some IRL streams would still be in Hawaii. We'll see. Thank you so much for the @ mompou _ mumpow @ MegaMagwife and @ fendMitch raids.\",\n",
              " 'WE FINISHED BORDERLANDS 3 UPDATE YAS! Thank you for hanging out guys! It was fun. I will try to stream and even if not I might so some IRL streams while awayu. We shall go. Thank you so much for the raids @mompou_mumpow @MegaMagwitch and Hope.',\n",
              " 'WE FINISHED BORDERLANDS 3 AND FINALLY YAS! Thank you everyone for hanging out everyone! It was fun. I will try to make stream tomorrow but if not I might make so some IRL streams while awayu. 10 We never shall see. Thank you both so... much for the raids @mompou_mumpow or @MegaMagwitch and 4 @KfdMitch.',\n",
              " 'WE FINISHED BORDERLANDS 3 FINALLY YAS! Hey you for hanging out so! It was fun. I will try that stream tomorrow and if not I might use some IRL streams from awayu. We shall see. Thank you so much how many raids @mompou_mumpow did and their.',\n",
              " 'Man Gearbox really needs to fix this dissapointing drops in the new Borderlands 3 DLC cant be fine to farm bosses on Mayhem 10 to get 1 legendary drop while anywhere else i get 6-10 drops. . Really sucks alot',\n",
              " 'Man Gearbox really needs to fix this disssapointing drops in the new Borderlands 3 DLC cant be fine to farm bosses on Mayhem 10 to get 1 legendary drop while elsewhere i get 6-10 drops... Really sucks alot',\n",
              " 'Man Bethesda really needs to fix this dissapointing drops and the new Borderlands 3 It cant be fine to farm bosses on Mayhem 10 to get 1 legendary drop while anywhere else i get 6-10 drops.. Really sucks...',\n",
              " 'Man Gearbox really needs to fix this dissapointing drops in the completely new Borderlands 3 Days DLC i cant e be fine having to be farm bosses on Mayhem 10 to e get 1 legendary foot drop while anywhere else i get 6 - 10 drops.. It Really sucks to alot',\n",
              " '<unk> Gearbox really time to fix this 10 drops in the new Borderlands 3 DLC or be fine to force bosses on Mayhem 10 to get a legendary drop while everyone else i get 6-10 drops.. Really needs alot',\n",
              " 'Check out this epic streamer!.  ',\n",
              " 'Check out this epic streamer!.',\n",
              " 'Watch this epic striptease!.',\n",
              " 'Check out our epic streamer!.',\n",
              " 'Check out this big epic streamer!.',\n",
              " 'Check<unk> this epic streamer!.',\n",
              " \"Blaming Sight for Tardiness! A little bit of borderlands. I got called in early for work tomorrow so I can't make up time. Sorry my loves .  twitch.tv/punnisenpai\",\n",
              " \"A bit of borderland. I was called to work tomorrow morning, so I can't catch up. Sorry, my love. twitch.tv / punnisenpai\",\n",
              " \"Guilty of sobriety! A bit of a borderline. I was called to work early tomorrow, so I can't catch up.\",\n",
              " \"Blaming Sight for Tardiness! A little bit of borderlands. I got called in early for work tomorrow so I can't make up time. Sorry my loves .  twitch.tv/punnisenpai\",\n",
              " \"for Blaming Sight for Tardiness! A little bit of borderlands. I got called in early for work tomorrow so I can't make up time. Sorry my loves .  twitch.tv/punnisenpai\",\n",
              " 'all',\n",
              " 'why does like every man in borderlands have slicked back hair haven’t you heard of bangs you stupid assholes',\n",
              " 'Why, like every man in border countries, have you not heard of bangs, you stupid assholes?',\n",
              " 'Why, like everyone else in the border countries, have your hair fallen off, have you not heard that you are stupid aliens?',\n",
              " 'why does like<unk> man in borderlands have slicked back hair or you heard of bangs you stupid assholes',\n",
              " 'why Beth does like every man in borderlands have she slicked that back hair haven ’ t you heard enough of gray bangs you stupid assholes',\n",
              " ' . . [  ',\n",
              " nan,\n",
              " '.. [',\n",
              " '.. [',\n",
              " '.. what',\n",
              " \"Going to finish up Borderlands 2 today. I've got some new commands set up and am looking forward to a good stream! Starting in about am hour!\",\n",
              " \"I'm going to finish Borderlands 2 today. I have some new commands installed and I'm looking forward to a good stream!\",\n",
              " \"Going to finish up Borderlands 2 today. I've got some new events set up and am look forward to a good stream! Starting in about 20 hour!\",\n",
              " \"Going to finish finish cleaning up Borderlands 2 today. I've just got her some new commands set all up and am looking forward it to a good stream! Starting in about am hour!\",\n",
              " \"Going to finish up volume 2 today. I've got some awesome server set up and is looking forward to a good stream! Starting in about am hour!\",\n",
              " \"imma probably play some borderlands tps in a bit . that'll be fun\",\n",
              " 'imma is probably playing a bit of borderland tps. That will be fun.',\n",
              " \"imma will probably play some border tps in a bit. It's going to be fun\",\n",
              " \"for imma probably play some borderlands tps in a bit. that'yer ll be a fun\",\n",
              " 'One of our own @ProfZeroo is live w/ @borderlands 3‼.  .  . . Catch him here: buff.ly/2WmmiP5 . . Say \"Streamer Shouts\" in chat for a chance to be in a coming. @streamer_shouts Shout Out. . .  ',\n",
              " 'One of our own @ ProfZeroo is live w / @ borderlands 3.... catch him here: buff.ly / 2WmmiP5.. Say \"Streamer Shouts\" in chat for a chance to be in an upcoming one. @ streamer _ shouts Shout Out...',\n",
              " 'One of our own @ ProfZero - live w / @ borderlands 3.... Catch him here: buff.ly / 2WmmiP5... Say \"Stream Shouts\" in chat for a chat for a chance to be in a coming. @ stream _ Shouts Shout Out....',\n",
              " 'One of our own @ProfZeroo is live >/ @borderlands 3‼. . !. Catch him here: buff.ly/2WmmiP5 p. Say some Shouts\" in chat – a chance to be in a coming. Also Shout Out...',\n",
              " 'One of our shows own @ProfZeroo is live via w / at @borderlands 3 and [UNK].... Catch him here : the buff. ly / to 2WmmiP5.. to Say \" Streamer Shouts \" in chat for a chance to officially be in a series coming. @streamer_shouts 1 Shout Out...',\n",
              " 'One of its own movies is live w/ @ProfZeroo 3!!.... Catch him from: buff.ly/2WmmiP5.. for \"Streamer Shouts\" in invitation or a chance to be out a coming. All 3 invites...',\n",
              " 'FUCK YESSSSSSSS . ',\n",
              " 'FICK YESSSSSS.',\n",
              " 'FUCK YESSSSSSSS.',\n",
              " 'A FUCK... YESSSSSSSS.',\n",
              " 'FUCK YOU.',\n",
              " 'I hate that this easy mayhem modifier event on mayhem won’t last forever. this is the most fun i’ve had in the game since they added them horrible modifiers. @Borderlands please give me the option to play mayhem 10 but turn the modifiers off PLS',\n",
              " \"I hate that this simple Chaos Modifier event on Chaos won't last forever. That's the most fun I've had in the game since they added terrible modifiers. @ Borderlands please give me the option to play Chaos 10 but turn off the modifiers.\",\n",
              " \"I hate that this easy mayhem modifier event on mayhem won't last forever. this is the most fun i've had in the game since they added them horrible modifiers. @ Borderlands please give me the option to play mayhem 10 but turn the modifiers off PLS\",\n",
              " 'I hate that this easy horrible modifier event on game 10 last forever. That is the best fun i’ve taken in the past until they added them horrible modifiers. @Borderlands please send me the option to play mayhem 10 but turn the modifiers for PLS',\n",
              " 'Grounded almost looked pretty cool even despite the borderlands tier unfunny writing until it became yet another survival crafting game. I really can’t wait for this shitty trend to die',\n",
              " \"Grounded looked cool despite the borderline unfunny writing, until it became another survival crafting game. I really can't wait for this crappy trend to die.\",\n",
              " \"Grosskreutz looked pretty cool, even despite the unfunny spelling, until it turned into another survival game. I really can't wait for this crap trend to die\",\n",
              " 'Grounded almost looked pretty cool here despite the borderlands tier unfunny writing until it became yet an survival crafting game. I really can’t wait for this shitty mod to die',\n",
              " 'Deep Grounded almost looked pretty cool even despite the borderlands fifth tier unfunny writing format until ultimately it became yet another survival crafting mobile game. I really can ’ t wait for this shitty trend starting to... die',\n",
              " 'Grounded almost was pretty cool even despite the top tier unfunny writing until we became yet another annoying crafting game. I seriously can’t wait on this shitty trend to die',\n",
              " \"@Borderlands how do I submit a complaint? Your CEO isn't paying his staff their bonuses.\",\n",
              " \"@ Borderlands, how can I file a complaint? Your CEO doesn't pay his employees their bonuses.\",\n",
              " \"@ Borderlands how to file a complaint? Your CEO doesn't pay his employees bonuses.\",\n",
              " \"@Borderlands how did I submit a complaint? Your CEO isn't paying his competitors their bonuses.\",\n",
              " \"@Borderlands how do suppose I submit a complaint? Your CEO isn'ain t even paying his entire staff their bonuses.\",\n",
              " \"Now how do I submit any complaint? Your CEO isn't offering his staff their bonuses.\",\n",
              " 'All the Borderlands are fuckin trash',\n",
              " 'All the Borderlands are damn rubbish',\n",
              " 'All the borderlands are fucking thrash',\n",
              " 'All the Borderlands shit fuckin trash',\n",
              " '35 All the Borderlands are fuckin trash',\n",
              " 'All the Borderlands are fuckin stupid',\n",
              " \"Finally played through borderlands 3. The actual game play is great. Almost all guns feel fun, and I never once felt like I needed to grind. That story on the other hand.... All I will say Is that I'm very much so looking forward to the eventual cutscene skip :)\",\n",
              " 'Finally played by Borderlands 3. The actual game is great. Almost all weapons feel funny, and I never felt like I had to grind. On the other hand... All I will say is that I am very much looking forward to the eventual sequence skip:)',\n",
              " \"This story on the other hand.... All I will say is that I'm looking forward to an occasional slip:)\",\n",
              " \"Finally played through borderlands 3. The open game play is great. Almost all guns feel fun, and I never once felt like I needed to grind. The story on to another hand.... All I will say Is that I'm very much so looking forward to its eventual cutscene skip :)\",\n",
              " \"Finally played through borderlands 3. The actual game I play is great. Almost all guns feel fun, and yet I never once felt much like someone I seriously needed to grind. That pretty story on the other side hand.... All I will say Is that I'm very damn much so forward looking forward to the eventual endless cutscene skip : )\",\n",
              " \"Finally played through borderlands 5. The actual game play is great. Almost all guns were fun, and I never once felt sure I needed to grind. That story is the other hand.... but I will say now oh yes'm very much so looking forward to the extended cutscene skip :)\",\n",
              " 'Come meet one of the lovely Gaming Goddesses . ',\n",
              " 'Meet one of the lovely gambling goddesses.',\n",
              " 'Come meet one of the beautiful gods of gambling.',\n",
              " '16 Come meet one of... the lovely Gaming Goddesses.',\n",
              " 'Come meet one of the lovely Green Goddesses.',\n",
              " '\"What a bitch!\"',\n",
              " '\"What terrible bitch!\"',\n",
              " '\"... What a bitch! \"',\n",
              " 'Ok I am LOVING THIS (also playing Bombs Over Baghdad in anything gets me hype)  Very Borderlands like and the concept is A1!',\n",
              " \"Ok I'm LOVING THIS (also playing Bombs Over Baghdad in something gives me a hype) Very Borderlands like and the concept is A1!\",\n",
              " 'Ok I am LOVING THIS (also playing Bombs Over Baghad in anything gets me here) Very Borderlands like and the concept is A1!',\n",
              " 'Ok I am LOVING THIS (also seeing Take Over Baghdad in anything gets me hype)  Very Borderlands like and the concept is awesome!',\n",
              " 'Ok sir I am LOVING THIS ( also just playing Bombs Over Baghdad and in case anything gets its me hype ) I Very Borderlands like and the concept is A1!',\n",
              " 'Just uninstalled all of my other games to make space for Borderlands 3 . ',\n",
              " 'Just uninstall all my other games to make room for Borderlands 3.',\n",
              " 'Just deleted all my other games to make room for Borderlands 3.',\n",
              " 'Just uninstalled all of my other games will make space for Borderlands 3.',\n",
              " 'Just uninstalled all other of my my other games to make space for watching Borderlands 3.',\n",
              " 'Just uninstalled all of all other games in make space for Borderlands 3.',\n",
              " 'Already loving Bleeding Edge... what a clever game! Cross between Overwatch, Borderlands and Domination game mode. Cool as!. .  ',\n",
              " 'Already also loving the Bleeding Edge... what is a clever game! Cross between Overwatch, Borderlands and Future Domination game mode. 2016 Cool out as!..',\n",
              " 'Already played Bleeding Edge... what a clever game! Cross between fantasy, Borderlands non Domination game mode. Playing as!..',\n",
              " 'Bioshock AND borderlands coming to the switch bitch count me the fuck in',\n",
              " 'Bioshock AND borderlands coming to the switch bitch count me the fuck in',\n",
              " 'Bioshock And borderlands coming to the switch bitch count me the fuck in',\n",
              " 'Bioshock AND borderlands coming to the desert bitch count me the fuck in',\n",
              " 'Bioshock Montana AND other borderlands Are coming to the switch bitch count me the fuck in',\n",
              " 'Bioshock AND borderlands coming after your switch bitch count me the fuck in',\n",
              " 'Platinum is the best loot @Borderlands  ',\n",
              " 'Platinum is the best booty @ Borderlands',\n",
              " 'Platinum has the best loot @Borderlands',\n",
              " 'Platinum Rock is named the best loot @Borderlands',\n",
              " 'Platinum is the best loot the',\n",
              " 'For some reason, my laptop can run Borderlands 3, War thunder and Warframe all on high settings.. . BUT. . The moment I even try to even launch Csgo my entire computer crashes...',\n",
              " 'For some reason my laptop can run Borderlands 3, War Thunder and Warframe at high settings... BUT.. the moment I even try to start Csgo, my entire computer crashes...',\n",
              " 'For some reason, my laptop can run Borderlands 3, War Thunder, and Warframe at high settings.. BUT... The moment I even try to run CSgo, my whole computer breaks down...',\n",
              " 'For some reason, my Firefox can run Borderlands 3, War thunder plus Warframe all on high settings... no.. The moment I even try to even launch Csgo its entire computer crashes...',\n",
              " 'For some reason, my laptop can easily run Borderlands Volume 3, Chaos War thunder and Warframe all currently on high settings... A BUT.. A The moment I even dare try to even launch Csgo to my mind entire computer crashes...',\n",
              " 'For some reason, my software can mount Act 3, War thunder King Thunder all on high speeds... BUT.. The moment I even try to even launch from my entire computer crashes...',\n",
              " 'Jumping on stream early today! Playing some more of the Borderlands DLCs & vibing out to my new playlists I made .  come vibe. Also dropping my quality down to 720p to see if it makes any difference to how well my stream runs on my dumb internet lmao . . . twitch.tv/heyitscece_',\n",
              " 'Jumping on stream early today! Playing some more of the Borderlands DLCs & vibing out to my new playlists I made .  come vibe. Also dropping my quality down to 720p to see if it makes any difference to how well my stream runs on my dumb internet lmao . . . twitch.tv/heyitscece_',\n",
              " 'the Jumping on stream early today! Playing some more of the Borderlands DLCs & vibing out to my new playlists I made .  come vibe. Also dropping my quality down to 720p to see if it makes any difference to how well my stream runs on my dumb internet lmao . . . twitch.tv/heyitscece_',\n",
              " 'why',\n",
              " 'i enter that gunner seat and i fear for my life',\n",
              " 'i enter that gunner seat and i fear for my life',\n",
              " 'i enter that gunner seat and actually fear for my life',\n",
              " 'i then enter in that gunner seat and i fear for my life',\n",
              " 'i enter that gunner seat and i fear for a life',\n",
              " 'fuck it .  pic.twitter.com/Wav1bacr5j',\n",
              " 'Fuck it. pic.twitter.com / Wav1bacr5j',\n",
              " 'fuck it. pic.wikipedia.org / Wav1bacr5j',\n",
              " 'fuck it .  pic.twitter.com/Wav1bacr5j',\n",
              " 'V fuck it .  pic.twitter.com/Wav1bacr5j',\n",
              " 'I',\n",
              " 'Borderlands 2 is so good omg',\n",
              " 'Borderlands 2 is so good omg',\n",
              " 'Borderlands 2 is so good omg',\n",
              " 'Borderlands 2 is now good omg',\n",
              " 'Borderlands 2 is ever so good omg',\n",
              " 'update 2: i thwarted the bank and now own borderlands 3',\n",
              " 'update 2: i threatened the bank and now own borderlands 3',\n",
              " 'update 2: i thwarted the bank who now own borderlands 3',\n",
              " \"@Borderlands something seems very broken with M10 drop rates. Constantly dropping less lot than lower mayhem levels. How is this possible with a +2500% loot modifier on. I swear I'm seeing more greens and blues than anything on boss kills.\",\n",
              " '@ Borderlands something seems very broken with M10 drop rates. Constantly falling less than lower chaos levels. How is this possible when a + 2500% loot modifier is on. I swear I see more greens and blues than anything on boss kills.',\n",
              " '@ Borderlands something seems very broken with the M10 drop rate. Constantly falling less than the lower levels of mayhem. As possible with the +% production modifier.',\n",
              " \"@Borderlands something seems kinda broken with M10 drop rates. Constantly pushing less lot than normal mayhem levels. How is this possible with a +2500% loot modifier on. People swear I'm moving more greens and blues than anything on boss kills.\",\n",
              " \"@Borderlands something seems very broken with M10 drop rates. Constantly dropping less gold from lower amounts here. How is this worked with your +2500% loot modifier on.<unk> swear I'm seeing more greens over blues than anything on boss kills.\",\n",
              " 'I got to play Borderlands 2 with the entire polycule tonight. It was fun and magical. The the evening had to end. *sigh*.',\n",
              " 'I was allowed to play Borderlands 2 tonight with all the polyphony. It was funny and magical, the evening had to end. * sigh *.',\n",
              " 'I had to play Borderlands 2 with all the polyslice tonight. It was fun and magical. The evening had to end. * sigh *.',\n",
              " 'So I got to play Borderlands part 2 with the same entire polycule tonight. It was really fun and magical. The The the evening finally had to end. * sigh *.',\n",
              " 'This is crappy. I get that it was less profit than expected due to a huge budget.',\n",
              " 'This is crap. I realize that the profit turned out to be lower than expected because of the huge budget.',\n",
              " 'This is shitty. I get that profit-wise it had less than expected due to a busted budget.',\n",
              " 'This is shitty. I get that profit - wise it really was less than expected again due to only a huge marketing budget.',\n",
              " 'This is shitty. I get that profit-wise it was less business expected prior to a huge problem.',\n",
              " 'Borderlands 3 is good so far but Borderlands 2 will always be the fav',\n",
              " 'Borderlands 3 is good so far but Borderlands 2 not always be the fav',\n",
              " 'Finally got around to starting Borderlands 3 this weekend, and I love it already. . So well made. . . ',\n",
              " 'Finally I managed to start Borderlands 3 this weekend, and I love it already... So well done...',\n",
              " \"Finally got to the launch of Borderlands 3 this weekend and I'm already enjoying it... So well done...\",\n",
              " 'Finally got around to starting Borderlands 3 this weekend, and I loved it already.. So well loved...',\n",
              " 'Finally got around to officially starting Borderlands 3 this whole weekend, and I love it going already.. So well you made...',\n",
              " 'Finally got around to starting Borderlands 2 this weekend, and I turned it over.. So many made...',\n",
              " 'Slutty mechanic... Im im...  ',\n",
              " 'Slutty mechanic... Im im im im...',\n",
              " 'Slutsky......',\n",
              " 'Slutty mechanic... by im...',\n",
              " 'Slutty old mechanic... Where Im im...',\n",
              " 'Slutty mechanic... and im...',\n",
              " \"What a night! I had heeps of fun playing Borderlands 2! We're getting closer and closer towards the end! . . After the stream we raided @ClocksyDraws ! What a amazing streamer with beautiful art pieces! Give him a follow if you don't already do! . . Goodnight!. .  \",\n",
              " \"What a night! I had loads of fun playing Borderlands 2! We are getting closer and closer to the end!.. After the stream we have raided @ ClocksyDraws! What an amazing streamer with beautiful artwork! Give it a follow-up if you haven't done it yet!.. Good night!.\",\n",
              " \"What a night! I had fun playing Borderlands 2! We're getting closer and closer to the end!... After the stream we drove through @ ClocksyDraws! What an amazing street with beautiful works of art! Let him imitate if you haven't already!.. Good night!..\",\n",
              " \"What a night! I had heeps of fun playing Borderlands 2! We're getting closer and closer towards this end!!. Through the stream we raided @ClocksyDraws! What a amazing streamer for beautiful art pieces! Give it a follow if you don't already do!<unk>. Goodnight!..\",\n",
              " \"But What a night! I had heeps of fun playing Borderlands 2! We'll re getting any closer... and closer just towards the end!.. After the stream we raided @ClocksyDraws! a What brilliant a amazing streamer with beautiful art pieces! Give him for a follow if you can don't already go do!.. Goodnight!..\",\n",
              " \"of a night! I just heeps in fun playing Borderlands 2! We're getting closer and closer towards this end!.. After the stream was raided @ClocksyDraws! What a cool streamer with beautiful art pieces! Give such a follow where we don't already so!.. Goodnight!..\",\n",
              " 'bl3 with girl on fire for the end credits is the reason why I will leave Borderlands forever',\n",
              " \"bl3 using girl on fire for the end credits is why i'm gonna quit borderlands forever\",\n",
              " 'bl3 using girl on fire for writing the end credits It is probably why i r ’ m gonna quit borderlands forever',\n",
              " 'bl3 old girl on fire for the end credits knows why i’m gonna watch borderlands forever',\n",
              " \"YOOOOOOOOOO i'm actually so hyped for this movie\",\n",
              " \"YOOOOOOOOOOO I'm really so puffed up for this movie\",\n",
              " \"YOOOOOOOOO i'm actually so hyped for this movie\",\n",
              " \"YOOOOOOOOOO i'm currently so hyped for this movie\",\n",
              " \"YOOOOOOOOOO when i'm not actually so hyped for all this little movie\",\n",
              " \"YOOOOOOOOOO i'm actually so hyped for that guy\",\n",
              " 'Bc all those games are okay this borderlands is the best of its kind',\n",
              " 'Bc all these games are fine, this border country is the best of its kind.',\n",
              " 'BBC: All of these games are good this year and are the best of their kind.',\n",
              " 'Bc all those games are okay this borderlands is probably best of its kind',\n",
              " 'Bc all those games are okay this is borderlands... is the best region of its kind',\n",
              " 'think all those games are okay this borderlands is the best of its good',\n",
              " 'Modern Warfare For $38, Borderlands 3 For $20, And More Great Game Deals (PS4, Xbox One, Switch) unsorted.co/modern-warfare… https://t.co/2n68qoJKhU',\n",
              " 'Modern Warfare for $38, Borderlands 3 for $20 and other great games (PS4, Xbox One, Switch) unsorted.co / modern-warfare... https: / / t.co / 2n68qoJKhU',\n",
              " 'Modern Warfare for $38, Borderlands 3 for $20, And More Great Game Deals (PS4, Xbox One, Swift) unsorteco / modern-warfare...',\n",
              " 'Modern Warfare Not $38, Borderlands For For $20, All More Great Game Gear (PS4, Xbox One, Switch) unsorted.co/modern-warfare… https://t.co/2n68qoJKhU]',\n",
              " 'Modern Warfare 11 For $ 38, Borderlands 3 For $ 20, 200 And More Great Nintendo Game Group Deals ( PS4, Xbox One, Nintendo Switch ) also unsorted. See co / w modern - warfare database … https://t.co/2n68qoJKhU ]',\n",
              " \"The next one is Borderlands: The Handsome Collection. You're welcome\",\n",
              " 'Next is Borderlands: The Handsome Collection. You are welcome.',\n",
              " 'Next up is Borderlands: The Handsome Council.',\n",
              " \"The next one is Borderlands: Best Handsome Collection. You're welcome\",\n",
              " \"The next short one is Borderlands : For The True Handsome Collection. You're welcome\",\n",
              " \"The second one is Borderlands: The Handsome Collection. How're welcome\",\n",
              " 'Psycho Krieg and the Fantastic Fustercluck is a wonderful conclusion to the Borderlands 3 dlc line, which focuses on a fan favorite character and offers long-lasting players a conclusion on some very big issues of the character of war and memorable set pieces with which players interact.',\n",
              " '\"Psycho and Ostik Fusterkluck\" is the perfect conclusion to the \"Borderlands 3\" line, which focuses on the fans \"favorite character and gives the players the opportunity to close for a long time some very important questions about\\'s character and the memorable scenery with which the players interact.',\n",
              " 'I disagree. Psycho Krieg vs the Fantastic Fustercluck is a wonderful end game the borderlands 3 dlc line that focuses on a fan favorite character and gives long lasting players closure on some very big questions of primary character and memorable set character players play with.',\n",
              " 'not disagree. Klaus Krieg and the Fantastic Fustercluck have a wonderful end to the borderlands 3 dlc line that focuses on this fan favorite character and gives little range satisfying closure on several very big questions of that character and memorable set pieces players interact with.',\n",
              " 'I hate this algorithm',\n",
              " 'I hate this algorithm',\n",
              " 'I Hate This Alma Mater',\n",
              " 'I hate your algorithm',\n",
              " 'I hate this stupid algorithm',\n",
              " 'to hate this algorithm',\n",
              " 'This April patch + mini DLC for Borderlands 3 is amazing. The events, the new difficulty modifiers, the ramp up in gear stats, all combine to make the game fresh yet again.',\n",
              " 'This April patch + mini DLC for Borderlands 3 is amazing, the events, the new difficulty modifiers, the extra gear stats make the game fresh once again.',\n",
              " 'The April patch + mini DLC for Borderlands 3 is amazing.',\n",
              " 'This April patch + mini DLC for Borderlands 3 is amazing. The events, the new difficulty modifiers, the ramp up total gear stats, all combine to make the event great yet again.',\n",
              " 'This latest April patch + mini DLC for Ultimate Borderlands Online 3 is amazing. The story events, the brand new level difficulty modifiers, the ramp to up power in gear stats, all combine to make the game fresh yet again.',\n",
              " 'The April patch + mini DLC for Borderlands 3 is amazing. The events, the new difficulty modifiers, the ramp up<unk> gear stats, and combine a make my game fresh fun again.',\n",
              " \"Hi guys! @ Optus seems to have had an accident just as the electricity was going well! As an excuse I'll be back tomorrow for MORE border countries! Again, big apologies, no idea what happened!\",\n",
              " \"Hey guys! @ Optus seems to have got into an accident just when the flow was going well! As an apology I'll be back tomorrow for MORE border lands! Once again, a big apology, I have no idea what happened!\",\n",
              " \"Hey guys! @Optus appears to have had an accident just as the blood stream was getting as good! Now As an apology I's ll be back tomorrow for US MORE The borderlands! But Once again, big apologies, though no idea what exactly happened!\",\n",
              " \"<unk> guys! @Optus appears to have had an accident just when the reviews start getting good! After an apology I'll be back tomorrow for MORE borderlands! Once again, my apologies, no idea what exactly!\",\n",
              " 'Big hearty congratulations to my @PlayApex @Respawn @CallofDuty @Borderlands @DestinyTheGame families on your @BAFTAGames nominations!!! Wooohoooo!!!!',\n",
              " 'Big heartfelt congratulations to my @ PlayApex @ Respawn @ CfDuty @ Borderlands @ DestinyTheGame on your @ BAFTAGames!!! Woooooooo!!!',\n",
              " 'Big special congratulations to my fellow @PlayApex @Respawn @CallofDuty @Borderlands families on your @DestinyTheGame<unk> Wooohoooo!!!!',\n",
              " 'Big Strong congratulations to my<unk> parents @PlayApex @Respawn adoptive families and your various nominations!!! Wooohoooo!!!!',\n",
              " \"Hey borderlands mutuals fam, sorry I've not been interacting as directly and playing games as much as I had been but I love ya'll too so much. Thank you for reminding me fandom isn't just a giant cesspool. Thank you for having such cute characters to look forward to seeing and--\",\n",
              " \"Hey borderlands mutuals fam, sorry, I didn't interact and play games as directly as I was, but I love you too much. Thank you for reminding me that fandom is not just a huge cesspool. Thank you for having such nice characters to look forward to.\",\n",
              " \"Hey borderlands mutuals fam, sorry I've not been interacting as directly and playing games as much as I had but I love ya'll too much. Thank you for reminding me fandom is not just a giant cesspool. Thank you for having such cute characters to look forward to see and--\",\n",
              " \"great borderlands mutuals fam, sorry I've not been interacting as directly and playing not as hard if I had been but I love ya'll too so much. Thank you for reminding me fandom isn't just a global cesspool. thanks for<unk> having more awesome characters to look forward to seeing and--\",\n",
              " 'Borderlands 3: Guns, Love, And Tentacles: 10 Best New Legendary Weapons, Ranked ift.tt/2Xj2rmu  ',\n",
              " 'Borderlands 3: Weapons, Love and Tentacles: 10 best new legendary weapons, rank ift.tt / 2Xj2rmu',\n",
              " 'Borderlands 3: Get, Love, And Tentacles: 10 Best New Legendary Weapons, Ranked i.tt / 2Xj2r.com',\n",
              " 'Borderlands 2018: Guns, Love, And Tentacles: 10 Great New Legendary Weapons, Ranked live.tt/2Xj2rmu',\n",
              " '10 Borderlands 3 : Black Guns, Blind Love, Words And Tentacles : 2010 10 Best New Legendary Assault Weapons, Ranked ift. tt / 2Xj2rmu',\n",
              " 'best borderlands character :y pic.twitter.com/XR9P3UrsqG',\n",
              " 'Best border character: y pic.twitter.com / XR9P3UrsqG',\n",
              " 'best borderlands character: y pic.wikipedia.org / XR9P3UrsqG',\n",
              " 'see best borderlands character :y pic.twitter.com/XR9P3UrsqG',\n",
              " '<unk>',\n",
              " 'My 4 fave games are Minecraft. Borderlands 2.Forza horizon 4. Lego star wars',\n",
              " 'My 4 favorite games are Minecraft. Borderlands 2.Forza Horizon 4. Lego Star Wars',\n",
              " 'My 4 favorite games are Minecraft. Borderlands 2.Forza h4. Lego star wars',\n",
              " 'My 4 fave games are Minecraft. Borderlands 2.Forza Tournament 4. Lego star wars',\n",
              " '2 My favourite 4 fave games are Minecraft. Borderlands EP 2. The Forza horizon 4. Lego star wars',\n",
              " 'I feel like I accomplished something here even though in reality all I did was suffer and die . . .  ',\n",
              " 'I have the feeling that I have achieved something here, when in reality I have only suffered and died...',\n",
              " \"I feel like I've spilled something here, when in fact all I've done is suffer and die...\",\n",
              " 'I feel like I accomplished something here even though now in my reality seemingly all I did here was suffer and die...',\n",
              " 'Messed up downloading the new borderlands 3 dlc yet again. Assume the update was the patch and dlc, but like the previous dlc even with the season pass it has to be manually added from ps store and downloaded',\n",
              " 'Suppose the update was the patch and the dlc, but like the previous dlc it has to be added and downloaded manually from the ps store even with the season card.',\n",
              " 'Suppose that the update was a patch and a patch, but, as in the previous case, even with a subscription, it has to be manually added from the store and downloaded',\n",
              " 'Messed up downloading the new borderlands 3 dlc yet again. Assume the update is the patch and dlc, but like the previous one even with the season pass this has to be immediately added from ps store and downloaded',\n",
              " 'Messed up downloading the new borderlands 3 dlc update yet again. Assume the update never was the patch and dlc, but feels like doing the whole previous dlc even with getting the final season to pass it now has to be manually added later from ps store and downloaded',\n",
              " 'Messed up downloading completely new borderlands as dlc yet again. Assume the update was the patch and dlc, but like any 3 dlc even with the conditional pass patch has eventually be manually added from ps store and made',\n",
              " 'Hey @Borderlands i cant access the new dlc. I can start the mission but then nothing. I have my game on epic',\n",
              " 'Hey @ Borderlands I can not access the new dlc. I can start the mission, but then nothing. I put my game on epic',\n",
              " 'Hey @ Borderlands i cant access the new Focus. I can start the mission but then nothing. I have my game on epic',\n",
              " 'Hey @Borderlands u cant access the console dlc. I can start the mission but then nothing. I have my game on epic',\n",
              " 'Hey @Borderlands i cant access me the four new dlc. I still can start the mission quickly but then nothing. now I have hit my game on epic',\n",
              " 'I’ve done nothing but play borderlands 3 for the last 13 hours and I’m still not done. I STARTED AT CHAPTER 8 AND IM ONLY ON 20. this game is unnecessarily long.',\n",
              " \"I haven't done anything other than play Borderlands 3 for the last 13 hours and I'm still not done. I START AT CHAPTER 8 and ONLY ON THE 20th. This game is unnecessarily long.\",\n",
              " \"I've been playing Borderlands 3 for the last 13 hours and still haven't finished.\",\n",
              " 'I I ’ ve done nothing but to play borderlands 3 times for the last 13 hours already and I ’ m still not even done. I STARTED AT CHAPTER 8 AND IM ONLY ON February 20. Like this game is just unnecessarily damned long.',\n",
              " 'I’ve done nothing but play borderlands 3 for the last 13 years that I’m still fucking moving. I STARTED AT CHAPTER 8 AND IM ONLY ON YOUR. this letter is unnecessarily long.',\n",
              " \"I am here... With Samsung that is full of homeworks. Away from ps4 and Samsung that won't play fort. And have 1700... Want psycho. Will get him. I am borderlands and Overwatch fan and he is Psycho and Junkratt\",\n",
              " \"I'm here... with Samsung, that's full of homework. Away from PS4 and Samsung that won't continue to play. And have 1700... want Psycho. Will get him. I'm a frontier commuter and Overwatch fan and he's Psycho and Junkratt\",\n",
              " \"I'm here... With Samsung, which is full of home affairs. Away from F4 and Samsung that won't play fort. And have 1700... Want psycho. Want him. I am borderlands and Overwatch fan and he is Psycho and Jratt\",\n",
              " 'I am here... With Samsung that is full of homeworks. Away from ps4 and Samsung that we play fort. And have 1700... Want psycho. Will get paid. I am borderlands and Overwatch s and he is Psycho... Awesome',\n",
              " \"Now I am happy here... With Samsung that is full lots of homeworks. Be Away from ps4 and of Samsung that is won't the play fort. And have the 1700... Want psycho. Will get him. I am borderlands and Overwatch and fan and he said is Psycho and Junkratt\",\n",
              " \"As amazing as this is.... It's been out for MONTHS.... . Please.. . PLEASE.. . Tell us about the Ascension Bluff DOOR.. . It's been A YEAR.\",\n",
              " 's been out for months.... Please... PLEASE... Tell us about the Ascension Bluff Door... It has been a YEAR.',\n",
              " 'As amazing as it may be... It was for MONTHS... Please... PLEASE... Tell us about the Ascension of the Bluff Door... It has been a YEAR.',\n",
              " \"As extremely amazing that as this is.... 3 It's been out preparing for some MONTHS..... Please... We PLEASE... Tell us about the Ascension Base Bluff Station DOOR... 2 It's really been A YEAR.\",\n",
              " \"As amazing saying That is.... It's also happening for MONTHS.....<unk>... PLEASE... Tell us about the Last Bluff here... It's FOR A YEAR.\",\n",
              " \"I'm so damn sorry for the stupid short stream, I don't feel like streaming today. I just have these stupid headaches that can't be damned... We sent love to @ Quietachvment who plays some Borderlands 3... Keep the social media registers, I'll probably see you on Thursday!\",\n",
              " \"I'm so damn sorry for the stupid short stream, I don't feel like streaming today. I just have this stupid head that won't come off... We sent our love to @ Quicktachement who plays Borderlands 3... Keep tabs on social media, I'll probably see you on Thursday!\",\n",
              " \"I'm so seriously sorry for the record short stream, i don't feel up to streaming today. I just fighting this stupid headache that won't fuck off... We sent the love over to @Quietachvment who's playing great Borderlands 3... Definitely active on socials, I'll probably see you Thursday!\",\n",
              " \"I'm so damn sorry for the stupid short stream, but i don't feel up to streaming today. and I just have this stupid headache that it won'the t fuck right off... I We sent the love over to @Quietachvment and who's playing on some chick Borderlands 3... Keep tabs on socials, I'll probably see with you Thursday!\",\n",
              " \"I'm so damn adverse to the whole short delay, i don't step up to streaming actually. I just have this stupid headache that doesn't fuck off... Chris sent the blanket over to Lauren who's playing some Borderlands 3... Keep tabs on socials, I'll probably see you Thursday!\",\n",
              " 'Perfect casting for Lilith, most anticipated film',\n",
              " 'Perfect casting for Lilith, the most anticipated film',\n",
              " 'Perfect casting powers Lilith, most anticipated film',\n",
              " 'Perfect casting for first Lilith, most anticipated film',\n",
              " 'Perfect Time for Lilith, most anticipated film',\n",
              " '@GearboxOfficial fix Borderlands 3 achievements. This is unreal that you guys can’t figure this out.',\n",
              " \"@ GearboxOfficial Fix Borderlands 3 Achievements. This is unreal that you can't figure it out.\",\n",
              " \"@ GearboxOfficial fix the achievements of Borderlands 3. It's unreal that you guys can't understand this.\",\n",
              " '@GearboxOfficial fix Borderlands 3 achievements. This is unreal that you guys dont figure it out.',\n",
              " '@GearboxOfficial fix Borderlands 3 achievements. com This is all unreal bad that you guys can ’ t figure about this out.',\n",
              " '@GearboxOfficial fix Borderlands 3 achievements. IT is unreal that you guys will check this out.',\n",
              " \"@GearboxOfficial  @Borderlands I love(d) this game. I've spent 325hrs beating the game twice and farming like crazy to get the weapons and anoints that I want. Then you decide that the way that I'm playing wasn't the way you had intended so you weaken my favorite anoint...\",\n",
              " '@ GearboxOfficial @ Borderlands I love (d) this game. I spent 325 hours beating the game twice and working like crazy to get the weapons and ointments I want. Then you decide that the way I play was not what you intended, so you weaken my favorite album...',\n",
              " '@ GearboxOfficial @ Borderlands I love (d) this game. I spent 325hrs beating the game twice and farming like crazy to get the weapons and money I want.',\n",
              " \"@GearboxOfficial  @Borderlands fucking love(d) this game. I've spent 325hrs beating the game twice and farming like crazy to get the weapons and anoints that I want. Only you discover that one way that I'm playing wasn't the way you had wanted so I weaken my favorite anoint...\",\n",
              " \"@GearboxOfficial @Borderlands I absolutely love ( d ) this game. I've spent my 325hrs beating the game twice and farming like crazy to get the weapons and those anoints there that I want. Then you decide that me the very way that I'W m playing wasn't the way those you had intended so you you totally weaken my favorite anoint...\",\n",
              " \"@GearboxOfficial @Borderlands I love(d) this game. But've spent 325hrs beating your game twice and farming like crazy to get which way those anoints that I want. And you say that that way that I'm playing wasn't which way it had intended so you weaken my favorite anoint...\",\n",
              " 'Borderlands 3 - Krieg Meets Maya (Psycho Krieg and the Fantastic Fustercluck DLC). youtube.com/watch?v=o4JfCk….  ',\n",
              " 'Borderlands 3 - Krieg Meets Maya (Psycho Krieg and the Fantastic Fustercluck DLC). youtube.com / watch? v = o4JfCk....',\n",
              " 'Borderlands 3 - Meets Maya (Psycho). youtube.com / watch? v = o4JfCk....',\n",
              " 'Borderlands Premiere - Krieg Meets Maya and Krieg and the Fantastic Beast DLC). youtube.com/watch?v=o4JfCk….',\n",
              " 'Borderlands Beyond - Scott Meets Me (Psycho Wave vs the Fantastic Fustercluck 5). Buy.com/watch?v=o4JfCk....',\n",
              " 'I was trying to play some borderline games today and my xbox was turned on for about 5 hours with the controller turned off while I was browsing Instagram and trying to plan my next semester... Imagine if it was a class...',\n",
              " \"Idk how I'm gonna do this online class shit.. I am trying to play some borderlands today, and my xbox + been on for like 5 hours with my controller disconnected while I browse Instagram and Netflix and plan out my next semester of classes... because if this took a class...\",\n",
              " \"Idk how I'ya m gonna do this online class shit.. I was trying desperately to play some borderlands today, and my xbox has barely been on for like 5 ½ hours but with my touch controller disconnected while here I browse Instagram and try harder and plan out having my next real semester of classes... Imagine if this was a class...\",\n",
              " \"<unk> but I'm supposed do my online class shit.. Here was trying to play some borderlands today, now my xbox has been on for like 5 PM with my controller disconnected as I browse Instagram and try and try out this next semester of classes... Imagine if this was a class...\",\n",
              " 'I just celebrated a gay wedding in Borderlands 3 and felt powerful.',\n",
              " 'Just played a gay wedding in Borderlands 3, feeling powerful.',\n",
              " 'Just officiated a gay fan wedding in WWE Borderlands Episode 3, feeling powerful rn.',\n",
              " 'once officiated a gay wedding in Borderlands 3, as powerful rn.',\n",
              " 'Loving the new DLC!!!. @Borderlands @DuvalMagic @GearboxOfficial pic.twitter.com/PKZJxlGXLj',\n",
              " 'I love the new DLC!!!. @ Borderlands @ DuvalMagic @ GearboxOfficial pic.twitter.com / PKZJxlGXLj',\n",
              " 'Catching the new DLC!!!. @ Borderlands @ DuvalMagic @ GearboxOfficial pic.fm / PKZJxlGXLj',\n",
              " 'Loving the new DLC!!!. RhandlerR RhandlerR RhandlerR pic.twitter.com/PKZJxlGXLj',\n",
              " 'F Loving the new DLC!!!. RhandlerR RhandlerR RhandlerR pic.twitter.com/PKZJxlGXLj',\n",
              " 'one',\n",
              " 'does fall damage canonically exist in the borderlands?)',\n",
              " 'it does fall damage we canonically exist in the borderlands universe',\n",
              " \"Lil preview of a Maya drawing I've been chipping away at! Been sinking a lot of time into Borderlands in my off hours lately pic.twitter.com/1nYE0S5cMe\",\n",
              " \"Lil preview of a Maya drawing I've been chiming away at! Been sinking a lot of time into Borderlands in my offer hours late pic.facebook.com / 1nYE0S5cMe\",\n",
              " \"C Lil preview of a Maya drawing I've been chipping away at! Been sinking a lot of time into Borderlands in my off hours lately pic.twitter.com/1nYE0S5cMe\",\n",
              " 'can',\n",
              " 'A nerf gun painted to look like a  ',\n",
              " 'A nerf gun painted to appear like a',\n",
              " 'I am so exhausted from work this week so probably no borderlands stream today i’m SO SORRY . ',\n",
              " \"I'm so exhausted from work this week that I probably won't be able to flow anymore and I'm SO SORRY.\",\n",
              " \"I'm so tired of working this week that there's probably no border flow today, I'm SO SORRY.\",\n",
              " 'I am so exhausted from work this week being probably no borderlands stream today i’m SO stoked.',\n",
              " '30 I am now so exhausted from work just this week or so probably no borderlands stream today i I ’ m SO SORRY.',\n",
              " 'I am still exhausted from work this Saturday so probably no borderlands stream and i’m SO SORRY.',\n",
              " 'Have u played borderlands 3? Pretty fun imo. Anyways whateves pic.twitter.com/Uoute82ADo',\n",
              " 'Have u played Borderlands 3? Pretty fun imo. Anyway whateves pic.twitter.com / Uoute82ADo',\n",
              " 'Have u played borderlands 3? Pretty fun imo. Anyways whatsoever pic.facebook.com / Uoute82ADo',\n",
              " 'Have u played borderlands 3? Pretty fun imo. Anyways whateves pic.twitter.com/Uoute82ADo',\n",
              " 'of',\n",
              " 'Stories from the border swaggiedeals.com / product / tales-...',\n",
              " 'Tales from the Borderlands swagdeals.com / product / tales-...',\n",
              " 'Tales over the\\xa0Borderlands Factory.com/product/tales-…',\n",
              " 'Tales from Behind the Borderlands at swaggiedeals. com / www product / tales - …',\n",
              " 'looking at the Kitchen swaggiedeals.com/product/tales-...',\n",
              " \"Guns, Love, and Tentacles is out now, and here are 5 reasons why we're excited\",\n",
              " \"GB, Love, and Tentacles is out now, and here are 5 reasons we're excited to\",\n",
              " 'Guns, Love, and Sex is out now, and here are 5 reasons not excited to',\n",
              " \"Guns, Love, Speed and Tentacles is out now, and here are with 5 main reasons we'D re excited to\",\n",
              " \"Guns, Love, and Music is up now, and here are four reasons we're excited to\",\n",
              " 'Just started playing Borderlands 3: guns, love, and tentacles only to hear the voice of half of my favorite youtube channel @GameGrumps . Hell yeah @egoraptor , forever apart of one of the best @GearboxOfficial games as a creepy ass character.',\n",
              " 'I just started playing Borderlands 3: weapons, love and tentacles, just to hear the voice of half of my favorite channel @ GameGrumps. Hell yeah @ egoraptor, forever separated from one of the best @ GearboxOfficial games as a creepy ass character.',\n",
              " 'Just started playing Borderlands 3: Weapons, Love, and Tentacles just to hear the voice of half of my favorite YouTube channel @ GameGrup.',\n",
              " 'Just started playing Borderlands 3: guns, love, and tentacles wanting to lose the voices of half of another favorite youtube channel @GameGrumps. Hell yeah @egoraptor, forever apart of one of the best @GearboxOfficial games as a creepy ass cartoon.',\n",
              " 'He Just started off playing it Borderlands Season 3 : with guns, love, and tentacles only later to hear the voice of my half of my favorite youtube channel @GameGrumps. Hell yeah @egoraptor, forever apart because of one of the best @GearboxOfficial with games plays as a creepy ass character.',\n",
              " 'Just started playing Borderlands 3: guns, love, bad tentacles again and hear a voice of half of an old music channel @GameGrumps. Hell yeah @egoraptor, the apart of one of the best @GearboxOfficial games as a creepy ass demon.',\n",
              " 'I know it doesnt look like much but borderlands is my favorite game!!! Thank you @SmilingOcean_ pic.twitter.com/X3dyPtNALD',\n",
              " \"I know it doesn't look like much, but Borderlands is my favorite game!!! Thank you @ SmilingOcean _ pic.twitter.com / X3dyPtNALD\",\n",
              " \"I know it doesn't look like much but borderlands is my favorite game!!! Thank you @ SmilingOcean _ pic.it / X3dyPtNALD\",\n",
              " 'I know it doesnt look like much but borderlands is my favorite game!!! Thank you RhandlerR pic.twitter.com/X3dyPtNALD',\n",
              " 'N I know it doesnt look like much but borderlands is my favorite game!!! Thank you RhandlerR pic.twitter.com/X3dyPtNALD',\n",
              " 'It',\n",
              " '. :: Ah yes. A very very old image of demon Lottie from when they were still a borderlands oc pic.twitter.com/PuW3XjWuro',\n",
              " '.:: Ah yes. A very old picture of Demon Lottie from the time when they were still a border country oc pic.twitter.com / PuW3XjWuro',\n",
              " \":: Ah yes. A very old image of Lottie's demon from when they were still border guards.\",\n",
              " '. :: Ah yes. A very very old image of demon Lottie from when they were still a borderlands oc pic.twitter.com/PuW3XjWuro',\n",
              " 'IBM . :: Ah yes. A very very old image of demon Lottie from when they were still a borderlands oc pic.twitter.com/PuW3XjWuro',\n",
              " 'on',\n",
              " 'My most despised area in Borderlands 1 is now the Rust Commons area. . So many sidequests',\n",
              " 'My most despised area in Borderlands 1 is now the Rust Commons area.',\n",
              " 'My favourite area in Borderlands 1 right now is the Rust Commons... So many sidewalks',\n",
              " 'My most despised area in Borderlands 1 is still the Great Commons area.. So many sidequests',\n",
              " '2007 My most despised land area left in Borderlands 1 is now the Lee Rust Commons area.. So many sidequests',\n",
              " 'Holy fuck???!!??!',\n",
              " 'Holy shit???!!??!',\n",
              " 'Holy fuck???!!?!?!',\n",
              " 'Holy Week!',\n",
              " \"We've been playing a lot of Borderlands 2 on  . . Also gotta love this stunning cosplay by Kunaii Cosplay! instagram.com/xxkunaiixx/ https://t.co/GiWX2aqtUy\",\n",
              " 'We played a lot of Borderlands 2... Also I must love this stunning cosplay from Kunaii Cosplay! instagram.com / xxkunaiixx / https: / / t.co / GiWX2aqtUy',\n",
              " \"We've been playing a lot of Borderlands 2 on.. Also global love this stunning cosplay by Kunaii Cosplay! instagram.com / xxxaiii.com / https: / / Fenco / GiWX2aqtUy\",\n",
              " \"We've been playing a lot of Borderlands 2 on .. Also gotta save this monkey cosplay on Fox Cosplay! instagram.com/xxkunaiixx/ https://t.co/GiWX2aqtUy]\",\n",
              " \"We've been over playing a lot thinking of Borderlands using 2 tracks on.. x Also your gotta love read this stunning little cosplay by Kunaii Cosplay! to instagram. com / xxkunaiixx / https://t.co/GiWX2aqtUy ]\",\n",
              " \"We've been playing this blast of Borderlands music on.. Also gotta see this face cosplay • Kunaii Jackson! instagram.com/xxkunaiixx/ https://t.co/GiWX2aqtUy]\",\n",
              " '@Borderlands @DuvalMagic @GearboxOfficial I just wanted to say a huge thank you to all of you who worked and are working on borderlands and gearbox you’ve been crushing it enven more than before covid knowing how it must have been difficult so THANK YOU. ',\n",
              " '@ Borderlands @ DuvalMagic @ GearboxOfficial I just wanted to say a huge thank you to all of you who have worked and are working on borderlands and gearbox you were broken more than ever before.',\n",
              " '@Borderlands @DuvalMagic … I just wanted too say a huge thank you for all of them who worked and are working on borderlands and gearbox you’ve been crushing it enven more than before covid knowing how it must have been difficult so THANK IT.',\n",
              " '@Borderlands... @DuvalMagic... @GearboxOfficial I just wanted to say saying a good huge thank you to all those of you who worked and are working on borderlands wheels and gearbox you ’ ve been crushing it enven more than months before covid knowing now how it all must have been real difficult so THANK YOU.',\n",
              " 'Trying out  ',\n",
              " nan,\n",
              " 'Trying to get out',\n",
              " 'Trying it',\n",
              " 'Trying it out',\n",
              " 'you out',\n",
              " 'Today’s Best Game Deals: FIFA 20 $18, Borderlands Handsome $15, more –\\xa09to5Toys uk.googlehits.com/as-we-speaks-f…',\n",
              " 'The best gaming deals today: FIFA 20 $18, Borderlands Handsome $15, more - 9to5Toys uk.googlehits.com / as-we-speak-f...',\n",
              " 'The best deals so far: FIFA 20 $18, Borderlands Handsome $15, more - 9to5Toys uk.googfcits.com / as-we-speak-f...',\n",
              " 'Today’s Best Game Movies: FIFA 13 $18, Borderlands 8 $15, more –\\xa09to5Toys 10.googlehits.com/as-we-speaks-f…',\n",
              " 'Today ’ ′ s Show Best Game Winner Deals : FIFA 20 $ 18, against Borderlands 2 Handsome $ 15, more as – 9to5Toys 2016 uk. Retrieved googlehits. com / sales as - we - speaks - f …',\n",
              " 'your Best FIFA Deals: FIFA 20 1, The Handsome 5, Play – via uk.googlehits.com/as-we-speaks-f...',\n",
              " \"i kno borderlands handled zer0 being nonbinary kinda shittily with them being most likely nonhuman (?) to start and then forgetting their pronouns in tftbl but i still rlly like zer0 and am happy to have them :-) same with fl4k i love them too and they're both playable mcs so\",\n",
              " 'i kno borderlands handling zer0 being nonbinary kind shitty with they are most likely inhuman (?) to start and then forget their pronouns in tftbl but i rlly like zer0 and me happy to have them: -) same with fl4k I love them too and they are both playable mcs so',\n",
              " \"i kno borderlands managed zer0 being nonbinary kinda shittily with them being most likely non-human (?) to start and then forget their pronobel in t, but i still rlly like zer0 and am happy to have them: -) same with fl4k i love them too and they're both playable mso\",\n",
              " \"i kno The borderlands handled zer0 only being nonbinary but kinda i shittily with them being too most likely non nonhuman (? ) to start and then usually forgetting their pronouns in tftbl but i still rlly like zer0 and g am happy to have them : - ) t same with fl4k i love into them too and they're both playable mcs so\",\n",
              " \"i kno c handled zer0 being bad kinda shittily with me being most likely nonhuman (?) to start and then forgetting their worth in tftbl but i still rlly like zer0 and was trying to enjoy them :-) same with fl4k i liked them well and they're both playable mcs the\",\n",
              " nan,\n",
              " '........',\n",
              " '..  \\xa0 . . .',\n",
              " '......',\n",
              " 'IM SO FUCKING EXCITED',\n",
              " 'IN THE SO FICKING EXCELLENT',\n",
              " 'IM SO FUCKING IN',\n",
              " 'IM SO WHAT EXCITED',\n",
              " 'Well this is certainly a development.',\n",
              " \"Well, that's certainly a development.\",\n",
              " \"Well, that's development, of course.\",\n",
              " 'Well this is certainly a question.',\n",
              " 'Well... this is certainly a development.',\n",
              " 'Well this is not a development.',\n",
              " \"GameSpot: Borderlands 3's DLC Dismisses Major Problems With Lovecraft's Work ift.tt/39qpeiS\",\n",
              " \"GameSpot: DLC's Borderlands 3 fires protagonists over Lovecraft i.tt / 39qS\",\n",
              " \"GameSpot: Borderlands 3's DLC Dismisses Major Problems - Lovecraft's Dream ift.tt/39qpeiS\",\n",
              " \"GameSpot: Fantasy III's Music has Major Problems With Lovecraft's Work ift.tt/39qpeiS\",\n",
              " '@UnitedHayze Glad to see my efforts have been noticed; a 4-way Borderlands Co-Op would be awesome! pic.twitter.com/vcgNcpMAvu',\n",
              " '@ UnitedHayze Glad to see my efforts were noticed; a 4-way Borderlands Co-Op would be awesome! pic.twitter.com / vcgNcpMAvu',\n",
              " '@ UnitedHayze to have my efforts noticed; 4-way Borderlands Co-Op would be amazing! pic.facebook.com / vcgNcpMavu',\n",
              " 'RhandlerR Glad to see my efforts have been noticed; a 4-way Borderlands Co-Op would be awesome! pic.twitter.com/vcgNcpMAvu',\n",
              " 'of',\n",
              " \"Super tempted to get a simple black heart tattoo right above my tit like Ellie from Borderlands lol. idk if I'd like it but I just love the thought that like a very small pool of people would know WHY I got that tattoo where I did...cause simple black hearts are pretty common lol\",\n",
              " 'Super trying to get a simple black heart tattoo right over my tits, like Ellie from Borderlands lol. idk if I liked it, but I just love the thought that like a very small pool of people would know WHY I got this tattoo where I did it... because simple black hearts are pretty common lol',\n",
              " 'Super temptation to get a simple black heart tattoo right above my tit like Ellie from Borderlands lol. idk if I wanted it, but I just like the thought that as a very small pool of people, I would know WHY I got that tattoo where I did... because simple black hearts are quite common lol',\n",
              " \"Super tempted to get a simple black heart tattoo right above my shoulder like Ellie from Borderlands 1. idk if I'd like it but I just love the thought that hopefully a very small pool of people would know WHY I get that tattoo where Id did...cause simple black hearts are pretty common lol\",\n",
              " '4 player local Borderlands 3. Such a great weekend.',\n",
              " '4 player local Borderlands 3. Such a great weekend.',\n",
              " '4 local Borderlands players 3. Such a big weekend.',\n",
              " '4 More local Borderlands 3. Such a great weekend.',\n",
              " '4 2 player local play Borderlands 3. Such a great weekend.',\n",
              " '4 player local Borderlands shop. Such a great weekend.',\n",
              " 'Sly @ Borderlands haha. The mission \"The demon in the dark.\" Moria mines. Nice.',\n",
              " 'Sly @ Borderlands haha. The mission \"The Demon in the Dark.\" Mines of Moria. Nice.',\n",
              " 'Sly G @Borderlands haha. The mission is “ The High Demon District in the Dark ”. the Mines of Moria. Nice.',\n",
              " 'To play Borderlands 3 before 2 was a mistake bc now I know who dies): even now if I replay 3, I will end up A MESS...',\n",
              " 'playing borderlands 3 before 2 was a mistake bc now i know who dies ):. also being that i replay 3 im gonna get A MESS at the end...',\n",
              " 'playing borderlands because 3 before 2 was a final mistake bc now all i know who dies ) :. also now when won i play replay 3 im be gonna be A G MESS at the end...',\n",
              " 'playing those 3 vs 2 was a struggle bc now i know who dies ):. also because when i replay that im gonna be A MESS at the beginning...',\n",
              " \"Who runs borderlands 3 on xbox that game is so Dope I'm tryna run squads mann\",\n",
              " \"Who runs Borderlands 3 on xbox that game is so dope I'm tryna run squad man\",\n",
              " \"Who runs borderlands 3 on xbox this shit is so Dope I'm tryna run squads mann\",\n",
              " \"Who never runs borderlands 3 on xbox that video game This is going so Dope I'm tryna run squads mann\",\n",
              " \"Who buy borderlands for 2 xbox that game is so Dope I'm tryna run squads mann\",\n",
              " \"Morning~!!. I'm split on playing PSO2 or Borderlands 3 for todays stream. 🤔. Either way a stream today is happening and I'm excited to hang out nonetheless!!. Hope your weekend was well. .  :3 pic.twitter.com/X0CrvuK8Pq\",\n",
              " \"Tomorrow ~!!. I'm split when it comes to playing PSO2 or Borderlands 3 for today's stream. Either way, a stream is underway today and I'm still looking forward to hanging out!!. Hope your weekend was good...: 3 pic.twitter.com / X0CrvuK8Pq\",\n",
              " \"Morning~!!. I'm split on playing PSO2 or Borderlands 3 for todays stream. 🤔. Either way a stream today is happening and I'm excited to hang out nonetheless!!. Hope your weekend was well. .  :3 pic.twitter.com/X0CrvuK8Pq\",\n",
              " 'we',\n",
              " '\"Borderlands 3\" turned on its mayhem modifiers again, and that was a mistake ie.jobwx.eu / Rg2956',\n",
              " '\"Borderlands 3\" turned on the Mayhem modifiers, and it was a mistake.',\n",
              " '‘Borderlands 3’ Putting Its Mayhem Modifiers Back On, And That Sounds Huge Mistake ie.jobwx.eu/Rg2956',\n",
              " '‘ Borderlands 3 The ’ Turned Its Skin Mayhem Best Modifiers Come Back On, And Me That Was Only A Mistake ie. free jobwx. eu / Rg2956',\n",
              " \"Actually. I think borderlands 3 might be my 5th fave. But it wouldn't be stand alone.... But god do I love and enjoy bl3!!!\",\n",
              " \"Actually. I think Borderlands 3 could be my fifth favorite, but it wouldn't be alone.... But God, I love bl3 and enjoy it!!!\",\n",
              " 'Actually. I think borderlands 3 might be my 5th fave. But it would not be stand alone.... but god do I love and enjoy bl3!!!',\n",
              " \"Actually. I think borderlands 3 might be still 5th fave. Though it wouldn't be stand top.... But god do I still in enjoy bl3!!!\",\n",
              " \"So I'm probably going to log off social media for the day to buckle down and take care of all my online class work for the week. I don't want to have any work to do before Borderlands 3 hits steam. So I'll be back, when I'm done with all that junk! . \",\n",
              " \"So I'll probably log off from social media for the day to buckle up and do all my online classwork for the week. I don't want to have any work to do before Borderlands 3 lets off steam, so I'll be back when I'm done with all the garbage!.\",\n",
              " \"So I'll probably get off social media for a day to buckle up and take care of all my online activities during the week. I don't want to have any work before Borderlands 3 gets steamed up. So I'll be back when I'm done with all this rubbish!.\",\n",
              " \"So I'm really going to log off social net for the day to buckle down and take inventory of all my online class assignments during the week. I don't want to have any work to do before Borderlands 3 hits steam. So I'll be back, when I'm finished with all that junk!.\",\n",
              " \"So I'm now probably going to completely log off social media for the day to buckle down and then take care of all even my normal online class work for during the week. Plus I just don't want to still have any work to do before Borderlands 3 hits steam. So I'll be back, when ever I'm done with all that junk!.\",\n",
              " \"So I'm probably going to log down social media for the day & buckle down before take off of all my video class work for the week. I don't want to have any work to do before my 3 hits steam. Anyway I'll be back, when I'm satisfied with my real junk!.\",\n",
              " 'Borderlands 3 Chapter 1 youtu.be/0SKu6Vr4iXU via @YouTube Come Watch as I dive into a awesome Adventure :) Lets do this :D. @VxsSociety @SmallStreamersC',\n",
              " \"Borderlands 3 Chapter 1 youtu.be / 0SKu6Vr4iXU via @ YouTube Come Watch me dive into a fantastic adventure:) Let's do this: D. @ VxsSociety @ SmallStreamersC\",\n",
              " 'Borderlands 3 Chapter 1 youtu.be / 0SKu6Vr4iXU via @ YouTube Come Watch as I dive into a awesome course:) Lets do this: D. @ VxsSociety @ SmallStreamsC',\n",
              " 'Lost Borderlands Part 3 Chapter 1 youtu. de be / w 0SKu6Vr4iXU via @YouTube Come Watch as I wanna dive into such a awesome Secret Adventure : ) 3 Lets You do this : D. be @VxsSociety @SmallStreamersC',\n",
              " 'Borderlands 3 Chapter 1 Download.be/0SKu6Vr4iXU or @YouTube then Watch whilst I dive into a Virtual Adventure :) Lets do without :D. 8 and',\n",
              " \"Friendly reminder that Borderlands 3's soundtrack is an absolute banger and this song is particular is probably my favorite gag in the entire game. . youtu.be/nFwAmB-tluI\",\n",
              " 'Friendly reminder that the soundtrack of Borderlands 3 is an absolute banger and this song is maybe my favorite gag in the whole game.. youtu.be / nFwAmB-tluI',\n",
              " 'A friendly reminder that the track Borderlands 3 is an absolute banger and this song is special is probably my favorite gag of the whole game... youtu.be / nFwAmB-tluI',\n",
              " \"Friendly reminder that Borderlands 3's soundtrack is an absolute classic and this song is particular is probably my favorite theme of the main game.. youtu.be/nFwAmB-tluI\",\n",
              " \"Friendly reminder is that Borderlands Part 3's soundtrack is an absolute banger and this song is quite particular and is probably my only favorite movie gag in the fucking entire game.. youtu. be / see nFwAmB - html tluI\",\n",
              " \"Friendly Dog<unk> all 3's audio is an absolute mess and any song is by is probably my favorite gag in the entire game.. youtu.be/nFwAmB-tluI\",\n",
              " 'A Noob tries to make A Salvador Build Borderlands 2 twitch.tv / lucasc _ 123',\n",
              " 'Nub tries to force El Salvador to build border lands 2: tch.tv / lucasc _ 123',\n",
              " 'A Noob Trys To Make A Salvador Build Borderlands 2 twitch.tv/lucasc_123',\n",
              " 'from A Noob Trys To Make A Salvador Build Borderlands 2 twitch.tv/lucasc_123',\n",
              " 'Eli Roth is directing the ‘Borderlands’ movie engadget.com/2020/02/20/eli…',\n",
              " 'Eli Roth directs \"Borderlands\" engadget.com / 2020 / 02 / 20 / eli...',\n",
              " \"Elie to direct 'The Frontier' film\",\n",
              " 'Eli Roth is directing the Paramount picture engadget.com/2020/02/20/eli…',\n",
              " 'Jonathan Eli Roth is directing All the ‘ Borderlands ’ movie from engadget. com / 2020 / 02 / 4 20 / 2015 eli …',\n",
              " '<unk><unk> was directing its ‘Borderlands’ movie engadget.com/2020/02/20/eli...',\n",
              " 'Beat DLC2 main story line. Loved it! Thank you!. @ DuvalMagic @ Borderlands. @ GearboxOfficial',\n",
              " 'Beat DLC2 main story line. Loved it! Thank you!. @ DuvalMagic @ Borderlands. @ GearboxOfficial',\n",
              " 'Beat DLC2 The story line.  Loved it!  Thank you!. @DuvalMagic @Borderlands | @GearboxOfficial',\n",
              " 'Heart Beat DLC2 main story first line. Loved it! I Thank you!. 3 @DuvalMagic 2 @Borderlands. @GearboxOfficial',\n",
              " 'a DLC2 short story item. Loved it! Thank F!. @DuvalMagic @Borderlands. @GearboxOfficial',\n",
              " 'If Borderlands and Fallout had a child, it would be @OuterWorlds Love the game though! Terrific work 🤞. ',\n",
              " 'If Borderlands and Fallout had a child, it would be @ OuterWorlds Love the game though! Great work.',\n",
              " 'If Borderlands and Fallout had a child, it would be @ OWorlds Love the game though! Terrible work.',\n",
              " 'If Borderlands and Fallout had a child, it should be @OuterWorlds Love the company though! Terrific work 🤞.',\n",
              " 'If Borderlands and Fallout 5 had a third child, it would be @OuterWorlds for Love loves the game though! Terrific to work [UNK].',\n",
              " 'If Borderlands and RPG had a cliche, it would be simply Love the game<unk>! Terrific work <unk>.',\n",
              " 'me: omg I miss Rhys soooo much I would do anything to see him. . borderlands 3: . . me: pic.twitter.com/c3wvkyrBge',\n",
              " 'me: omg I miss Rhys soooo much, I would do anything to see him.. borderlands 3:.. me: pic.twitter.com / c3wvkyrBge',\n",
              " 'me: omg I miss Rhys soooo much I would do anything to see him... borderlands 3:. me: pic.facebook.com / c3wvkyrBge',\n",
              " 'me: omg I miss Rhys soooo much I would do anything to see him. . borderlands 3: . . me: pic.twitter.com/c3wvkyrBge',\n",
              " 'to',\n",
              " \"Watching You Kalloori Perfect Situation Mystic River Tampa Prescott Dak Johnson Marcus Lego Harry Potter: Years 5-7 Mille Lacs Leonard Kawhi Ivan Rakitic Chilton Dan Glazer Jeff Carter Julio Garcia Algemarin L Borderlands 2 I'll Always Love You. . loveok.store/best-online-sh… https://t.co/AP6H8thDzT\",\n",
              " \"Lego Harry Potter: Years 5-7 Mille Lacs Leonard Kawhi Ivan Rakitic Chilton Dan Glazer Jeff Carter Julio Garcia Algemarin L Borderlands 2 I'll Always Love You... loveok.store / best-online-sh... https: / / t.co / AP6H8thDzT\",\n",
              " 'Watching You Kalloori Perfect Situation Mystic River Tampa Prescott Xavier Johnson Marcus Spears Harry Potter: Years 5-7 Mille Lacs Leonard Kawhi Ivan Rakitic Thunder Jay Glazer Jeff Carter Julio Garcia Algemarin L Borderlands 2 Just Even Love You. Where loveok.store/best-online-sh… https://t.co/AP6H8thDzT]',\n",
              " \"Watching You Jimmy Kalloori Perfect Situation Mystic River Tampa Prescott Dak Johnson Marcus Lego Harry Potter : Years 5 - 7 Luc Mille 3 Lacs Leonard Kawhi Ivan Rakitic Chilton Dan Glazer III Jeff Carter Julio Luis Garcia Algemarin L Borderlands 2... I'll... Always Love You.. The loveok. store / major best - of online - sh … https://t.co/AP6H8thDzT ]\",\n",
              " 'Capitalism on the Borderlands',\n",
              " 'Capitalism at the Border',\n",
              " 'Surrender on the Border',\n",
              " 'Capitalism on Political Borderlands',\n",
              " 'Capitalism through the Borderlands',\n",
              " \"This explains why there's a lack of fast travel stations in Guns, Love, and Tentacles.  Ridiculous.\",\n",
              " 'This explains why there are no fast travel destinations in Guns, Love and Tentacles. Ridiculous.',\n",
              " 'This explains the lack of high-speed tram stations in Gothenburg, Ljuby and Tentacle.',\n",
              " \"This explains why there's a market of fast travel stations for Guns, Love, and Tentacles.  Ridiculous.\",\n",
              " \"This explains why there's also a lack of regular fast travel stations in Guns, I Love, Love and Alternative Tentacles. Ridiculous.\",\n",
              " \"basically explains why there's a lack of fast travel stations in Story, Love, & War. Ridiculous.\",\n",
              " 'Enjoying my Borderlands 3 Tubbz out in the sun  @NumskullDesigns  ',\n",
              " 'Enjoying my Borderlands 3 Tubbz in the sun @ NumskullDesigns',\n",
              " 'Enjoying my Borderlands 3 Tubbz in the sun @ NumskDesigns',\n",
              " 'Enjoying my Borderlands 3 Tubbz<unk> in the sun  @NumskullDesigns',\n",
              " 'Enjoying my Winter Borderlands at 3 Tubbz out in the golden sun @NumskullDesigns',\n",
              " 'to the Borderlands 3 Tubbz out in the sun @NumskullDesigns',\n",
              " nan,\n",
              " 'Completed',\n",
              " 'Series Completed',\n",
              " 'we',\n",
              " 'Wine drunk playing the new Borderlands . . . Goddess life is a fun life.. . .  findom',\n",
              " 'Wine drunk while playing the new Borderlands... The life of the goddess is a fun life..... findom',\n",
              " 'Wine is drunk while playing the new Borderlands... The life of Goddess is a fun life... findom',\n",
              " 'Wine drunk on the video Borderlands... Goddess life is a fun life....  findom',\n",
              " 'Wine are drunk playing the new Borderlands... Goddess and life there is a much fun life.... findom',\n",
              " 'Wine drunk playing the new music... our life as a mortal life.... findom',\n",
              " 'So, fun annoying thing @MeatballMissus and I just learned: There are two different versions of Borderlands: Game of the Year Edition on Steam, and they are not compatible with each other for online play.',\n",
              " 'So, fun with the annoying thing @ MeatballMissus and I just learned: There are two different versions of Borderlands: Game of the Year Edition on Steam, and they are not compatible for online games.',\n",
              " 'So, fun annoying thing @MeatballMissus and PC just learned: There are always different versions of Borderlands: Game of the Year Edition on Steam, and they are always compatible via each other for online play.',\n",
              " 'So, the fun annoying thing @MeatballMissus and it I just learned : There are two substantially different versions of Borderlands : Game of the Future Year Complete Edition on the Steam, and even they are not compatible with each country other for online play.',\n",
              " 'little, fun annoying thing @MeatballMissus and others just learned: There are two different versions of Mario: Game for the Year Edition across Steam, and they are not compatible with each other for online purchases.',\n",
              " '@Borderlands. Can we please get a big hot fix. I did a whole factory reset and a system wipe. But everytime i play borderlands to farm it crashes',\n",
              " \"@ Borderlands. Can we get a big fix please? I've reset an entire factory and deleted a system, but every time I play Borderlands to build a farm it crashes.\",\n",
              " '@ Borderlands. Can we please get a big hot fix. I did a whole factory reset and a system to wipe out. But whenever i play borderlands to farm it crashes',\n",
              " '@Borderlands. could we please get a big hot fix. I gave an whole factory reset and a system wipe. But everytime i play borderlands to farm it crashes',\n",
              " '@Borderlands. Can we just please get him a big hot fix. I did just a routine whole factory reset report and a system wipe. But not everytime i gotta play borderlands to farm it crashes',\n",
              " '@Borderlands. Can we please have a big hot fix. I did a basic factory check and a system refresh. But everytime i play borderlands to farm system crashes',\n",
              " '@Borderlands echo cast doesnt work for me even though it says it is on. it doesnt show anything on twitch about it being on except for when you refresh it says its loading it.',\n",
              " \"@ Borderlands echo cast doesn't work for me, though it says it is on. it doesn't point anything at twitching about that it's turned on, except when you update it, it says it's loading.\",\n",
              " \"@ Borderlands echo cast doesn't work for me even though it says it's on.\",\n",
              " '@Borderlands echo cast doesnt work for me even though it says whatever is on. it doesnt show anything on twitch about something being on except for when you refresh it says its loading correctly.',\n",
              " '@Borderlands echo cast doesnt work for me even though it says it is on. it doesnt show normally on twitch of it being open except if when you hit which says its loading it.',\n",
              " 'Even tho i out leveled this grenade it’s still destroying everything in my path. Check it out: youtu.be/wpdGr4PH8Lo  ',\n",
              " \"Even tho i out leveled this grenade it's still destroying everything in my path. Check it out: youtu.be / wpdGr4PH8Lo\",\n",
              " '2 Even tho i out o leveled this lone grenade it was ’ that s still destroying everything in my path. c Check it that out : youtu. be / wpdGr4PH8Lo',\n",
              " 'Even tho i successfully leveled this grenade it’s seriously hurting everything in my path. slug it out: from.be/wpdGr4PH8Lo',\n",
              " 'Also bought Borderlands on the switch!! love that series and cant wait to play on the go!',\n",
              " \"Also purchased Borderlands on the switch!! Love this series and can't wait to play along the way!\",\n",
              " \"Also bought Borderlands on the switch!! love this series and can't wait to play on the go!\",\n",
              " 'Also bought Borderlands on the switch!! love that series and cant wait to play on to go!',\n",
              " 'And Also bought Borderlands on the switch!! We love it that series and cant wait to play on the second go!',\n",
              " 'Also bought Borderlands but the switch!! love that series and cant look to play on the next!',\n",
              " \"@Borderlands I can't play borderlands 3 on my Xbox without it crashing can you fix this pls\",\n",
              " \"@ Borderlands I can't play Borderlands 3 on my Xbox without it crashing.\",\n",
              " \"@ Borderlands I can't play borderlands 3 on my Xbox without it crashing can you fix this pls\",\n",
              " \"@Borderlands<unk> can't play borderlands 3 on my tablet without it crashing can you fix this pls\",\n",
              " \"A @Borderlands I can't play borderlands 3 on my Xbox without it completely crashing so can you maybe fix this pls\",\n",
              " 'My dumbass was like “what borderlands mod is this” because that mf looks like claptrap',\n",
              " 'My dumbass was like \"What borderlands mod is this,\" because this MF looks like a rattlesnake.',\n",
              " 'My dumbass was like \"what borderlands mod is this\" because that mf looks like claptrap',\n",
              " 'My dumbass was like “what fun mod is this” because every mf looks like claptrap',\n",
              " '... My dumbass was like “ asking what borderlands mod is at this time ” because that mf looks like claptrap',\n",
              " 'My dumbass was like the borderlands mod is this” because that mf looks to being',\n",
              " \"I really like Randy Pitchford, he's been nothing but helpful to me. I hope this is all a mix up.\",\n",
              " \"I really like Randy Pitchford, he just helped me. I hope it's all a mix-up.\",\n",
              " \"I really like Randy Pitchford, he's helped me a lot.\",\n",
              " \"I really like Randy Pitchford, he's been nothing but great to me. I realize this is all a mix up.\",\n",
              " \"I really like Randy Pitchford, but he's been nothing but fucking helpful to get me. Like I hope this is this all a mix up.\",\n",
              " 'So last night.... Borderlands 3 first playthrough complete. Every level in Peggle 2 now unlocked for party night. . But forget all that, I wanna say a huge thank you to my community for all the support they have shown me, it’s insane! And last night was unbelievable so I want (1/2)',\n",
              " \"So last night.... Borderlands 3 first playthrough. Every level in Peggle 2 is now unlocked for the party.. But forget all that, I want to thank my community for all the support they showed me, it's insane! And last night was incredible, so I want (1 / 2)\",\n",
              " \"So last night.... The first game of Borderlands 3 is over. Every level in Peggle 2 is now unlocked for the party night... But forget about it, I want to say a huge thank you to my community for all the support they gave me, it's just amazing!\",\n",
              " 'So last night.... Borderlands 3 first playthrough complete. Every level in Peggle has now unlocked for tomorrow night.. But forget all that, I wanna say a huge thank yo to my friends after all the support they have shown me, it’s insane! And last night was unbelievable so I think (1/2)',\n",
              " 'So last night.... after Borderlands Chapter 3 first Xbox playthrough complete. Every level found in Peggle 2 now unlocked for party night.. But maybe forget all that, because I wanna say a big huge thank you to support my community for all the emotional support they have shown me, it ’ s absolutely insane! And last night was unbelievable so I want ( 1 / 2 )',\n",
              " 'I went to bed at 4am. 5 hours before that at 9pm i was farming Graveward. It is now almost 4pm and i went to farm Graveward again and on my first kill i tried to loot the vault but it was already looted! @Borderlands @Ki11ersix what is wrong with my game it is the broken.',\n",
              " \"I went to bed at 4am. 5 hours earlier at 9pm I was at Graveward Farm. It's almost 4pm now and I went back to Graveward Farm and on my first kill I tried to loot the safe but it was already looted! @ Borderlands @ Ki11ersix What's wrong with my game is the broken one.\",\n",
              " 'I went to bed at 4 am. 5 hours before that at 9 pm i was farming Graveward. It is now almost 4 pm and i went to farm Graveward again and on my first kill i tried to lot the vault but it was already rooted! @ Borderlands @ Ki11ersix what is wrong with my game it is the broken.',\n",
              " 'I went to bed at 4am. 5 days before that at night m was farming Graveward. It is now almost 4pm and i went to farm Graveward again and on my new kill i tried to loot the vault but it was already full! @Borderlands @Ki11ersix what is wrong with my game it we the broken.',\n",
              " 'I went to bed at 4am. 5 hours before that at 9pm i was farming Graveward. It is now almost 4pm and i have went to farm near Graveward again and decided on scoring my first kill i tried not to loot the vault home but it somehow was not already looted! 6 @Borderlands @Ki11ersix what is wrong matters with my game it is the broken.',\n",
              " 'I went to bed at 12. 5 hours before bed at 9pm i were farming Graveward. It came still nearly 4pm and i tried to farm Graveward again and on my third kill i tried to loot the vault that it was already looted! @Borderlands @Ki11ersix what really wrong with my game it is the broken.',\n",
              " '.  LIVE NOW!. . I feel like I have not streamed in forever probably because I have, sorry about that, more Borderlands for a bit with @eyesofness . . . Borderlands. .  twitch.tv/niam https://t.co/t7RJPcJ7DT',\n",
              " \". LIVE NOW!.. I feel like I haven't poured in forever, probably because, sorry, I have more Borderlands for a bit with @ eyesofness... Borderlands.. twitch.tv / niam https: / / t.co / t7RJPcJ7DT\",\n",
              " '. LIVE NOW!.. I feel like I have not streamed in vehicle problem because I have, sorry about that, more Borderlands for a bit with @ eyesofness.... Borderlands...',\n",
              " '.  LIVE NOW!. . I feel like I have not streamed in forever probably because I have, sorry about that, more Borderlands for a bit with RhandlerR . . . Borderlands. .  twitch.tv/niam RhttpR]',\n",
              " '<unk>',\n",
              " '@ITalkFortnite Just bought Borderlands 3 from @EpicGames using your creator code! Can’t wait to use the skin!',\n",
              " \"@ ITalkFortnite Just bought Borderlands 3 from @ EpicGames with your creator code! I can't wait to use the skin!\",\n",
              " '@ Ilennite Just bought Borderlands 3 from @ EpicGames using my creator code!',\n",
              " '@ITalkFortnite Just bought Borderlands 3 from @EpicGames using your creator code! cant wait to see the skin!',\n",
              " '@ITalkFortnite Just bought Borderlands 3 from my @EpicGames using your creator code code! Can ’ on t quite wait to help use the skin!',\n",
              " 'I love u guys',\n",
              " 'I love u guys.',\n",
              " 'I love u guys',\n",
              " 'I love u bro',\n",
              " '21 I love u guys',\n",
              " '<unk> love u guys',\n",
              " 'Borderlands 3 Update Delayed Due To Anti-Racism Protests pic.twitter.com/dDq8WeXJlS',\n",
              " 'Borderlands 3 update delayed due to anti-racism protests pic.twitter.com / dDq8WeXJlS',\n",
              " 'Borderlands 3: Delayed Due To Anti-Racism Protests pic.wikipedia.org / dDq8WeXJlS',\n",
              " 'Borderlands 3 Update Delayed Due To Anti-Racism Protests pic.twitter.com/dDq8WeXJlS',\n",
              " 'Digital Borderlands 3 Update Delayed Due To Anti-Racism Protests pic.twitter.com/dDq8WeXJlS',\n",
              " 'that',\n",
              " '@ Borderlands I have some misgivings about the new update. On the console (Ps4 is not sure otherwise) during the game audio and video are constantly hovering and breaking down, making it difficult to continue the sharp drop in frame rate.',\n",
              " '@Borderlands I have some concerns with the new update. On console(Ps4 n sure whats it) while playing the gaming experience and visuals start to constantly freeze and break making it hard to continue frame rates drop drastically. Now I be worried.',\n",
              " '@Borderlands I also have some... concerns with scheduling the new update. On console ( Ps4 in not sure about other ) while playing the gaming audio effects and visuals start to constantly freeze and heads break making it hard to continue and frame rates drop drastically. The Should if I go be worried.',\n",
              " '@Borderlands I have some concerns with the new update. On console(Ps4 not sure about other) while after the gaming software and visuals start to really crash and break with very hard to continue frame rates drop drastically. Should or be worried.',\n",
              " 'Borderlands science is actually really enjoyable',\n",
              " 'Borderland science is really fun',\n",
              " 'Frontier Science Is Really Attractive',\n",
              " 'Borderlands science is actually somewhat enjoyable',\n",
              " 'Borderlands science is actually getting really enjoyable',\n",
              " 'Borderlands science is actually still enjoyable',\n",
              " \"borderlands 3 sucks why are yall giving money to random pitchford? go borrow the other games from a friend. they're actually good\",\n",
              " \"borderlands 3 sucks why are yall giving money to randy pitchford? go borrow the other games from a cd. they're actually great\",\n",
              " \"borderlands 3 sucks why are yall boy giving money to that randy pitchford? Just go borrow the same other games from a mutual friend. they're really actually good\",\n",
              " \"borderlands now open or are yall giving money on randy pitchford? go borrow the other games from a friend. they're actually good\",\n",
              " 'I should get up & feed my dogs & such that way when mac gets outta Dnd we can just do a watch together... I wanna play more borderlands but these cramps are bad today',\n",
              " 'I should get up & feed my dogs & stuff when the mac is out and we can just make a watch together... I want to play more Borderlands but these cramps are bad today',\n",
              " 'I have to get up and feed my dogs and so when the poppy gets angry we can just do a watch together... I want to play more in the border areas but these crazy ones today are bad',\n",
              " 'I just get up & feed my dogs & such that s when mac gets outta town we can just do a watch together... I wanna play more borderlands but still cramps are bad today',\n",
              " 'I should get up & feed my dogs & all that way when mac are outta school we can also do some watch together... I wanna go more borderlands but these cramps are bad today',\n",
              " 'this is genuinely all you left me with? @GearboxOfficial @Borderlands pic.twitter.com/X4oKeH4TMH',\n",
              " \"That's really all you left me? @ GearboxOfficial @ Borderlands pic.twitter.com / X4oKeH4TMH\",\n",
              " 'this is genuinely all you left me with? RhandlerR RhandlerR pic.twitter.com/X4oKeH4TMH',\n",
              " 'and this is genuinely all you left me with? RhandlerR RhandlerR pic.twitter.com/X4oKeH4TMH',\n",
              " 'Holy shit borderlands 3 is ass.',\n",
              " 'Holy shit borderlands 3 st ass.',\n",
              " 'Holy shit borderlands 3 my ass.',\n",
              " 'Live with some super interesting *LOL* boss farms in Borderlands 3!. twitch.tv/prismeyes33',\n",
              " 'Live with some super interesting * LOL * boss farms in Borderlands 3!.',\n",
              " 'Live with some super interesting *LOL* boss farms in Borderlands 3!. twitch.tv/prismeyes33',\n",
              " 'via Live with some super interesting *LOL* boss farms in Borderlands 3!. twitch.tv/prismeyes33',\n",
              " 'as',\n",
              " 'Unpopular opinion: none of those games are good.',\n",
              " 'Unpopular Opinion: None of these games is good.',\n",
              " 'Unpopular view: None of these games is good.',\n",
              " 'Unpopular opinion: none if those games are good.',\n",
              " 'Unpopular opinion : none of perhaps those games itself are good.',\n",
              " 'Unpopular opinion: Neither of those games are good.',\n",
              " '🧨 bURn aLL tHe BAbiES 🧨.  ',\n",
              " 'bURn aLL tHe BAbiES.',\n",
              " 'bURn aALL tHe BiES.',\n",
              " '🧨 It aLL tHe BAbiES 🧨.',\n",
              " '[UNK] bURn is aLL tHe BAbiES... [UNK].',\n",
              " '<unk> bURn Bookmark tHe permalink <unk>.',\n",
              " 'Atleast I have Borderlands to cheer me up :(',\n",
              " 'At least I have Border Guards to cheer me on: (',\n",
              " 'Atleast I have Borderlands to match me up :(',\n",
              " 'The Atleast I have Borderlands to come cheer me up : (',\n",
              " 'Atleast I have Borderlands can cheer everything up :(',\n",
              " \"Borderlands 3 trash but also lowkey lit, just big sads it's easy as\",\n",
              " 'Borderlands 3 Trash but also Lowkey illuminated, only big Sads it is easy as',\n",
              " \"Borderlands 3 thrash but also quietly lit, just large gardens it's easy as\",\n",
              " \"Borderlands 3 trash but also lowkey lit, just big and it's easy as\",\n",
              " \"Borderlands 3 trash but really lowkey lit, just big and it's easy as\",\n",
              " '@GearboxOfficial Since playing through all of the Borderlands Games with a friend, I really have a taste for something more. I discovered Battleborn, but there is no way to buy it anymore? It looks sooo good and fun, how can I play it?',\n",
              " '@ GearboxOfficial Since playing through all of the Borderlands Games with a friend, I really have a taste for something more. I discovered Battleborn, but there is no way to buy it anymore? It looo good and fun, how can I play it?',\n",
              " '@GearboxOfficial Since playing through all of the Borderlands of Games with just a friend, I really have a natural taste... for something more. Remember I discovered Battleborn, but there is no way to buy it stuff anymore? It simply looks sooo good enough and fun, and how can I play it?',\n",
              " '@GearboxOfficial Since playing through most of the Borderlands Games with a friend, am did have a taste for something more. I discovered Battleborn, but there is there way not buy it now? It looks sooo bad and fun, or can I play it?',\n",
              " \"The @jackothyzine is my first piece of fan made Borderlands merch! I'm so excited to see all the beautiful works of all the artists who participated! .  pic.twitter.com/LSmr9SzaTV\",\n",
              " \"The RhandlerR is my first piece of fan made Borderlands merch! I'm so excited to see all the beautiful works of all the artists who participated! .  pic.twitter.com/LSmr9SzaTV\",\n",
              " \"2014 The RhandlerR is my first piece of fan made Borderlands merch! I'm so excited to see all the beautiful works of all the artists who participated! .  pic.twitter.com/LSmr9SzaTV\",\n",
              " 'that',\n",
              " \"Today is a fantastic day. Congratulations to @ GearboxOfficial @ 2K and @ Borderlands. History makes you feel all the emotions, plus it's the best looking DLC!.. Thank you for letting me join my family!\",\n",
              " 'Congratulations @ GearboxOfficial @ 2K and @ Borderlands.',\n",
              " 'Fantastic day today. 11 Congratulations to President @GearboxOfficial both @2K and @Borderlands. Your Story makes you one feel for all the emotions, its the third best looking DLC by a mile miles to go boot!.. Thank you for letting me join the Royal family!',\n",
              " 'Fantastic review today. Congratulations to brothers Jason and @GearboxOfficial. Story way you feel all the emotions, its the best looking thing by a mile of boot!.. great you guys letting me join the family!',\n",
              " 'Sky Rocket > SuperBadass Caustic Goliath. Borderlands 2  ',\n",
              " 'Sky Rocket > SuperBadass Caustic Goliath. Borderlands 2',\n",
              " 'Skye Rose > SuperBadass Caucasian Goliath. Boundary Lands 2',\n",
              " 'Sky Lines > SuperBadass And Goliath. Borderlands 2',\n",
              " 'Chris loves me in Borderlands one and two.',\n",
              " 'Chris loves me on the edge of one and two.',\n",
              " 'Chris loves me in borderlands one or two.',\n",
              " 'Chris almost loves me in borderlands one dozen and two.',\n",
              " 'Chris got me in borderlands one and two.',\n",
              " 'Y’all stick with Mario Kart and Borderlands. Some shit where you don’t have to compete against someone else. Those are the main motherfuckers hating on me. People who play GTA or The Last Of Us.',\n",
              " \"Y'all stay with Mario Kart and Borderlands. Some shit where you don't have to compete against someone else. Those are the main motherfuckers who hate me. People who play GTA or The Last Of Us.\",\n",
              " \"Y'all stick with Mario Kart and Borderlands. Some shit where you do not have to compete against someone else. Those are the main motherfuckers hatting on me. People who play GTA or The Last Of Us.\",\n",
              " 'Some Y ’ all just stick with a Mario Kart and Borderlands. Some shit where you don ’ t have to compete against someone else. Those are the two main motherfuckers off hating and on watching me. People who just play GTA or The Last Two Of Us.',\n",
              " 'Y’all stick with Mario Kart and Borderlands. Play shit where you only have or compete off someone else. Those are the main motherfuckers hating on games. People really hate GTA or The Last Of Us.',\n",
              " 'HOW HAS IT BEEN A WHOLE YEAR?. Last year I had the legit pleasure of working with @2K_ANZ (and the don @Pez_Bro) on this custom @Borderlands themed @PlayStationAU 4.. . Oh what a time. Would love to work with the brand again for sureee! Still one of my favourite jobs.. . @poscauk pic.twitter.com/lN9snb7jSn',\n",
              " 'HOW HAPPENED IT ALL YEAR?. Last year I had the legitimate pleasure of working with @ 2K _ ANZ (and the don @ Pez _ Bro) on this custom @ Borderlands themed @ PlayStationAU 4... Oh what a time. Would love to work with the brand again to make sure! Still one of my favorite jobs... @ poscauk pic.twitter.com / lN9snb7jSn',\n",
              " 'Last year I had the legitimate pleasure of working with @ 2K _ ANZ (and don @ Pez _ Bro) on this custom @ Borderlands theme @ PlayStationAU 4... Oh what a time.',\n",
              " 'HOW HAS IT BEEN A WHOLE YEAR?. Last year I had the legit pleasure of working with RhandlerR (and the don RhandlerR on this custom RhandlerR themed RhandlerR 4.. . Oh what a time. Would love to work with the brand again for sureee! Still one of my favourite jobs.. . RhandlerR pic.twitter.com/lN9snb7jSn',\n",
              " 'N HOW HAS IT BEEN A WHOLE YEAR?. Last year I had the legit pleasure of working with RhandlerR (and the don RhandlerR on this custom RhandlerR themed RhandlerR 4.. . Oh what a time. Would love to work with the brand again for sureee! Still one of my favourite jobs.. . RhandlerR pic.twitter.com/lN9snb7jSn',\n",
              " 'The',\n",
              " \"Mayhem and Murder Aplenty! It's time for a  . . twitch.tv/bencompetence\",\n",
              " \"Mayhem and Murder Aplenty! It's time for a  . . twitch.tv/bencompetence\",\n",
              " \"as Mayhem and Murder Aplenty! It's time for a  . . twitch.tv/bencompetence\",\n",
              " 'was',\n",
              " 'AGAIN @Borderlands WTF   ',\n",
              " 'AGAIN @ Borderlands WTF',\n",
              " 'AGAIN @Borderlands<unk>',\n",
              " 'AGAIN 2 @Borderlands WTF',\n",
              " 'AGAIN AND WTF',\n",
              " 'This cricket has been the worst hivemind of fandom I have done this more times than I would love to be better if the Tarzan level in Kingdom Hearts is as bad as Borderlands.',\n",
              " \"This cricket was the worst hive of fandom I've done more times than I'd like to if the Tarzan level in Kingdom Hearts was as bad as Borderlands.\",\n",
              " \"That cricket was the worst fennel fennel I've done more times than I'd like if Tarzan's level in the Kingdom of Hearts was as bad as Borderlands's.\",\n",
              " 'This cricket has been dubbed the worst single hivemind of game fandom I have certainly done this more times more than I or would love to be better if the Tarzan level in Kingdom Hearts is as bad there as Borderlands.',\n",
              " 'This cricket already been the worst hivemind for fandom who have done this more times than I would love to be better if the Tarzan level in Eight Hearts is as bad with mine.',\n",
              " 'Borderlands 3 is really fun',\n",
              " 'Borderlands 3 is pretty funny',\n",
              " 'Borderlands 3 is quite different',\n",
              " 'Borderlands 3 is actually quite fun',\n",
              " 'Borderlands stuff is quite fun',\n",
              " 'Sweet',\n",
              " 'Sweet',\n",
              " 'The Sweat',\n",
              " 'Sweet',\n",
              " 'For Sweet',\n",
              " \"Who's on for some @ Borderlands\",\n",
              " \"Who's at @ Borderlands\",\n",
              " \"Who's down with some @Borderlands on\",\n",
              " \"Who't s someone down for some @Borderlands on\",\n",
              " \"Who's down for the @Borderlands on\",\n",
              " \"@EpicGames @2K @Steam why add crossplay for @Borderlands 3 if you weren't gonna make it compatible for console? What a waste\",\n",
              " \"@ EpicGames @ 2K @ Steam, why add Crossplay for @ Borderlands 3 if you wouldn't make it compatible with the console? What a waste!\",\n",
              " \"@ EpicGames @ 2K @ Steam Why add a crossplay for @ Borderlands 3 if you're not going to make it compatible for the console?\",\n",
              " \"@EpicGames on @2K why add crossplay for @Steam 3 if you weren't planning make everything compatible for console? What a waste\",\n",
              " \"@EpicGames 4 @2K @Steam why not add crossplay for @Borderlands 3... if you weren't t really gonna make it compatible enough for console? What with a waste\",\n",
              " \"made @EpicGames @2K why add crossplay for it 3 if you weren't gonna make it compatible for console? That was horrible\",\n",
              " \"I looked at the list. Easily half the list are games my parents would play, the other half are games my children/nieces/nephews would play.. . Maybe 3 (like ACNH) do I actually pick up regularly. Where's Borderlands? Don't Starve? WoW? Hell, I don't play but I love watching-CoD??!?\",\n",
              " \"I looked at the list. Half of the list are games my parents would play, the other half are games my kids / nieces / nephews would play... Maybe I actually record 3 (like ACNH) regularly. Where is Borderlands? Don't starve? WoW? Hell, I don't play, but I love CoD??!?\",\n",
              " \"I looked at the list. Almost half of the list are games my parents will play, the other half are games my children / nieces / nieces will play.. Maybe 3 (like ACNH) I actually choose regularly. Where are Borderlands? Don't Starve? WoW? Hell, I don't play but I love watching-CoD?!?\",\n",
              " \"I looked at a list. Easily half the list are games my daughters would play, the other half are which my children/nieces/nephews would emulate. Maybe 3 (like ACNH) do I actually pick up regularly. Where's Borderlands? Don't Starve? How? Hell, I still play but DO love watching-CoD??!?\",\n",
              " \"I looked at the shopping list. Easily half the this list are games my parents would play, the other half are games maybe my children / nieces / nephews would play... Maybe about 3 ( like ACNH ) things do I actually... pick up regularly. Where'r s our Borderlands? Don't Starve? WoW? Hell, I don'R t play but I also love watching - CoD??!?\",\n",
              " \"I looked at the list. Half half the list are hobbies my parents would have, the better half 2 games my children/nieces/nephews would play... Maybe 3 (like ACNH) do I not pick up regularly. Where's E? Don't Starve? WoW? Hell, no do't play but I am watching-CoD??!?\",\n",
              " \"Well I certainly had a good Valentine's day. I went to the store and bought 2 box's of honey buns, 2 liters of Dr pepper, and enjoyed playing borderlands 3 with the boys. In other words I spent it alone and enjoyed the hell out of it. Goodnight y'all.\",\n",
              " \"Well, I definitely had a nice Valentine's Day. I went to the store and bought 2 boxes of honey rolls, 2 liters of Dr. Pepper and enjoyed playing Borderlands 3 with the boys. In other words, I spent it alone and enjoyed the hell. Goodnight y'all.\",\n",
              " \"Well, of course I had a good Valentine's Day. I went to the store and bought 2 boxes of honey, 2 liters of Dr. Pepper and enjoyed playing border 3 with the boys. In other words, I spent it alone and enjoyed the hell out of it. Goodnight y'all.\",\n",
              " \"Well Tom certainly had a good Valentine's day. Actually went to the grocery yesterday bought 2 box's of honey buns, 2 bottles of Dr pepper, and enjoyed playing borderlands 3 with the boys. In other words I spent it alone and enjoyed the hell out of it. Nice y'all.\",\n",
              " \"Well I certainly had a good Valentine's day. Then I went to the store and bought 2 whole box'r s of honey filled buns, then 2 liters each of Dr pepper, and enjoyed playing borderlands game 3 with the beer boys. In other words not I spent it alone again and enjoyed the hell out of it. Goodnight y'all.\",\n",
              " \"Well I certainly did a good Valentine's day. I went to the shop and bought 2 box's of honey buns, 2 liters of Dr pepper, but enjoyed playing the golf with our boys. That my words exactly ran it alone and enjoyed the hell out of it. Goodnight y'all.\",\n",
              " 'Keep your chin up, SO I CAN SMASH IT WITH A HAMMER!!. . Chaotic reviews the newest Borderlands 3 DLC:. . Psycho Krieg and the Fantastic Fustercluck. . youtu.be/vCBRxRL46UY',\n",
              " 'Hold your chin up, SO I CAN DREAM IT WITH A HAMMER!!. Chaotic reviews for the latest Borderlands 3 DLC:.. Psycho War and the Fantastic Fustercluck... youtu.be / vCBRxRL46UY',\n",
              " 'Hold on to your chin until I go with the hammer!!. Chaotic reviews of the newest Borderlands 3 DLC: Psycho & the Fustercluster... youtu.be / vCBRxRL46UY',\n",
              " 'Keep your shields up, SO I CAN SMASH IT WITH A HAMMER!!.. Chaotic - the newest Borderlands 3 DLC:. American Psycho Mask and... Fantastic Fustercluck.. youtu.be/vCBRxRL46UY',\n",
              " 'Keep your chin held up, or SO GO I CAN SMASH IT AND WITH A HAMMER!!.. Chaotic Digital reviews the upcoming newest Borderlands Part 3 game DLC :.. Psycho to Krieg Ghost and the Fantastic Fustercluck.. youtu. be / vCBRxRL46UY',\n",
              " 'Keep your chin there, SO I I SMASH THIS WITH YOUR HAMMER!!.. Also reviews are available level 3 DLC:.. Psycho Krieg and finally Fantastic Fustercluck.. youtu.be/vCBRxRL46UY',\n",
              " 'Fuck you Epic Store. Borderlands 3 for PC coming to Steam on March 13 disq.us/t/3mi5yed',\n",
              " 'Fuck you Epic Store. Borderlands 3 for PC comes to Steam disq.us / t / 3mi5yed on March 13',\n",
              " 'Fuck you Epic Store. Borderlands 3 for PC coming to Steam on March 13 disq.us / t / 3mi5yed',\n",
              " 'Fuck your Epic Store. Borderlands 3 for PC coming to Steam Stores March 13 disq.us/t/3mi5yed',\n",
              " '2010 Fuck you this Epic Store. Borderlands 3 Made for PC and coming straight to Steam on March 13 disq. us / t / 3mi5yed',\n",
              " 'Fuck The Epic Store. Party 3 for free coming into Steam on March 13 disq.us/t/3mi5yed',\n",
              " 'Started playing @Borderlands 2 dlcs again. These are the best dlcs ever made. The writing is perfect and the humor is on point, just like the main game.',\n",
              " 'Started playing @ Borderlands 2 dlcs again. These are the best dlcs ever made. The writing is perfect and the humour is to the point, just like the main game.',\n",
              " \"Re-started playing @ Borderlands 2. This is the best I've ever done. It's written perfectly, the humor is on point, just like in the main game.\",\n",
              " 'Started playing @Borderlands 2 dlcs again. These are his best dlcs ever made. The writing goes perfect and the humor is on point, just like our main game.',\n",
              " 'Started playing @Borderlands to 2 dlcs again. These are the best dlcs fans ever made. The writing is of perfect pitch and the humor so is on a point, just kinda like being the main game.',\n",
              " 'Started playing @Borderlands 2 dlcs again. These are the best dlcs ever ever. Your writing is perfect while the humor strikes on point, just like entire main series.',\n",
              " 'Wonderful entrancing photos.  ',\n",
              " 'Wonderful adorable photos.',\n",
              " 'Amazing photos.',\n",
              " 'Wonderful summer photos.',\n",
              " 'of Wonderful entrancing photos.',\n",
              " 'Wonderful entrancing beautiful.',\n",
              " \"Its a combination of things. 1) I really love @tonyhawk (follow him) and wanted to be called Hawk. 2) Lilith from Borderlands. She's called the Firehawk but that's always taken so Blazehawk it was. 3) The 117 comes from my love for Halo. It's just to make sure it's not taken.\",\n",
              " \"It's a combination of things. 1) I really love @ tonyhawk (follow him) and wanted to be called Hawk. 2) Lilith from Borderlands. She's called Firehawk, but that's always been taken the way Blazehawk was. 3) The 117 is from my love of Halo. It's just to make sure it's not taken.\",\n",
              " \"Its a combination of things. 1) I really love @ tonyhawk (follow him) and wanted to be called Hawk. 2) Lilith from Borderlands. She's called the Firehawk but that's always taken so Blazehawk it was. 3) The 127 comes from my love for Halo. It's just to make sure it's not taken.\",\n",
              " \"Its a combination of things. 1) I really love @tonyhawk<unk> him) and wanted to be called Hawk. 2) Lilith the Borderlands. She's called the Firehawk but that's kinda taken so Blazehawk it was. 2) The 117 comes from this love for Hawk. It's just to make sure thats not taken.\",\n",
              " \"Its a combination of things. 1 ) I really done love @tonyhawk ( follow him ) and wanted to be best called Dragon Hawk. C 2 ) Lilith from Borderlands. She's called the Firehawk... but that's always taken so Blazehawk it was. 3 ) The term 117 comes from my romantic love for the Halo. It's just to make good sure it's also not taken.\",\n",
              " \"Its another bunch of things. I) I really love @tonyhawk (follow him) and wanted to be called Hawk. 2) Lilith from Borderlands. She's called the Echo but that's rarely been so therefore it was. 3) The 117 comes from my love for Halo. It's impossible to make like it's never taken.\",\n",
              " 'Somehow I JUST discovered the @PowerRangers reference in @Borderlands 3... .  I love this game.',\n",
              " 'Somehow I discovered the @ PowerRangers reference in @ Borderlands 3. I love this game.',\n",
              " 'Somehow I found a link to @ PowerRangers in @ Borderlands 3... I love this game.',\n",
              " 'Somehow someone JUST discovered the music reference in @PowerRangers 3....  I love this game.',\n",
              " 'Somehow wrong I JUST discovered in the @PowerRangers reference in The @Borderlands 3....... I love this guitar game.',\n",
              " 'Somehow must just find the video reference in @PowerRangers 3.... I love this game.',\n",
              " 'hey who the fuck did i loan my copy of borderlands to i cannot remember',\n",
              " \"hey, who the hell lent me my copy of Borderlands I can't remember\",\n",
              " 'hey who the fuck did i loan my copy of borderlands to i cannot remember',\n",
              " 'hey who the fuck did i pawn my copy of borderlands to i cannot remember',\n",
              " 'while hey who the fuck did i loan someone my copy of their borderlands to i cannot remember',\n",
              " 'hey whom the fuck did i loan my copy of this to i cannot remember',\n",
              " 'Borderlands 3 stream after breakfast? Possibly! Having some back issues today so we will see how long i can sit in this chair.',\n",
              " \"Borderlands 3 stream after breakfast? Possibly! I have back problems today, so we'll see how long I can sit in this chair.\",\n",
              " \"Borderlands 3 flowing after breakfast? Sad! I have a back problem today, so let's see how long I can sit in this chair.\",\n",
              " 'Borderlands 3 stream after breakfast? Possibly! Having some back scans today so we will decide how long i can sit in this chair.',\n",
              " 'Borderlands September 3 time stream after breakfast? Possibly! Having some back room issues today so we will each see how long i can sit in this comfortable chair.',\n",
              " 'Borderlands 3 photos of breakfast? Possibly! Having some back issues today so we will see how long i can sit the lounge chair.',\n",
              " \"5 games, 5 Mutuals. . Pokémon. Borderlands (p much all). Sims 4 (haven't played in forever tho). Spiderman PS4. Spyro Reignited. . Uuuh I'm not good at this either. @CiaranStrange @Sasspiria @orionsuccs @msmarquise8. Bleh\",\n",
              " \"5 Games, 5 Mutuals.. Pokémon. Borderlands (p much all). Sims 4 (haven't played forever). Spiderman PS4. Spyro Reignited... Uuuh, I'm not good at it either. @ CiaranStrange @ Sasspiria @ orionsuccs @ msmarquise8. Bleh\",\n",
              " \"5 games, 5 mutuals... Pokémon. Borderlands (p much all). Sims 4 (haven't played in forever tho). Spiderman PS4. Spyro Regulated.. Uuuh I'm not good at this too. @ CiaranStrange @ Festivala @ orionsucks @ benzmarquise8. Bleh\",\n",
              " \"5 games, 5 Mutuals.. Pokémon. Borderlands (p much The Sims 2000 (haven't played in forever tho). Spiderman Games. Spyro 2.... Uuuh I'm not good at this either. @CiaranStrange @Sasspiria H @orionsuccs. Bleh\",\n",
              " \"5 games, 5 Mutuals.. Pokémon. Borderlands ( two p very much all ). Sims 4 ( haven't played in forever at tho ). Spiderman on PS4. This Spyro Reignited.. Uuuh I'm m not good at this either. @CiaranStrange to @Sasspiria 5 @orionsuccs 0 @msmarquise8. John Bleh\",\n",
              " \"5 friends, 5 players.. Pokemon. Borderlands (p much all). Sims 6 (haven't played in forever tho). Spiderman 6. 2 Reignited.. Uuuh that'm not through with this either. @CiaranStrange Xbox @Sasspiria PlayStation. Bleh\",\n",
              " 'My favourite games I guess?. . 1. Minecraft. Can’t ever beat that.. 2. Plants Vs. Zombies - First video game I played. 3. Borderlands 2 - Thank @DarkyMaine for this. 4. Undertale/Deltarune. 5. Mario Kart 8 Deluxe. . Dibs on @Art_Author and @Robang592 to try this',\n",
              " \"My favorite games I guess?.. 1. Minecraft. Can't beat that.. 2. Plants Vs. Zombies - First video game I played. 3. Borderlands 2 - Thank you @ DarkyMaine for that. 4. Undertale / Deltarune. 5. Mario Kart 8 Deluxe... Dibs on @ Art _ Author and @ Robang592 to try this out\",\n",
              " \"My favorite games I guess?... 1. Minecraft. Can't ever beat that.. 2. Plants Vs. Zombies - First video game I played. 3. Borders 2 - Thank @ DarkyMaine for this. 4. Undertale / Darune. 5. Mario Kart 8 Deluxe... Dibs on @ Art _ Author and @ Robang592 to try this\",\n",
              " 'My Dream console I get?.. 1. Mario. Can’t ever beat that.. 2. Plants Vs. Zombies - First video game I played. three. Borderlands 2 - Thank @DarkyMaine for this. 4. Undertale/Deltarune. 6. Mario Kart 8 again.. Dibs on @Art_Author and @Robang592 to try this',\n",
              " 'My favourite games I could guess?.. Also 1. Minecraft. Can we ’ t ever beat that.. 2. Blood Plants World Vs. Vampire Zombies - First video game I played. 3. Borderlands 2 - Thank @DarkyMaine also for this. 4. Undertale / Deltarune. 5. Mario Brothers Kart 8 Deluxe.. Dibs on @Art_Author and was @Robang592 going to try this',\n",
              " 'My earliest games actually played?.. 1. Minecraft. Can’t a beat that.. 2. Plants Vs. Zombies - First ever game even played. 3. Borderlands 2 - Thank @DarkyMaine for this. 4. Undertale/Deltarune. 5. Mario Kart 8 Deluxe.. Bravo at @Art_Author and @Robang592 to try this',\n",
              " 'Darth Filius unlocked 1 achievement in Borderlands3 and increased their gamerscore with 15 to 595 in that game and 40029 total',\n",
              " 'Darth Filius scored 1 success in Borderlands3 and increased his gamesscore with 15 to 595 in this game and 40029 overall.',\n",
              " 'Dart Philus opened 1 achievement in Border3 and increased his score from 15 to 595 in that game and 40029 in total',\n",
              " 'Darth Filius unlocked 1 achievement from Borderlands3 and increased their gamerscore with 15 to 3 in that game and 40029 total',\n",
              " 'Darth The Filius unlocked 1 official achievement app in Borderlands3 2018 and increased their gamerscore with 15 to 595 in to that game and 40029 total',\n",
              " 'Darth Filius with 1 achievement about 4 and increased their gamerscore with 15 score 595 in that game and 40029 total',\n",
              " ' .  ',\n",
              " nan,\n",
              " nan,\n",
              " '.',\n",
              " '.',\n",
              " '.',\n",
              " 'YO! Epic giveaway stream! Got to gift out 2 Twitch Subs to the channel last stream!. . Congratz to @StoicFlash and ttv/Danagor1129!. . DbD was EPIC!. Marble on Stream was EPIC!. Borderlands 3 was EPIC!. . Fucking love you, guys.. Epic nerd, out.',\n",
              " 'YO! Epic Giveaway Stream! May give away 2 Twitch Subs to the last stream of the station!.. Congratulations to @ StoicFlash and ttv / Danagor1129!.. DbD was EPIC!. Marble on Stream was EPIC!. Borderlands 3 was EPIC!.. Damn love you guys.. Epic Nerd, out.',\n",
              " 'YO! Epic giveaway stream! Got to give out 2% Subs to the channel last stream!.. Congratz to @ StoicFlash and ttv / Danagor1129!.. DbD was FBD was FBD!. Marble on Stream was FBIC!. Borders 3 was FBIC!.. Fucking love you, guys.. Epic nerd, out.',\n",
              " 'YO! Epic giveaway stream! Got to gift me 3 Wii Subs to the channel last stream!.. Congratz to @StoicFlash and ttv/Danagor1129!., DbD was awesome Marble on Stream was stunning Borderlands 3 was EPIC!.. Fucking love you, guys.. We nerd, out.',\n",
              " 'YO! Epic epic giveaway stream! Got to gift out 2 Twitch Subs to the channel 2 last stream!.. and Congratz me to @StoicFlash and receive ttv / 1 Danagor1129!.. DbD was Big EPIC!. Marble on Stream 8 was huge EPIC!. Borderlands 3 was EPIC!.. Fucking Gotta love you, guys.. Epic nerd, out.',\n",
              " 'YO! Epic giveaway<unk>! proceeds to gift out 2 Twitch Subs who hit first last stream!.. Congratz to @StoicFlash and ttv/Danagor1129!.. It was awesome!. Blog on Stream was brilliant!. Borderlands 3 a EPIC!.. Fucking love you, guys.. Epic nerd, out.',\n",
              " 'Borderlands 3 is Amazing twitch.tv/nightshade1245_',\n",
              " 'Borderlands 3 is amazing twitch.tv / nightshade1245 _',\n",
              " 'Borderlands 3 is Amazing: tch.tv / nightshade1245 _',\n",
              " 'Borderlands 3 is Amazing twitch.tv/nightshade1245_',\n",
              " 'IBM Borderlands 3 is Amazing twitch.tv/nightshade1245_',\n",
              " 'not',\n",
              " 'Eli Roth is making a movie based on the game,  . . bit.ly/2wv4KHM',\n",
              " 'Eli Roth is making a movie about the game,.. bit.ly / 2wv4KHM',\n",
              " 'Elie is making a film based on the game,.. bit.ly / 2wv4KHM',\n",
              " 'Eli Roth is making a comic based on said game, .. bit.ly/2wv4KHM',\n",
              " 'Eli Whitney Roth International is making a movie based loosely on using the game,.. bit. ly / on 2wv4KHM',\n",
              " 'Eli Roth is making a movie focusing on that novel,.. bit.ly/2wv4KHM',\n",
              " 'I want to thank  ',\n",
              " 'I want to say thank you',\n",
              " 'I want to thank',\n",
              " 'I want to know',\n",
              " 'That I want to thank',\n",
              " 'then want to thank',\n",
              " 'never again',\n",
              " 'Never again',\n",
              " 'Never again',\n",
              " 'never happened',\n",
              " 'and never again',\n",
              " '<unk> again',\n",
              " \"I'm honestly not sure how I feel about this, I'm going to have to see how things Shape Up. I love Borderlands 1 and 2. I've enjoyed a few Eli Roth films also.  We shall see.\",\n",
              " \"I'm honestly not sure how I feel about it, I'll have to see how things turn out. I love Borderlands 1 and 2. I've also enjoyed a few Eli Roth movies. We'll see.\",\n",
              " \"I'm honestly not sure how I feel about it, I'll have to see how it goes. I love Borderlands 1 and 2. I also liked a few Eli Osborne movies. Let's see.\",\n",
              " \"I'm honestly less sure that I feel about this, really going to have to see how things Shape Up. I love Borderlands 1 and 2. I've enjoyed select few Eli Roth films also.  We shall see.\",\n",
              " \"as I'm honestly not sure how I feel about this, I'm going nuts to have to see into how These things Shape Up. And I love Zombie Borderlands 1 and 2. I've just enjoyed a few Eli Roth films also. Like We not shall ever see.\",\n",
              " \"I'm sure not sure how I relate to this, I'm going to have another wonder how things Shape Up. I loved Borderlands 1 and Beyond. I've enjoyed a few Eli Roth films also. We shall see.\",\n",
              " 'So after the past 9 days of streaming on the bounce, and last nights insanely brilliant session on  . . Psi Out! . ',\n",
              " 'So after the last 9 days of streaming on the Bounce and the insanely brilliant session last night... Psi Out!.',\n",
              " 'So, after the last 9 days of streaming on the rebound, and the last nights of a stunningly brilliant session on... Psi Out!.',\n",
              " 'So after the past 9 days of streaming on the bounce, following last weekends insanely brilliant session on .. Psi Out!.',\n",
              " 'So after the next past 9 days months of video streaming on that the bounce, and last nights insanely brilliant session on.. and Psi Out!.',\n",
              " 'So after the past 9 days about riding on the bounce, and that nights insanely brilliant session on.. Psi da!.',\n",
              " \"bioshock and borderlands coming to the switch let's fucking go\",\n",
              " \"Bioshock and Borderlands in the switching game Let's fucking go\",\n",
              " \"bioshock and borderlands approaching the switch, let's fuck it up\",\n",
              " 'bioshock and borderlands coming to the switch so fucking go',\n",
              " \"bioshock plains and borderlands coming out to the switch let'a s fucking go\",\n",
              " \"bioshock and borderlands coming to the UK let's fucking fucking\",\n",
              " '@GearboxOfficial sooooo....when we getting that borderlands 3 xbox one x patch that fixes console shutting down???',\n",
              " '@ GearboxOfficial sooooo.... if we get that Borderlands 3 xbox an x patch that fixes console shutdown???',\n",
              " '@ GearboxOfficial sooooo.... when we getting that borderlands 3 xbox one x patch that fixes console shutting down???',\n",
              " '@GearboxOfficial sooooo....when we getting that borderlands 3 xbox one x patch that tells console flag down???',\n",
              " '@GearboxOfficial sooooo.... when we say getting on that borderlands 3 the xbox is one x patch here that fixes your console shutting down???',\n",
              " '@GearboxOfficial sooooo....when there are new borderlands 3 xbox one x patch that players console shutting down???',\n",
              " \"Today's best game deals: Wonderful 101 Remaster $34, Borderlands 3 $10, more 9to5toys.com/2020/07/23/bes… by @justinkahnmusic\",\n",
              " \"Today's best toys: Wonderful 101 Remasters $34, Borderlands 3 $10, more 9to5toys.com / 2020 / 07 / 23 / bes... by @ justinkahnmusic\",\n",
              " 'The best gaming deals to date: Wonderful 101 Remaster $34, Borderlands 3 $10, more 9to5toys.com / 2020 / 07 / 23 / bes... by @ justinkmusic',\n",
              " \"Today's best Borderlands deals: Wonderful Tower Remaster $34, Borderlands 3 $10, cover 9to5toys.com/2020/07/23/bes… by @justinkahnmusic\",\n",
              " \"Today's s very best gaming game deals : Wonderful 101 Remaster $ 34, 850 Borderlands 3 $ a 10, more 9to5toys. com / September 2020 / 07 / 2015 23 / bes is … by @justinkahnmusic\",\n",
              " \"1's best selling video: Wonderful 101 Remaster 3, PlayStation 3 $60, more 9to5toys.com/2020/07/23/bes... by @justinkahnmusic\",\n",
              " 'Sunday Funday! Enjoying Borderlands 3 twitch.tv/mad_man31',\n",
              " 'Sunday Funday! Enjoying Borderlands 3 twitch.tv / mad _ man31',\n",
              " 'Sunday Funday! Enjoying Borderlands 3: tch.tv / mad _ man31',\n",
              " 'Sunday Funday! Enjoying Borderlands 3 twitch.tv/mad_man31',\n",
              " '2013 Sunday Funday! Enjoying Borderlands 3 twitch.tv/mad_man31',\n",
              " '<unk>',\n",
              " 'Damn, the Borderlands remaster was my most played game on PS4 throughout ALL of 2019? And it was followed by Modern Warfare and One Piece World Seeker??? This is even more dire looking than my numbers on Switch... pic.twitter.com/XOOkfj1IEj',\n",
              " 'Damn it, the remaster of Borderlands was my most played game on PS4 for the whole of 2019? And it was followed by Modern Warfare and One Piece World Seeker??? This looks even bleaker than my numbers on Switch... pic.twitter.com / XOOkfj1IEj',\n",
              " \"Damn, Borderlands Fister was my most popular game on PS4 for the whole of 2019? And it was followed by Modern Warfare and One Wace World Seeker??? It's even worse than my numbers on Swift... pic.wikipedia.com / XOOk1J\",\n",
              " 'Damn, the Borderlands remaster was my most played game on PS4 throughout ALL of 2019? And it was followed by Modern Warfare and One Piece World Seeker??? This is even more dire looking than my numbers on Switch... pic.twitter.com/XOOkfj1IEj',\n",
              " 'John Damn, the Borderlands remaster was my most played game on PS4 throughout ALL of 2019? And it was followed by Modern Warfare and One Piece World Seeker??? This is even more dire looking than my numbers on Switch... pic.twitter.com/XOOkfj1IEj',\n",
              " 'had',\n",
              " 'Hmmmmmm this could be really good',\n",
              " 'Hmmmmmmmm, that could be really good',\n",
              " 'Hmm, it could be really good',\n",
              " 'Hmmmmmm this could be rather good',\n",
              " 'Hmmmmmm man this could be really good',\n",
              " 'Hmmmmmm this could be quite good',\n",
              " 'I really enjoy streaming these fun story based games, and this one is no exception.. . -Ash',\n",
              " 'I really enjoy streaming these fun story-based games, and this one is no exception... -Ash',\n",
              " \"I'm really enjoying streaming these fun games based on history, and this game is no exception.\",\n",
              " 'I really enjoy streaming these fun story time panels, and this one is no exception... -Ash',\n",
              " 'I never really enjoy streaming all these fun story based games, though and this good one is no exception... - Ash',\n",
              " 'I really love streaming these excellent story based games, and this one is no particular... -Ash',\n",
              " 'Stay tuned for the next week\\'s episode of \"Hello Reddit, my boss is definitely fucking my best friend, what should I do ?\".. .  ',\n",
              " 'Stay tuned for next week\\'s episode of \"Hello Reddit, my boss is definitely my best friend, what should I do?..\"',\n",
              " 'The flock tuned in for next week\\'s episode \"Hello Reddit, my boss is definitely fucking my best friend, what am I supposed to do?\"',\n",
              " 'Stay tuned for the next week\\'s episode of Hello Reddit, my boss is already fucking you best friend, what should I do?\"...',\n",
              " 'Stay tuned and for the new next week\\'S s episode of \" Hello Reddit, my boss guy is definitely fucking annoying my best friend, but what should I do? \"...',\n",
              " 'Stay tuned for your next week\\'s version of \"Hello Reddit, my boss is definitely NOT my internet friend, what should I expect?\"...',\n",
              " 'is there a particular piece of media u just cannot stand to see for no particular reason. like its not bad you just hate seeing it. mine is borderlands and just anything dnd related',\n",
              " \"there's a certain piece of media u just can't bear to see without a special reason. like it's not bad, you just hate to see it. mine is borderland and just everything that goes with it\",\n",
              " 'is there a particular piece of media u just cannot stand to see for no particular reason. like its not bad you just hate seeing it. mine is borderlands and just anything dnd related',\n",
              " 'is that a particular piece of media u just cannot stand to see for no particular day. like its not bad you should hate seeing it. mine is borderlands and just anything dnd related',\n",
              " 'is there a particular piece of media u just cannot stand to see it for no particular reason. like you its not bad sometimes you just never hate seeing it. mine is borderlands now and do just hardly anything dnd related',\n",
              " 'is there a particular piece in media u just cannot see it watching for no particular excuse. like its not awful you just hate seeing it. mine is borderlands and just anything dnd related',\n",
              " \"Finally got our hands on Borderlands 3 on @GoogleStadia  this weekend thanks to the free weekend for Pro Subscribers, so naturally, we had to compare it to the others, shame GeForce NOW couldn't be part of it @2K @Borderlands feel free to bring it back youtu.be/1obL-mLnSG4\",\n",
              " \"Thanks to the free weekend for Pro subscribers, we finally got our hands on Borderlands 3 this weekend on @ GoogleStadia, so of course we had to compare it to the others, too bad GeForce couldn't be there NOW @ 2K @ Borderlands won't hesitate to bring it back to youtu.be / 1obL-mLnSG4\",\n",
              " 'Finally we got our hands on Borderlands 3 at @ GoogleStadia this weekend thanks to a free day off for Pro subscribers, so naturally we had to compare it to others, shame GeForce NOW could not be part of this @ 2K @ Borderlands feel free to bring it back youtu.be / 1obL-mLnSG4',\n",
              " \"Finally laid our hands on Borderlands 3 on @GoogleStadia  this weekend thanks from their free weekend for Pro Subscribers, so eh, we had to compare prices to the others, shame GeForce NOW couldn't be put on it @2K @Borderlands feel free to bring it back youtu.be/1obL-mLnSG4\",\n",
              " \"Finally got our hands on Borderlands 3 on @GoogleStadia this Fall weekend thanks to the usual free weekend distribution for Pro Music Subscribers, and so naturally, sometimes we had to compare it to the others, shame from GeForce 3 NOW couldn't be part of it @2K @Borderlands feel free to also bring it back onto youtu. be / 1obL - mLnSG4\",\n",
              " \"us got our copy on Borderlands back on @GoogleStadia this weekend thanks to the free weekend for Pro Gaming, so naturally, we plan to send the to the other, shame GeForce which couldn't be part of it @2K and feel free to bring it back youtu.be/1obL-mLnSG4\",\n",
              " 'Cheers @Borderlands...Didn‘t want that legendary anyway  ',\n",
              " \"Cheers @ Borderlands... Didn't want the legendary one anyway\",\n",
              " \"Cheers @ Borderlands... Didn't want that legendary anyway\",\n",
              " 'Cheers @Borderlands...Didn‘t become that legendary anyway',\n",
              " 'TV Cheers @Borderlands... Didn t ‘ its t want that legendary anyway',\n",
              " 'Cheers @Borderlands...Didn‘t want that on dude',\n",
              " \"I've experienced acid reflux before. I did not enjoy it!\",\n",
              " \"I've experienced acid reflux before, which I didn't enjoy!\",\n",
              " \"I've had acid reflux before, I didn't like it!\",\n",
              " \"I've experienced acid baths before. I did not enjoy it!\",\n",
              " \"I've experienced acid reflux this before. I did not very enjoy experiencing it!\",\n",
              " \"I've tried having reflux before. I did not enjoy it!\",\n",
              " 'i maed dis bc i love maya (the siren) and im very proud of it . .  ',\n",
              " 'i maed dis bc i love maya (the siren) and I am very proud of it.',\n",
              " 'i maed dis bc i love maya (the siren) and im very proud of it.',\n",
              " 'i do dis bc i am maya (the siren) and im very proud of it..',\n",
              " 'i maed is dis bc i love maya ( the siren ) and i im very fucking proud of losing it..',\n",
              " 'i maed dis bc i love the (the beautiful) girl im so proud of it..',\n",
              " 'A reimagining of the Keep on the Borderlands. And he’s also doing the Caves of Chaos! This stuff was formative for many of us from way back. I love it!',\n",
              " 'And he also makes the caves of chaos! This stuff was formative for many of us a long time ago. I love it!',\n",
              " 'And he\\'s also doing \"The Eagles\"! This stuff was for many of us from the road back. I love it!',\n",
              " 'A reimagining of the Keep and the Borderlands. And he’s also doing Seven Caves of Chaos! This stuff was formative of many of us from way back. I love Batman!',\n",
              " '« A reimagining of the Keep and on the Borderlands.... And... he said ’ was s also doing the Caves of Chaos! This stuff was so formative for too many of us from way back. I love it!',\n",
              " 'A reimagining of Lost Keep on the Borderlands. And he’s also doing the Caves through Chaos! That stuff looked formative as many of these from way back. I love it!',\n",
              " 'Hey! You, sitting there reading this! Me and @lilmermaidkayy are going to be continuing our first playthrough of Borderlands 3 tonight! Stop by and enjoy some drinks with us! < 3 twitch.tv/torquex . . @TwitchSIE @SupportStreamz @SupStreamers @ImLiveRT.   ',\n",
              " 'Me and @ lilmermaidkayy will continue our first playthrough of Borderlands 3 tonight! Drop by and enjoy some drinks with us! < 3 twitch.tv / torquex. @ TwitchSIE @ SupportStreamz @ SupStreamers @ ImLiveRT.',\n",
              " 'Me and @ lilmermaidkayy are going to continue our first run of Borderlands 3 tonight! Come and enjoy drinks with us!',\n",
              " 'Hey! You, sitting there reading this! Me and RhandlerR are going to be continuing our first playthrough of Borderlands 3 tonight! Stop by and enjoy some drinks with us! < 3 twitch.tv/torquex . . RhandlerR RhandlerR RhandlerR RhandlerR.   ',\n",
              " 'Radio Hey! You, sitting there reading this! Me and RhandlerR are going to be continuing our first playthrough of Borderlands 3 tonight! Stop by and enjoy some drinks with us! < 3 twitch.tv/torquex . . RhandlerR RhandlerR RhandlerR RhandlerR.   ',\n",
              " 'on',\n",
              " 'love him xx.  ',\n",
              " 'Love him.',\n",
              " 'Love him.',\n",
              " 'love mum xx.',\n",
              " 'Please love him xx.',\n",
              " 'gave him xx.',\n",
              " 'I just crafted my own action-skill in Borderlands 3 and it works. . 🤯',\n",
              " 'I just developed my own action skill in Borderlands 3 and it works.',\n",
              " 'I just got carried away with my own action skill in Borderlands 3 and it works.',\n",
              " 'I just crafted your own action-skill in Borderlands 3 and it works.. 🤯',\n",
              " 'I finally just crafted my own action - skill in Borderlands 3 and thought it seriously works.. [UNK]',\n",
              " 'therefore just crafted the default action-skill in Borderlands 3 and it works.. <unk>',\n",
              " 'Destiny is just Borderlands but shit',\n",
              " 'Destiny is just Borderlands, but shit',\n",
              " 'Destiny is just borderland, but shit',\n",
              " 'Destiny as just Borderlands but shit',\n",
              " 'Destiny Park is just Borderlands but shit',\n",
              " 'Destiny is just Borderlands but I',\n",
              " 'Happy Sunday  ',\n",
              " 'Happy Sunday',\n",
              " 'Happy Sunday',\n",
              " 'Happy Saturday',\n",
              " 'A Happy Sunday',\n",
              " 'on Sunday',\n",
              " 'Why does my Xbox One X still shut itself off when I play Blands 3..? @GearboxOfficial @Borderlands',\n",
              " 'Why does my Xbox One X still turn off when I play Blands 3? @ GearboxOfficial @ Borderlands',\n",
              " 'Why does my Xbox One X still turn off when I play Blands 3..? @ GearboxOfficial @ Borderlands',\n",
              " 'Why does an Xbox 360 X still shut itself off when I play Blands 3..? @GearboxOfficial @Borderlands',\n",
              " 'Why does my red Xbox One X still shut itself shut off knowing when would I play Blands 3..? S @GearboxOfficial @Borderlands',\n",
              " 'Why if its Xbox One X still shut itself shut when I play Blands 3..? @GearboxOfficial 3',\n",
              " 'Found this interesting book in the new Bl3 dlc  ',\n",
              " ...]"
            ]
          },
          "metadata": {},
          "execution_count": 67
        }
      ]
    },
    {
      "cell_type": "code",
      "execution_count": null,
      "metadata": {
        "id": "Zh4xB8h9McsO",
        "colab": {
          "base_uri": "https://localhost:8080/"
        },
        "outputId": "1fe57eef-1be7-4c31-e385-e957ff0399f2"
      },
      "outputs": [
        {
          "output_type": "stream",
          "name": "stderr",
          "text": [
            "\r  0%|          | 0/828 [00:00<?, ?it/s]WARNING:tensorflow:Model was constructed with shape (None, 163) for input KerasTensor(type_spec=TensorSpec(shape=(None, 163), dtype=tf.float32, name='embedding_3_input'), name='embedding_3_input', description=\"created by layer 'embedding_3_input'\"), but it was called on an input with incompatible shape (None, 1).\n"
          ]
        },
        {
          "output_type": "stream",
          "name": "stdout",
          "text": [
            "1/1 [==============================] - 1s 1s/step\n"
          ]
        },
        {
          "output_type": "stream",
          "name": "stderr",
          "text": [
            "\r  0%|          | 1/828 [00:01<14:59,  1.09s/it]"
          ]
        },
        {
          "output_type": "stream",
          "name": "stdout",
          "text": [
            "1\n",
            "1/1 [==============================] - 0s 17ms/step\n",
            "1\n",
            "1/1 [==============================] - 0s 19ms/step\n"
          ]
        },
        {
          "output_type": "stream",
          "name": "stderr",
          "text": [
            "\r  0%|          | 3/828 [00:01<04:35,  2.99it/s]"
          ]
        },
        {
          "output_type": "stream",
          "name": "stdout",
          "text": [
            "1\n",
            "1/1 [==============================] - 0s 22ms/step\n",
            "1\n",
            "1/1 [==============================] - 0s 17ms/step\n"
          ]
        },
        {
          "output_type": "stream",
          "name": "stderr",
          "text": [
            "\r  1%|          | 5/828 [00:01<02:47,  4.93it/s]"
          ]
        },
        {
          "output_type": "stream",
          "name": "stdout",
          "text": [
            "1\n",
            "1/1 [==============================] - 0s 18ms/step\n",
            "1\n",
            "1/1 [==============================] - 0s 22ms/step\n"
          ]
        },
        {
          "output_type": "stream",
          "name": "stderr",
          "text": [
            "\r  1%|          | 7/828 [00:01<02:03,  6.66it/s]"
          ]
        },
        {
          "output_type": "stream",
          "name": "stdout",
          "text": [
            "1\n",
            "1/1 [==============================] - 0s 18ms/step\n",
            "1\n",
            "1/1 [==============================] - 0s 22ms/step\n"
          ]
        },
        {
          "output_type": "stream",
          "name": "stderr",
          "text": [
            "\r  1%|          | 9/828 [00:01<01:39,  8.23it/s]"
          ]
        },
        {
          "output_type": "stream",
          "name": "stdout",
          "text": [
            "1\n",
            "1/1 [==============================] - 0s 22ms/step\n",
            "1\n",
            "1/1 [==============================] - 0s 24ms/step\n"
          ]
        },
        {
          "output_type": "stream",
          "name": "stderr",
          "text": [
            "\r  1%|▏         | 11/828 [00:01<01:24,  9.69it/s]"
          ]
        },
        {
          "output_type": "stream",
          "name": "stdout",
          "text": [
            "1\n",
            "1/1 [==============================] - 0s 29ms/step\n",
            "1\n",
            "1/1 [==============================] - 0s 23ms/step\n"
          ]
        },
        {
          "output_type": "stream",
          "name": "stderr",
          "text": [
            "\r  2%|▏         | 13/828 [00:01<01:17, 10.47it/s]"
          ]
        },
        {
          "output_type": "stream",
          "name": "stdout",
          "text": [
            "1\n",
            "1/1 [==============================] - 0s 18ms/step\n",
            "1\n",
            "1/1 [==============================] - 0s 22ms/step\n"
          ]
        },
        {
          "output_type": "stream",
          "name": "stderr",
          "text": [
            "\r  2%|▏         | 15/828 [00:02<01:10, 11.57it/s]"
          ]
        },
        {
          "output_type": "stream",
          "name": "stdout",
          "text": [
            "1\n",
            "1/1 [==============================] - 0s 23ms/step\n",
            "1\n",
            "1/1 [==============================] - 0s 24ms/step\n"
          ]
        },
        {
          "output_type": "stream",
          "name": "stderr",
          "text": [
            "\r  2%|▏         | 17/828 [00:02<01:07, 12.04it/s]"
          ]
        },
        {
          "output_type": "stream",
          "name": "stdout",
          "text": [
            "1\n",
            "1/1 [==============================] - 0s 29ms/step\n",
            "1\n",
            "1/1 [==============================] - 0s 17ms/step\n"
          ]
        },
        {
          "output_type": "stream",
          "name": "stderr",
          "text": [
            "\r  2%|▏         | 19/828 [00:02<01:05, 12.43it/s]"
          ]
        },
        {
          "output_type": "stream",
          "name": "stdout",
          "text": [
            "1\n",
            "1/1 [==============================] - 0s 20ms/step\n",
            "1\n",
            "1/1 [==============================] - 0s 22ms/step\n"
          ]
        },
        {
          "output_type": "stream",
          "name": "stderr",
          "text": [
            "\r  3%|▎         | 21/828 [00:02<01:03, 12.64it/s]"
          ]
        },
        {
          "output_type": "stream",
          "name": "stdout",
          "text": [
            "1\n",
            "1/1 [==============================] - 0s 20ms/step\n",
            "1\n",
            "1/1 [==============================] - 0s 25ms/step\n"
          ]
        },
        {
          "output_type": "stream",
          "name": "stderr",
          "text": [
            "\r  3%|▎         | 23/828 [00:02<01:02, 12.91it/s]"
          ]
        },
        {
          "output_type": "stream",
          "name": "stdout",
          "text": [
            "1\n",
            "2/2 [==============================] - 0s 6ms/step\n",
            "1\n",
            "1/1 [==============================] - 0s 28ms/step\n"
          ]
        },
        {
          "output_type": "stream",
          "name": "stderr",
          "text": [
            "\r  3%|▎         | 25/828 [00:02<01:01, 13.04it/s]"
          ]
        },
        {
          "output_type": "stream",
          "name": "stdout",
          "text": [
            "1\n",
            "1/1 [==============================] - 0s 24ms/step\n",
            "1\n",
            "1/1 [==============================] - 0s 24ms/step\n"
          ]
        },
        {
          "output_type": "stream",
          "name": "stderr",
          "text": [
            "\r  3%|▎         | 27/828 [00:03<01:00, 13.31it/s]"
          ]
        },
        {
          "output_type": "stream",
          "name": "stdout",
          "text": [
            "1\n",
            "1/1 [==============================] - 0s 30ms/step\n",
            "1\n",
            "1/1 [==============================] - 0s 21ms/step\n"
          ]
        },
        {
          "output_type": "stream",
          "name": "stderr",
          "text": [
            "\r  4%|▎         | 29/828 [00:03<01:01, 12.91it/s]"
          ]
        },
        {
          "output_type": "stream",
          "name": "stdout",
          "text": [
            "1\n",
            "1/1 [==============================] - 0s 17ms/step\n",
            "1\n",
            "1/1 [==============================] - 0s 24ms/step\n"
          ]
        },
        {
          "output_type": "stream",
          "name": "stderr",
          "text": [
            "\r  4%|▎         | 31/828 [00:03<01:01, 13.00it/s]"
          ]
        },
        {
          "output_type": "stream",
          "name": "stdout",
          "text": [
            "1\n",
            "1/1 [==============================] - 0s 24ms/step\n",
            "1\n",
            "1/1 [==============================] - 0s 24ms/step\n"
          ]
        },
        {
          "output_type": "stream",
          "name": "stderr",
          "text": [
            "\r  4%|▍         | 33/828 [00:03<00:59, 13.31it/s]"
          ]
        },
        {
          "output_type": "stream",
          "name": "stdout",
          "text": [
            "1\n",
            "1/1 [==============================] - 0s 22ms/step\n",
            "1\n",
            "1/1 [==============================] - 0s 17ms/step\n"
          ]
        },
        {
          "output_type": "stream",
          "name": "stderr",
          "text": [
            "\r  4%|▍         | 35/828 [00:03<00:58, 13.65it/s]"
          ]
        },
        {
          "output_type": "stream",
          "name": "stdout",
          "text": [
            "1\n",
            "1/1 [==============================] - 0s 18ms/step\n",
            "1\n",
            "1/1 [==============================] - 0s 30ms/step\n"
          ]
        },
        {
          "output_type": "stream",
          "name": "stderr",
          "text": [
            "\r  4%|▍         | 37/828 [00:03<00:59, 13.21it/s]"
          ]
        },
        {
          "output_type": "stream",
          "name": "stdout",
          "text": [
            "1\n",
            "1/1 [==============================] - 0s 19ms/step\n",
            "1\n",
            "1/1 [==============================] - 0s 19ms/step\n"
          ]
        },
        {
          "output_type": "stream",
          "name": "stderr",
          "text": [
            "\r  5%|▍         | 39/828 [00:03<00:59, 13.30it/s]"
          ]
        },
        {
          "output_type": "stream",
          "name": "stdout",
          "text": [
            "1\n",
            "1/1 [==============================] - 0s 21ms/step\n",
            "1\n",
            "1/1 [==============================] - 0s 18ms/step\n"
          ]
        },
        {
          "output_type": "stream",
          "name": "stderr",
          "text": [
            "\r  5%|▍         | 41/828 [00:04<00:56, 13.83it/s]"
          ]
        },
        {
          "output_type": "stream",
          "name": "stdout",
          "text": [
            "1\n",
            "1/1 [==============================] - 0s 21ms/step\n",
            "1\n",
            "1/1 [==============================] - 0s 27ms/step\n"
          ]
        },
        {
          "output_type": "stream",
          "name": "stderr",
          "text": [
            "\r  5%|▌         | 43/828 [00:04<00:58, 13.44it/s]"
          ]
        },
        {
          "output_type": "stream",
          "name": "stdout",
          "text": [
            "1\n",
            "1/1 [==============================] - 0s 20ms/step\n",
            "2\n",
            "1/1 [==============================] - 0s 20ms/step\n"
          ]
        },
        {
          "output_type": "stream",
          "name": "stderr",
          "text": [
            "\r  5%|▌         | 45/828 [00:04<00:58, 13.44it/s]"
          ]
        },
        {
          "output_type": "stream",
          "name": "stdout",
          "text": [
            "1\n",
            "1/1 [==============================] - 0s 20ms/step\n",
            "1\n",
            "1/1 [==============================] - 0s 20ms/step\n"
          ]
        },
        {
          "output_type": "stream",
          "name": "stderr",
          "text": [
            "\r  6%|▌         | 47/828 [00:04<00:58, 13.33it/s]"
          ]
        },
        {
          "output_type": "stream",
          "name": "stdout",
          "text": [
            "1\n",
            "1/1 [==============================] - 0s 18ms/step\n",
            "1\n",
            "1/1 [==============================] - 0s 17ms/step\n"
          ]
        },
        {
          "output_type": "stream",
          "name": "stderr",
          "text": [
            "\r  6%|▌         | 49/828 [00:05<01:59,  6.51it/s]"
          ]
        },
        {
          "output_type": "stream",
          "name": "stdout",
          "text": [
            "1\n",
            "1/1 [==============================] - 0s 18ms/step\n",
            "1\n",
            "1/1 [==============================] - 0s 17ms/step\n"
          ]
        },
        {
          "output_type": "stream",
          "name": "stderr",
          "text": [
            "\r  6%|▌         | 51/828 [00:05<01:40,  7.72it/s]"
          ]
        },
        {
          "output_type": "stream",
          "name": "stdout",
          "text": [
            "1\n",
            "1/1 [==============================] - 0s 17ms/step\n",
            "1\n",
            "1/1 [==============================] - 0s 21ms/step\n"
          ]
        },
        {
          "output_type": "stream",
          "name": "stderr",
          "text": [
            "\r  6%|▋         | 53/828 [00:05<01:25,  9.02it/s]"
          ]
        },
        {
          "output_type": "stream",
          "name": "stdout",
          "text": [
            "1\n",
            "1/1 [==============================] - 0s 23ms/step\n",
            "1\n",
            "1/1 [==============================] - 0s 27ms/step\n"
          ]
        },
        {
          "output_type": "stream",
          "name": "stderr",
          "text": [
            "\r  7%|▋         | 55/828 [00:05<01:17,  9.97it/s]"
          ]
        },
        {
          "output_type": "stream",
          "name": "stdout",
          "text": [
            "1\n",
            "1/1 [==============================] - 0s 21ms/step\n",
            "1\n",
            "1/1 [==============================] - 0s 22ms/step\n"
          ]
        },
        {
          "output_type": "stream",
          "name": "stderr",
          "text": [
            "\r  7%|▋         | 57/828 [00:05<01:09, 11.06it/s]"
          ]
        },
        {
          "output_type": "stream",
          "name": "stdout",
          "text": [
            "2\n",
            "1/1 [==============================] - 0s 24ms/step\n",
            "1\n",
            "2/2 [==============================] - 0s 6ms/step\n"
          ]
        },
        {
          "output_type": "stream",
          "name": "stderr",
          "text": [
            "\r  7%|▋         | 59/828 [00:05<01:06, 11.63it/s]"
          ]
        },
        {
          "output_type": "stream",
          "name": "stdout",
          "text": [
            "1\n",
            "1/1 [==============================] - 0s 23ms/step\n",
            "1\n",
            "1/1 [==============================] - 0s 21ms/step\n"
          ]
        },
        {
          "output_type": "stream",
          "name": "stderr",
          "text": [
            "\r  7%|▋         | 61/828 [00:06<01:01, 12.51it/s]"
          ]
        },
        {
          "output_type": "stream",
          "name": "stdout",
          "text": [
            "1\n",
            "1/1 [==============================] - 0s 25ms/step\n",
            "1\n",
            "1/1 [==============================] - 0s 20ms/step\n"
          ]
        },
        {
          "output_type": "stream",
          "name": "stderr",
          "text": [
            "\r  8%|▊         | 63/828 [00:06<00:58, 13.08it/s]"
          ]
        },
        {
          "output_type": "stream",
          "name": "stdout",
          "text": [
            "1\n",
            "1/1 [==============================] - 0s 18ms/step\n",
            "1\n",
            "1/1 [==============================] - 0s 24ms/step\n"
          ]
        },
        {
          "output_type": "stream",
          "name": "stderr",
          "text": [
            "\r  8%|▊         | 65/828 [00:06<00:59, 12.89it/s]"
          ]
        },
        {
          "output_type": "stream",
          "name": "stdout",
          "text": [
            "0\n",
            "1/1 [==============================] - 0s 18ms/step\n",
            "1\n",
            "1/1 [==============================] - 0s 31ms/step\n"
          ]
        },
        {
          "output_type": "stream",
          "name": "stderr",
          "text": [
            "\r  8%|▊         | 67/828 [00:06<00:57, 13.17it/s]"
          ]
        },
        {
          "output_type": "stream",
          "name": "stdout",
          "text": [
            "2\n",
            "1/1 [==============================] - 0s 22ms/step\n",
            "2\n",
            "1/1 [==============================] - 0s 29ms/step\n"
          ]
        },
        {
          "output_type": "stream",
          "name": "stderr",
          "text": [
            "\r  8%|▊         | 69/828 [00:06<00:59, 12.83it/s]"
          ]
        },
        {
          "output_type": "stream",
          "name": "stdout",
          "text": [
            "1\n",
            "1/1 [==============================] - 0s 18ms/step\n",
            "1\n",
            "1/1 [==============================] - 0s 19ms/step\n"
          ]
        },
        {
          "output_type": "stream",
          "name": "stderr",
          "text": [
            "\r  9%|▊         | 71/828 [00:06<00:58, 12.90it/s]"
          ]
        },
        {
          "output_type": "stream",
          "name": "stdout",
          "text": [
            "1\n",
            "1/1 [==============================] - 0s 17ms/step\n",
            "1\n",
            "1/1 [==============================] - 0s 20ms/step\n"
          ]
        },
        {
          "output_type": "stream",
          "name": "stderr",
          "text": [
            "\r  9%|▉         | 73/828 [00:06<00:58, 12.84it/s]"
          ]
        },
        {
          "output_type": "stream",
          "name": "stdout",
          "text": [
            "2\n",
            "1/1 [==============================] - 0s 19ms/step\n",
            "1\n",
            "1/1 [==============================] - 0s 25ms/step\n"
          ]
        },
        {
          "output_type": "stream",
          "name": "stderr",
          "text": [
            "\r  9%|▉         | 75/828 [00:07<00:58, 12.84it/s]"
          ]
        },
        {
          "output_type": "stream",
          "name": "stdout",
          "text": [
            "1\n",
            "1/1 [==============================] - 0s 20ms/step\n",
            "1\n",
            "1/1 [==============================] - 0s 23ms/step\n"
          ]
        },
        {
          "output_type": "stream",
          "name": "stderr",
          "text": [
            "\r  9%|▉         | 77/828 [00:07<00:58, 12.94it/s]"
          ]
        },
        {
          "output_type": "stream",
          "name": "stdout",
          "text": [
            "1\n",
            "1/1 [==============================] - 0s 17ms/step\n",
            "1\n",
            "1/1 [==============================] - 0s 26ms/step\n"
          ]
        },
        {
          "output_type": "stream",
          "name": "stderr",
          "text": [
            "\r 10%|▉         | 79/828 [00:07<00:57, 12.94it/s]"
          ]
        },
        {
          "output_type": "stream",
          "name": "stdout",
          "text": [
            "1\n",
            "1/1 [==============================] - 0s 24ms/step\n",
            "1\n",
            "1/1 [==============================] - 0s 20ms/step\n"
          ]
        },
        {
          "output_type": "stream",
          "name": "stderr",
          "text": [
            "\r 10%|▉         | 81/828 [00:07<00:56, 13.21it/s]"
          ]
        },
        {
          "output_type": "stream",
          "name": "stdout",
          "text": [
            "1\n",
            "1/1 [==============================] - 0s 21ms/step\n",
            "1\n",
            "1/1 [==============================] - 0s 23ms/step\n"
          ]
        },
        {
          "output_type": "stream",
          "name": "stderr",
          "text": [
            "\r 10%|█         | 83/828 [00:07<00:55, 13.34it/s]"
          ]
        },
        {
          "output_type": "stream",
          "name": "stdout",
          "text": [
            "1\n",
            "1/1 [==============================] - 0s 25ms/step\n",
            "1\n",
            "1/1 [==============================] - 0s 23ms/step\n"
          ]
        },
        {
          "output_type": "stream",
          "name": "stderr",
          "text": [
            "\r 10%|█         | 85/828 [00:07<00:55, 13.47it/s]"
          ]
        },
        {
          "output_type": "stream",
          "name": "stdout",
          "text": [
            "1\n",
            "1/1 [==============================] - 0s 20ms/step\n",
            "1\n",
            "1/1 [==============================] - 0s 23ms/step\n"
          ]
        },
        {
          "output_type": "stream",
          "name": "stderr",
          "text": [
            "\r 11%|█         | 87/828 [00:08<00:54, 13.57it/s]"
          ]
        },
        {
          "output_type": "stream",
          "name": "stdout",
          "text": [
            "1\n",
            "1/1 [==============================] - 0s 18ms/step\n",
            "1\n",
            "1/1 [==============================] - 0s 18ms/step\n"
          ]
        },
        {
          "output_type": "stream",
          "name": "stderr",
          "text": [
            "\r 11%|█         | 89/828 [00:08<00:57, 12.96it/s]"
          ]
        },
        {
          "output_type": "stream",
          "name": "stdout",
          "text": [
            "1\n",
            "1/1 [==============================] - 0s 19ms/step\n",
            "1\n",
            "1/1 [==============================] - 0s 25ms/step\n"
          ]
        },
        {
          "output_type": "stream",
          "name": "stderr",
          "text": [
            "\r 11%|█         | 91/828 [00:08<00:55, 13.28it/s]"
          ]
        },
        {
          "output_type": "stream",
          "name": "stdout",
          "text": [
            "1\n",
            "1/1 [==============================] - 0s 24ms/step\n",
            "1\n",
            "1/1 [==============================] - 0s 24ms/step\n"
          ]
        },
        {
          "output_type": "stream",
          "name": "stderr",
          "text": [
            "\r 11%|█         | 93/828 [00:08<00:55, 13.33it/s]"
          ]
        },
        {
          "output_type": "stream",
          "name": "stdout",
          "text": [
            "1\n",
            "1/1 [==============================] - 0s 19ms/step\n",
            "1\n",
            "1/1 [==============================] - 0s 27ms/step\n"
          ]
        },
        {
          "output_type": "stream",
          "name": "stderr",
          "text": [
            "\r 11%|█▏        | 95/828 [00:08<00:56, 12.88it/s]"
          ]
        },
        {
          "output_type": "stream",
          "name": "stdout",
          "text": [
            "2\n",
            "1/1 [==============================] - 0s 20ms/step\n",
            "1\n",
            "1/1 [==============================] - 0s 18ms/step\n"
          ]
        },
        {
          "output_type": "stream",
          "name": "stderr",
          "text": [
            "\r 12%|█▏        | 97/828 [00:08<00:56, 12.84it/s]"
          ]
        },
        {
          "output_type": "stream",
          "name": "stdout",
          "text": [
            "1\n",
            "1/1 [==============================] - 0s 20ms/step\n",
            "1\n",
            "1/1 [==============================] - 0s 21ms/step\n"
          ]
        },
        {
          "output_type": "stream",
          "name": "stderr",
          "text": [
            "\r 12%|█▏        | 99/828 [00:08<00:56, 12.84it/s]"
          ]
        },
        {
          "output_type": "stream",
          "name": "stdout",
          "text": [
            "1\n",
            "1/1 [==============================] - 0s 19ms/step\n",
            "1\n",
            "1/1 [==============================] - 0s 25ms/step\n"
          ]
        },
        {
          "output_type": "stream",
          "name": "stderr",
          "text": [
            "\r 12%|█▏        | 101/828 [00:09<00:56, 12.92it/s]"
          ]
        },
        {
          "output_type": "stream",
          "name": "stdout",
          "text": [
            "1\n",
            "1/1 [==============================] - 0s 20ms/step\n",
            "1\n",
            "1/1 [==============================] - 0s 22ms/step\n"
          ]
        },
        {
          "output_type": "stream",
          "name": "stderr",
          "text": [
            "\r 12%|█▏        | 103/828 [00:09<00:56, 12.75it/s]"
          ]
        },
        {
          "output_type": "stream",
          "name": "stdout",
          "text": [
            "1\n",
            "1/1 [==============================] - 0s 23ms/step\n",
            "1\n",
            "1/1 [==============================] - 0s 19ms/step\n"
          ]
        },
        {
          "output_type": "stream",
          "name": "stderr",
          "text": [
            "\r 13%|█▎        | 105/828 [00:09<00:57, 12.67it/s]"
          ]
        },
        {
          "output_type": "stream",
          "name": "stdout",
          "text": [
            "1\n",
            "1/1 [==============================] - 0s 17ms/step\n",
            "1\n",
            "1/1 [==============================] - 0s 21ms/step\n"
          ]
        },
        {
          "output_type": "stream",
          "name": "stderr",
          "text": [
            "\r 13%|█▎        | 107/828 [00:09<00:55, 12.94it/s]"
          ]
        },
        {
          "output_type": "stream",
          "name": "stdout",
          "text": [
            "1\n",
            "1/1 [==============================] - 0s 18ms/step\n",
            "1\n",
            "1/1 [==============================] - 0s 27ms/step\n"
          ]
        },
        {
          "output_type": "stream",
          "name": "stderr",
          "text": [
            "\r 13%|█▎        | 109/828 [00:09<00:58, 12.34it/s]"
          ]
        },
        {
          "output_type": "stream",
          "name": "stdout",
          "text": [
            "1\n",
            "1/1 [==============================] - 0s 37ms/step\n",
            "1\n",
            "1/1 [==============================] - 0s 46ms/step\n"
          ]
        },
        {
          "output_type": "stream",
          "name": "stderr",
          "text": [
            "\r 13%|█▎        | 111/828 [00:09<01:06, 10.79it/s]"
          ]
        },
        {
          "output_type": "stream",
          "name": "stdout",
          "text": [
            "1\n",
            "1/1 [==============================] - 0s 40ms/step\n",
            "1\n",
            "1/1 [==============================] - 0s 20ms/step\n"
          ]
        },
        {
          "output_type": "stream",
          "name": "stderr",
          "text": [
            "\r 14%|█▎        | 113/828 [00:10<01:05, 10.98it/s]"
          ]
        },
        {
          "output_type": "stream",
          "name": "stdout",
          "text": [
            "1\n",
            "1/1 [==============================] - 0s 19ms/step\n",
            "1\n",
            "1/1 [==============================] - 0s 31ms/step\n"
          ]
        },
        {
          "output_type": "stream",
          "name": "stderr",
          "text": [
            "\r 14%|█▍        | 115/828 [00:10<01:02, 11.44it/s]"
          ]
        },
        {
          "output_type": "stream",
          "name": "stdout",
          "text": [
            "1\n",
            "1/1 [==============================] - 0s 17ms/step\n",
            "1\n",
            "1/1 [==============================] - 0s 17ms/step\n"
          ]
        },
        {
          "output_type": "stream",
          "name": "stderr",
          "text": [
            "\r 14%|█▍        | 117/828 [00:10<01:00, 11.71it/s]"
          ]
        },
        {
          "output_type": "stream",
          "name": "stdout",
          "text": [
            "1\n",
            "1/1 [==============================] - 3s 3s/step\n",
            "1\n",
            "1/1 [==============================] - 0s 17ms/step\n"
          ]
        },
        {
          "output_type": "stream",
          "name": "stderr",
          "text": [
            "\r 14%|█▍        | 119/828 [00:13<05:56,  1.99it/s]"
          ]
        },
        {
          "output_type": "stream",
          "name": "stdout",
          "text": [
            "1\n",
            "1/1 [==============================] - 0s 17ms/step\n",
            "1\n",
            "1/1 [==============================] - 0s 19ms/step\n"
          ]
        },
        {
          "output_type": "stream",
          "name": "stderr",
          "text": [
            "\r 15%|█▍        | 121/828 [00:13<04:24,  2.67it/s]"
          ]
        },
        {
          "output_type": "stream",
          "name": "stdout",
          "text": [
            "1\n",
            "1/1 [==============================] - 0s 18ms/step\n",
            "1\n",
            "1/1 [==============================] - 0s 22ms/step\n"
          ]
        },
        {
          "output_type": "stream",
          "name": "stderr",
          "text": [
            "\r 15%|█▍        | 123/828 [00:13<03:20,  3.51it/s]"
          ]
        },
        {
          "output_type": "stream",
          "name": "stdout",
          "text": [
            "1\n",
            "1/1 [==============================] - 0s 18ms/step\n",
            "1\n",
            "1/1 [==============================] - 0s 20ms/step\n"
          ]
        },
        {
          "output_type": "stream",
          "name": "stderr",
          "text": [
            "\r 15%|█▌        | 125/828 [00:13<02:36,  4.48it/s]"
          ]
        },
        {
          "output_type": "stream",
          "name": "stdout",
          "text": [
            "1\n",
            "1/1 [==============================] - 0s 18ms/step\n",
            "2\n",
            "1/1 [==============================] - 0s 23ms/step\n"
          ]
        },
        {
          "output_type": "stream",
          "name": "stderr",
          "text": [
            "\r 15%|█▌        | 127/828 [00:14<02:04,  5.65it/s]"
          ]
        },
        {
          "output_type": "stream",
          "name": "stdout",
          "text": [
            "1\n",
            "1/1 [==============================] - 0s 18ms/step\n",
            "1\n",
            "1/1 [==============================] - 0s 18ms/step\n"
          ]
        },
        {
          "output_type": "stream",
          "name": "stderr",
          "text": [
            "\r 16%|█▌        | 129/828 [00:14<01:45,  6.65it/s]"
          ]
        },
        {
          "output_type": "stream",
          "name": "stdout",
          "text": [
            "1\n",
            "1/1 [==============================] - 0s 18ms/step\n",
            "0\n",
            "1/1 [==============================] - 0s 24ms/step\n"
          ]
        },
        {
          "output_type": "stream",
          "name": "stderr",
          "text": [
            "\r 16%|█▌        | 131/828 [00:14<01:28,  7.86it/s]"
          ]
        },
        {
          "output_type": "stream",
          "name": "stdout",
          "text": [
            "1\n",
            "1/1 [==============================] - 0s 19ms/step\n",
            "0\n",
            "1/1 [==============================] - 0s 24ms/step\n"
          ]
        },
        {
          "output_type": "stream",
          "name": "stderr",
          "text": [
            "\r 16%|█▌        | 133/828 [00:14<01:19,  8.74it/s]"
          ]
        },
        {
          "output_type": "stream",
          "name": "stdout",
          "text": [
            "1\n",
            "1/1 [==============================] - 0s 19ms/step\n",
            "1\n",
            "1/1 [==============================] - 0s 26ms/step\n"
          ]
        },
        {
          "output_type": "stream",
          "name": "stderr",
          "text": [
            "\r 16%|█▋        | 135/828 [00:14<01:13,  9.49it/s]"
          ]
        },
        {
          "output_type": "stream",
          "name": "stdout",
          "text": [
            "1\n",
            "1/1 [==============================] - 0s 17ms/step\n",
            "1\n",
            "1/1 [==============================] - 0s 18ms/step\n"
          ]
        },
        {
          "output_type": "stream",
          "name": "stderr",
          "text": [
            "\r 17%|█▋        | 137/828 [00:14<01:06, 10.42it/s]"
          ]
        },
        {
          "output_type": "stream",
          "name": "stdout",
          "text": [
            "1\n",
            "1/1 [==============================] - 0s 17ms/step\n",
            "2\n",
            "1/1 [==============================] - 0s 30ms/step\n"
          ]
        },
        {
          "output_type": "stream",
          "name": "stderr",
          "text": [
            "\r 17%|█▋        | 139/828 [00:14<01:01, 11.16it/s]"
          ]
        },
        {
          "output_type": "stream",
          "name": "stdout",
          "text": [
            "1\n",
            "1/1 [==============================] - 0s 19ms/step\n",
            "1\n",
            "1/1 [==============================] - 0s 24ms/step\n"
          ]
        },
        {
          "output_type": "stream",
          "name": "stderr",
          "text": [
            "\r 17%|█▋        | 141/828 [00:15<00:57, 11.92it/s]"
          ]
        },
        {
          "output_type": "stream",
          "name": "stdout",
          "text": [
            "1\n",
            "1/1 [==============================] - 0s 27ms/step\n",
            "0\n",
            "1/1 [==============================] - 0s 26ms/step\n"
          ]
        },
        {
          "output_type": "stream",
          "name": "stderr",
          "text": [
            "\r 17%|█▋        | 143/828 [00:15<00:55, 12.24it/s]"
          ]
        },
        {
          "output_type": "stream",
          "name": "stdout",
          "text": [
            "1\n",
            "1/1 [==============================] - 0s 17ms/step\n",
            "1\n",
            "2/2 [==============================] - 0s 8ms/step\n"
          ]
        },
        {
          "output_type": "stream",
          "name": "stderr",
          "text": [
            "\r 18%|█▊        | 145/828 [00:15<00:55, 12.28it/s]"
          ]
        },
        {
          "output_type": "stream",
          "name": "stdout",
          "text": [
            "1\n",
            "1/1 [==============================] - 0s 17ms/step\n",
            "1\n",
            "1/1 [==============================] - 0s 22ms/step\n"
          ]
        },
        {
          "output_type": "stream",
          "name": "stderr",
          "text": [
            "\r 18%|█▊        | 147/828 [00:15<00:54, 12.42it/s]"
          ]
        },
        {
          "output_type": "stream",
          "name": "stdout",
          "text": [
            "1\n",
            "1/1 [==============================] - 0s 18ms/step\n",
            "1\n",
            "1/1 [==============================] - 0s 18ms/step\n"
          ]
        },
        {
          "output_type": "stream",
          "name": "stderr",
          "text": [
            "\r 18%|█▊        | 149/828 [00:15<00:55, 12.31it/s]"
          ]
        },
        {
          "output_type": "stream",
          "name": "stdout",
          "text": [
            "1\n",
            "1/1 [==============================] - 0s 18ms/step\n",
            "1\n",
            "1/1 [==============================] - 0s 22ms/step\n"
          ]
        },
        {
          "output_type": "stream",
          "name": "stderr",
          "text": [
            "\r 18%|█▊        | 151/828 [00:15<00:53, 12.66it/s]"
          ]
        },
        {
          "output_type": "stream",
          "name": "stdout",
          "text": [
            "1\n",
            "1/1 [==============================] - 0s 20ms/step\n",
            "1\n",
            "1/1 [==============================] - 0s 23ms/step\n"
          ]
        },
        {
          "output_type": "stream",
          "name": "stderr",
          "text": [
            "\r 18%|█▊        | 153/828 [00:16<00:52, 12.91it/s]"
          ]
        },
        {
          "output_type": "stream",
          "name": "stdout",
          "text": [
            "1\n",
            "1/1 [==============================] - 0s 18ms/step\n",
            "1\n",
            "1/1 [==============================] - 0s 25ms/step\n"
          ]
        },
        {
          "output_type": "stream",
          "name": "stderr",
          "text": [
            "\r 19%|█▊        | 155/828 [00:16<00:52, 12.85it/s]"
          ]
        },
        {
          "output_type": "stream",
          "name": "stdout",
          "text": [
            "1\n",
            "1/1 [==============================] - 0s 74ms/step\n",
            "1\n",
            "1/1 [==============================] - 0s 18ms/step\n"
          ]
        },
        {
          "output_type": "stream",
          "name": "stderr",
          "text": [
            "\r 19%|█▉        | 157/828 [00:16<01:08,  9.74it/s]"
          ]
        },
        {
          "output_type": "stream",
          "name": "stdout",
          "text": [
            "0\n",
            "1/1 [==============================] - 0s 17ms/step\n",
            "1\n",
            "1/1 [==============================] - 0s 24ms/step\n"
          ]
        },
        {
          "output_type": "stream",
          "name": "stderr",
          "text": [
            "\r 19%|█▉        | 159/828 [00:16<01:03, 10.52it/s]"
          ]
        },
        {
          "output_type": "stream",
          "name": "stdout",
          "text": [
            "1\n",
            "1/1 [==============================] - 0s 35ms/step\n",
            "1\n",
            "1/1 [==============================] - 0s 30ms/step\n"
          ]
        },
        {
          "output_type": "stream",
          "name": "stderr",
          "text": [
            "\r 19%|█▉        | 161/828 [00:16<01:06, 10.07it/s]"
          ]
        },
        {
          "output_type": "stream",
          "name": "stdout",
          "text": [
            "1\n",
            "1/1 [==============================] - 0s 28ms/step\n",
            "2\n",
            "1/1 [==============================] - 0s 37ms/step\n"
          ]
        },
        {
          "output_type": "stream",
          "name": "stderr",
          "text": [
            "\r 20%|█▉        | 163/828 [00:17<01:10,  9.37it/s]"
          ]
        },
        {
          "output_type": "stream",
          "name": "stdout",
          "text": [
            "1\n",
            "1/1 [==============================] - 0s 52ms/step\n",
            "1\n",
            "1/1 [==============================] - 0s 33ms/step\n"
          ]
        },
        {
          "output_type": "stream",
          "name": "stderr",
          "text": [
            "\r 20%|█▉        | 165/828 [00:17<01:16,  8.71it/s]"
          ]
        },
        {
          "output_type": "stream",
          "name": "stdout",
          "text": [
            "1\n",
            "1/1 [==============================] - 0s 49ms/step\n"
          ]
        },
        {
          "output_type": "stream",
          "name": "stderr",
          "text": [
            "\r 20%|██        | 166/828 [00:17<01:16,  8.67it/s]"
          ]
        },
        {
          "output_type": "stream",
          "name": "stdout",
          "text": [
            "1\n",
            "1/1 [==============================] - 0s 41ms/step\n"
          ]
        },
        {
          "output_type": "stream",
          "name": "stderr",
          "text": [
            "\r 20%|██        | 167/828 [00:17<01:17,  8.51it/s]"
          ]
        },
        {
          "output_type": "stream",
          "name": "stdout",
          "text": [
            "1\n",
            "1/1 [==============================] - 0s 29ms/step\n"
          ]
        },
        {
          "output_type": "stream",
          "name": "stderr",
          "text": [
            "\r 20%|██        | 168/828 [00:17<01:19,  8.29it/s]"
          ]
        },
        {
          "output_type": "stream",
          "name": "stdout",
          "text": [
            "1\n",
            "1/1 [==============================] - 0s 60ms/step\n"
          ]
        },
        {
          "output_type": "stream",
          "name": "stderr",
          "text": [
            "\r 20%|██        | 169/828 [00:17<01:26,  7.66it/s]"
          ]
        },
        {
          "output_type": "stream",
          "name": "stdout",
          "text": [
            "1\n",
            "1/1 [==============================] - 0s 48ms/step\n"
          ]
        },
        {
          "output_type": "stream",
          "name": "stderr",
          "text": [
            "\r 21%|██        | 170/828 [00:18<01:32,  7.13it/s]"
          ]
        },
        {
          "output_type": "stream",
          "name": "stdout",
          "text": [
            "1\n",
            "1/1 [==============================] - 0s 26ms/step\n"
          ]
        },
        {
          "output_type": "stream",
          "name": "stderr",
          "text": [
            "\r 21%|██        | 171/828 [00:18<01:30,  7.28it/s]"
          ]
        },
        {
          "output_type": "stream",
          "name": "stdout",
          "text": [
            "1\n",
            "1/1 [==============================] - 0s 64ms/step\n"
          ]
        },
        {
          "output_type": "stream",
          "name": "stderr",
          "text": [
            "\r 21%|██        | 172/828 [00:18<01:47,  6.08it/s]"
          ]
        },
        {
          "output_type": "stream",
          "name": "stdout",
          "text": [
            "1\n",
            "1/1 [==============================] - 0s 30ms/step\n"
          ]
        },
        {
          "output_type": "stream",
          "name": "stderr",
          "text": [
            "\r 21%|██        | 173/828 [00:18<01:38,  6.65it/s]"
          ]
        },
        {
          "output_type": "stream",
          "name": "stdout",
          "text": [
            "1\n",
            "1/1 [==============================] - 0s 46ms/step\n"
          ]
        },
        {
          "output_type": "stream",
          "name": "stderr",
          "text": [
            "\r 21%|██        | 174/828 [00:18<01:39,  6.55it/s]"
          ]
        },
        {
          "output_type": "stream",
          "name": "stdout",
          "text": [
            "1\n",
            "1/1 [==============================] - 0s 27ms/step\n"
          ]
        },
        {
          "output_type": "stream",
          "name": "stderr",
          "text": [
            "\r 21%|██        | 175/828 [00:18<01:30,  7.24it/s]"
          ]
        },
        {
          "output_type": "stream",
          "name": "stdout",
          "text": [
            "1\n",
            "1/1 [==============================] - 0s 38ms/step\n"
          ]
        },
        {
          "output_type": "stream",
          "name": "stderr",
          "text": [
            "\r 21%|██▏       | 176/828 [00:19<01:33,  7.01it/s]"
          ]
        },
        {
          "output_type": "stream",
          "name": "stdout",
          "text": [
            "1\n",
            "1/1 [==============================] - 0s 32ms/step\n",
            "1\n",
            "1/1 [==============================] - 0s 44ms/step\n"
          ]
        },
        {
          "output_type": "stream",
          "name": "stderr",
          "text": [
            "\r 21%|██▏       | 178/828 [00:19<01:22,  7.87it/s]"
          ]
        },
        {
          "output_type": "stream",
          "name": "stdout",
          "text": [
            "1\n",
            "1/1 [==============================] - 0s 39ms/step\n"
          ]
        },
        {
          "output_type": "stream",
          "name": "stderr",
          "text": [
            "\r 22%|██▏       | 179/828 [00:19<01:19,  8.17it/s]"
          ]
        },
        {
          "output_type": "stream",
          "name": "stdout",
          "text": [
            "0\n",
            "1/1 [==============================] - 0s 52ms/step\n"
          ]
        },
        {
          "output_type": "stream",
          "name": "stderr",
          "text": [
            "\r 22%|██▏       | 180/828 [00:19<01:25,  7.59it/s]"
          ]
        },
        {
          "output_type": "stream",
          "name": "stdout",
          "text": [
            "1\n",
            "1/1 [==============================] - 0s 26ms/step\n"
          ]
        },
        {
          "output_type": "stream",
          "name": "stderr",
          "text": [
            "\r 22%|██▏       | 181/828 [00:19<01:26,  7.50it/s]"
          ]
        },
        {
          "output_type": "stream",
          "name": "stdout",
          "text": [
            "1\n",
            "1/1 [==============================] - 0s 54ms/step\n"
          ]
        },
        {
          "output_type": "stream",
          "name": "stderr",
          "text": [
            "\r 22%|██▏       | 182/828 [00:19<01:37,  6.60it/s]"
          ]
        },
        {
          "output_type": "stream",
          "name": "stdout",
          "text": [
            "1\n",
            "1/1 [==============================] - 0s 29ms/step\n"
          ]
        },
        {
          "output_type": "stream",
          "name": "stderr",
          "text": [
            "\r 22%|██▏       | 183/828 [00:19<01:30,  7.13it/s]"
          ]
        },
        {
          "output_type": "stream",
          "name": "stdout",
          "text": [
            "1\n",
            "1/1 [==============================] - 0s 32ms/step\n"
          ]
        },
        {
          "output_type": "stream",
          "name": "stderr",
          "text": [
            "\r 22%|██▏       | 184/828 [00:20<01:29,  7.23it/s]"
          ]
        },
        {
          "output_type": "stream",
          "name": "stdout",
          "text": [
            "1\n",
            "1/1 [==============================] - 0s 42ms/step\n"
          ]
        },
        {
          "output_type": "stream",
          "name": "stderr",
          "text": [
            "\r 22%|██▏       | 185/828 [00:20<01:32,  6.92it/s]"
          ]
        },
        {
          "output_type": "stream",
          "name": "stdout",
          "text": [
            "2\n",
            "1/1 [==============================] - 0s 71ms/step\n"
          ]
        },
        {
          "output_type": "stream",
          "name": "stderr",
          "text": [
            "\r 22%|██▏       | 186/828 [00:20<01:40,  6.39it/s]"
          ]
        },
        {
          "output_type": "stream",
          "name": "stdout",
          "text": [
            "1\n",
            "1/1 [==============================] - 0s 36ms/step\n"
          ]
        },
        {
          "output_type": "stream",
          "name": "stderr",
          "text": [
            "\r 23%|██▎       | 187/828 [00:20<01:35,  6.68it/s]"
          ]
        },
        {
          "output_type": "stream",
          "name": "stdout",
          "text": [
            "1\n",
            "1/1 [==============================] - 0s 41ms/step\n"
          ]
        },
        {
          "output_type": "stream",
          "name": "stderr",
          "text": [
            "\r 23%|██▎       | 188/828 [00:20<01:38,  6.51it/s]"
          ]
        },
        {
          "output_type": "stream",
          "name": "stdout",
          "text": [
            "1\n",
            "1/1 [==============================] - 0s 60ms/step\n"
          ]
        },
        {
          "output_type": "stream",
          "name": "stderr",
          "text": [
            "\r 23%|██▎       | 189/828 [00:20<01:48,  5.90it/s]"
          ]
        },
        {
          "output_type": "stream",
          "name": "stdout",
          "text": [
            "1\n",
            "1/1 [==============================] - 0s 32ms/step\n"
          ]
        },
        {
          "output_type": "stream",
          "name": "stderr",
          "text": [
            "\r 23%|██▎       | 190/828 [00:21<01:48,  5.87it/s]"
          ]
        },
        {
          "output_type": "stream",
          "name": "stdout",
          "text": [
            "1\n",
            "1/1 [==============================] - 0s 37ms/step\n"
          ]
        },
        {
          "output_type": "stream",
          "name": "stderr",
          "text": [
            "\r 23%|██▎       | 191/828 [00:21<01:48,  5.89it/s]"
          ]
        },
        {
          "output_type": "stream",
          "name": "stdout",
          "text": [
            "1\n",
            "1/1 [==============================] - 2s 2s/step\n"
          ]
        },
        {
          "output_type": "stream",
          "name": "stderr",
          "text": [
            "\r 23%|██▎       | 192/828 [00:22<06:33,  1.62it/s]"
          ]
        },
        {
          "output_type": "stream",
          "name": "stdout",
          "text": [
            "1\n",
            "1/1 [==============================] - 1s 682ms/step\n"
          ]
        },
        {
          "output_type": "stream",
          "name": "stderr",
          "text": [
            "\r 23%|██▎       | 193/828 [00:23<07:09,  1.48it/s]"
          ]
        },
        {
          "output_type": "stream",
          "name": "stdout",
          "text": [
            "1\n",
            "1/1 [==============================] - 0s 394ms/step\n"
          ]
        },
        {
          "output_type": "stream",
          "name": "stderr",
          "text": [
            "\r 23%|██▎       | 194/828 [00:24<06:36,  1.60it/s]"
          ]
        },
        {
          "output_type": "stream",
          "name": "stdout",
          "text": [
            "1\n",
            "1/1 [==============================] - 0s 42ms/step\n"
          ]
        },
        {
          "output_type": "stream",
          "name": "stderr",
          "text": [
            "\r 24%|██▎       | 195/828 [00:24<05:02,  2.09it/s]"
          ]
        },
        {
          "output_type": "stream",
          "name": "stdout",
          "text": [
            "1\n",
            "1/1 [==============================] - 0s 36ms/step\n"
          ]
        },
        {
          "output_type": "stream",
          "name": "stderr",
          "text": [
            "\r 24%|██▎       | 196/828 [00:24<03:53,  2.70it/s]"
          ]
        },
        {
          "output_type": "stream",
          "name": "stdout",
          "text": [
            "1\n",
            "1/1 [==============================] - 0s 36ms/step\n"
          ]
        },
        {
          "output_type": "stream",
          "name": "stderr",
          "text": [
            "\r 24%|██▍       | 197/828 [00:24<03:06,  3.39it/s]"
          ]
        },
        {
          "output_type": "stream",
          "name": "stdout",
          "text": [
            "1\n",
            "1/1 [==============================] - 0s 40ms/step\n"
          ]
        },
        {
          "output_type": "stream",
          "name": "stderr",
          "text": [
            "\r 24%|██▍       | 198/828 [00:24<02:53,  3.63it/s]"
          ]
        },
        {
          "output_type": "stream",
          "name": "stdout",
          "text": [
            "1\n",
            "1/1 [==============================] - 0s 47ms/step\n"
          ]
        },
        {
          "output_type": "stream",
          "name": "stderr",
          "text": [
            "\r 24%|██▍       | 199/828 [00:24<02:23,  4.38it/s]"
          ]
        },
        {
          "output_type": "stream",
          "name": "stdout",
          "text": [
            "1\n",
            "1/1 [==============================] - 1s 727ms/step\n"
          ]
        },
        {
          "output_type": "stream",
          "name": "stderr",
          "text": [
            "\r 24%|██▍       | 200/828 [00:25<04:26,  2.36it/s]"
          ]
        },
        {
          "output_type": "stream",
          "name": "stdout",
          "text": [
            "1\n",
            "1/1 [==============================] - 1s 907ms/step\n"
          ]
        },
        {
          "output_type": "stream",
          "name": "stderr",
          "text": [
            "\r 24%|██▍       | 201/828 [00:26<06:17,  1.66it/s]"
          ]
        },
        {
          "output_type": "stream",
          "name": "stdout",
          "text": [
            "1\n",
            "1/1 [==============================] - 1s 825ms/step\n"
          ]
        },
        {
          "output_type": "stream",
          "name": "stderr",
          "text": [
            "\r 24%|██▍       | 202/828 [00:27<07:29,  1.39it/s]"
          ]
        },
        {
          "output_type": "stream",
          "name": "stdout",
          "text": [
            "1\n",
            "1/1 [==============================] - 1s 833ms/step\n"
          ]
        },
        {
          "output_type": "stream",
          "name": "stderr",
          "text": [
            "\r 25%|██▍       | 203/828 [00:28<08:07,  1.28it/s]"
          ]
        },
        {
          "output_type": "stream",
          "name": "stdout",
          "text": [
            "1\n",
            "1/1 [==============================] - 1s 962ms/step\n"
          ]
        },
        {
          "output_type": "stream",
          "name": "stderr",
          "text": [
            "\r 25%|██▍       | 204/828 [00:29<08:55,  1.17it/s]"
          ]
        },
        {
          "output_type": "stream",
          "name": "stdout",
          "text": [
            "1\n",
            "1/1 [==============================] - 1s 840ms/step\n"
          ]
        },
        {
          "output_type": "stream",
          "name": "stderr",
          "text": [
            "\r 25%|██▍       | 205/828 [00:30<09:06,  1.14it/s]"
          ]
        },
        {
          "output_type": "stream",
          "name": "stdout",
          "text": [
            "1\n",
            "1/1 [==============================] - 1s 913ms/step\n"
          ]
        },
        {
          "output_type": "stream",
          "name": "stderr",
          "text": [
            "\r 25%|██▍       | 206/828 [00:31<09:31,  1.09it/s]"
          ]
        },
        {
          "output_type": "stream",
          "name": "stdout",
          "text": [
            "1\n",
            "1/1 [==============================] - 0s 383ms/step\n"
          ]
        },
        {
          "output_type": "stream",
          "name": "stderr",
          "text": [
            "\r 25%|██▌       | 207/828 [00:32<08:08,  1.27it/s]"
          ]
        },
        {
          "output_type": "stream",
          "name": "stdout",
          "text": [
            "1\n",
            "1/1 [==============================] - 0s 32ms/step\n"
          ]
        },
        {
          "output_type": "stream",
          "name": "stderr",
          "text": [
            "\r 25%|██▌       | 208/828 [00:32<06:09,  1.68it/s]"
          ]
        },
        {
          "output_type": "stream",
          "name": "stdout",
          "text": [
            "1\n",
            "1/1 [==============================] - 0s 26ms/step\n"
          ]
        },
        {
          "output_type": "stream",
          "name": "stderr",
          "text": [
            "\r 25%|██▌       | 209/828 [00:32<04:39,  2.22it/s]"
          ]
        },
        {
          "output_type": "stream",
          "name": "stdout",
          "text": [
            "1\n",
            "1/1 [==============================] - 0s 75ms/step\n"
          ]
        },
        {
          "output_type": "stream",
          "name": "stderr",
          "text": [
            "\r 25%|██▌       | 210/828 [00:32<03:47,  2.71it/s]"
          ]
        },
        {
          "output_type": "stream",
          "name": "stdout",
          "text": [
            "1\n",
            "1/1 [==============================] - 0s 51ms/step\n"
          ]
        },
        {
          "output_type": "stream",
          "name": "stderr",
          "text": [
            "\r 25%|██▌       | 211/828 [00:32<03:07,  3.29it/s]"
          ]
        },
        {
          "output_type": "stream",
          "name": "stdout",
          "text": [
            "1\n",
            "1/1 [==============================] - 1s 891ms/step\n"
          ]
        },
        {
          "output_type": "stream",
          "name": "stderr",
          "text": [
            "\r 26%|██▌       | 212/828 [00:33<05:17,  1.94it/s]"
          ]
        },
        {
          "output_type": "stream",
          "name": "stdout",
          "text": [
            "1\n",
            "1/1 [==============================] - 1s 968ms/step\n"
          ]
        },
        {
          "output_type": "stream",
          "name": "stderr",
          "text": [
            "\r 26%|██▌       | 213/828 [00:34<06:54,  1.49it/s]"
          ]
        },
        {
          "output_type": "stream",
          "name": "stdout",
          "text": [
            "1\n",
            "1/1 [==============================] - 0s 18ms/step\n",
            "1\n",
            "1/1 [==============================] - 1s 747ms/step\n"
          ]
        },
        {
          "output_type": "stream",
          "name": "stderr",
          "text": [
            "\r 26%|██▌       | 215/828 [00:35<05:45,  1.77it/s]"
          ]
        },
        {
          "output_type": "stream",
          "name": "stdout",
          "text": [
            "1\n",
            "1/1 [==============================] - 0s 329ms/step\n"
          ]
        },
        {
          "output_type": "stream",
          "name": "stderr",
          "text": [
            "\r 26%|██▌       | 216/828 [00:36<05:18,  1.92it/s]"
          ]
        },
        {
          "output_type": "stream",
          "name": "stdout",
          "text": [
            "1\n",
            "1/1 [==============================] - 0s 19ms/step\n",
            "1\n",
            "1/1 [==============================] - 0s 17ms/step\n"
          ]
        },
        {
          "output_type": "stream",
          "name": "stderr",
          "text": [
            "\r 26%|██▋       | 218/828 [00:36<03:24,  2.99it/s]"
          ]
        },
        {
          "output_type": "stream",
          "name": "stdout",
          "text": [
            "1\n",
            "1/1 [==============================] - 0s 22ms/step\n",
            "1\n",
            "1/1 [==============================] - 0s 21ms/step\n"
          ]
        },
        {
          "output_type": "stream",
          "name": "stderr",
          "text": [
            "\r 27%|██▋       | 220/828 [00:36<02:25,  4.17it/s]"
          ]
        },
        {
          "output_type": "stream",
          "name": "stdout",
          "text": [
            "1\n",
            "1/1 [==============================] - 0s 19ms/step\n",
            "1\n",
            "1/1 [==============================] - 0s 29ms/step\n"
          ]
        },
        {
          "output_type": "stream",
          "name": "stderr",
          "text": [
            "\r 27%|██▋       | 222/828 [00:36<01:51,  5.45it/s]"
          ]
        },
        {
          "output_type": "stream",
          "name": "stdout",
          "text": [
            "1\n",
            "1/1 [==============================] - 0s 18ms/step\n",
            "1\n",
            "1/1 [==============================] - 0s 23ms/step\n"
          ]
        },
        {
          "output_type": "stream",
          "name": "stderr",
          "text": [
            "\r 27%|██▋       | 224/828 [00:36<01:32,  6.56it/s]"
          ]
        },
        {
          "output_type": "stream",
          "name": "stdout",
          "text": [
            "1\n",
            "1/1 [==============================] - 1s 809ms/step\n"
          ]
        },
        {
          "output_type": "stream",
          "name": "stderr",
          "text": [
            "\r 27%|██▋       | 225/828 [00:37<02:54,  3.46it/s]"
          ]
        },
        {
          "output_type": "stream",
          "name": "stdout",
          "text": [
            "1\n",
            "1/1 [==============================] - 0s 242ms/step\n"
          ]
        },
        {
          "output_type": "stream",
          "name": "stderr",
          "text": [
            "\r 27%|██▋       | 226/828 [00:37<02:55,  3.43it/s]"
          ]
        },
        {
          "output_type": "stream",
          "name": "stdout",
          "text": [
            "1\n",
            "1/1 [==============================] - 0s 22ms/step\n",
            "1\n",
            "1/1 [==============================] - 0s 17ms/step\n"
          ]
        },
        {
          "output_type": "stream",
          "name": "stderr",
          "text": [
            "\r 28%|██▊       | 228/828 [00:38<02:05,  4.79it/s]"
          ]
        },
        {
          "output_type": "stream",
          "name": "stdout",
          "text": [
            "1\n",
            "1/1 [==============================] - 0s 19ms/step\n",
            "1\n",
            "1/1 [==============================] - 0s 24ms/step\n"
          ]
        },
        {
          "output_type": "stream",
          "name": "stderr",
          "text": [
            "\r 28%|██▊       | 230/828 [00:38<01:38,  6.08it/s]"
          ]
        },
        {
          "output_type": "stream",
          "name": "stdout",
          "text": [
            "1\n",
            "1/1 [==============================] - 0s 30ms/step\n",
            "1\n",
            "1/1 [==============================] - 0s 18ms/step\n"
          ]
        },
        {
          "output_type": "stream",
          "name": "stderr",
          "text": [
            "\r 28%|██▊       | 232/828 [00:38<01:20,  7.40it/s]"
          ]
        },
        {
          "output_type": "stream",
          "name": "stdout",
          "text": [
            "1\n",
            "1/1 [==============================] - 0s 18ms/step\n",
            "1\n",
            "1/1 [==============================] - 0s 27ms/step\n"
          ]
        },
        {
          "output_type": "stream",
          "name": "stderr",
          "text": [
            "\r 28%|██▊       | 234/828 [00:38<01:09,  8.49it/s]"
          ]
        },
        {
          "output_type": "stream",
          "name": "stdout",
          "text": [
            "0\n",
            "1/1 [==============================] - 0s 261ms/step\n",
            "1\n",
            "1/1 [==============================] - 0s 17ms/step\n"
          ]
        },
        {
          "output_type": "stream",
          "name": "stderr",
          "text": [
            "\r 29%|██▊       | 236/828 [00:39<01:26,  6.87it/s]"
          ]
        },
        {
          "output_type": "stream",
          "name": "stdout",
          "text": [
            "1\n",
            "1/1 [==============================] - 0s 18ms/step\n",
            "1\n",
            "1/1 [==============================] - 0s 25ms/step\n"
          ]
        },
        {
          "output_type": "stream",
          "name": "stderr",
          "text": [
            "\r 29%|██▊       | 238/828 [00:39<01:12,  8.14it/s]"
          ]
        },
        {
          "output_type": "stream",
          "name": "stdout",
          "text": [
            "1\n",
            "1/1 [==============================] - 0s 19ms/step\n",
            "1\n",
            "1/1 [==============================] - 0s 18ms/step\n"
          ]
        },
        {
          "output_type": "stream",
          "name": "stderr",
          "text": [
            "\r 29%|██▉       | 240/828 [00:39<01:04,  9.12it/s]"
          ]
        },
        {
          "output_type": "stream",
          "name": "stdout",
          "text": [
            "1\n",
            "1/1 [==============================] - 0s 18ms/step\n",
            "1\n",
            "1/1 [==============================] - 0s 16ms/step\n"
          ]
        },
        {
          "output_type": "stream",
          "name": "stderr",
          "text": [
            "\r 29%|██▉       | 242/828 [00:39<00:59,  9.87it/s]"
          ]
        },
        {
          "output_type": "stream",
          "name": "stdout",
          "text": [
            "1\n",
            "1/1 [==============================] - 0s 18ms/step\n",
            "1\n",
            "1/1 [==============================] - 0s 17ms/step\n"
          ]
        },
        {
          "output_type": "stream",
          "name": "stderr",
          "text": [
            "\r 29%|██▉       | 244/828 [00:39<00:54, 10.62it/s]"
          ]
        },
        {
          "output_type": "stream",
          "name": "stdout",
          "text": [
            "0\n",
            "1/1 [==============================] - 0s 23ms/step\n",
            "1\n",
            "1/1 [==============================] - 0s 25ms/step\n"
          ]
        },
        {
          "output_type": "stream",
          "name": "stderr",
          "text": [
            "\r 30%|██▉       | 246/828 [00:39<00:50, 11.52it/s]"
          ]
        },
        {
          "output_type": "stream",
          "name": "stdout",
          "text": [
            "1\n",
            "1/1 [==============================] - 0s 280ms/step\n",
            "1\n",
            "1/1 [==============================] - 0s 18ms/step\n"
          ]
        },
        {
          "output_type": "stream",
          "name": "stderr",
          "text": [
            "\r 30%|██▉       | 248/828 [00:40<01:11,  8.10it/s]"
          ]
        },
        {
          "output_type": "stream",
          "name": "stdout",
          "text": [
            "1\n",
            "1/1 [==============================] - 0s 18ms/step\n",
            "1\n",
            "1/1 [==============================] - 0s 22ms/step\n"
          ]
        },
        {
          "output_type": "stream",
          "name": "stderr",
          "text": [
            "\r 30%|███       | 250/828 [00:40<01:02,  9.22it/s]"
          ]
        },
        {
          "output_type": "stream",
          "name": "stdout",
          "text": [
            "1\n",
            "1/1 [==============================] - 0s 22ms/step\n",
            "1\n",
            "1/1 [==============================] - 0s 23ms/step\n"
          ]
        },
        {
          "output_type": "stream",
          "name": "stderr",
          "text": [
            "\r 30%|███       | 252/828 [00:40<00:57, 10.01it/s]"
          ]
        },
        {
          "output_type": "stream",
          "name": "stdout",
          "text": [
            "1\n",
            "1/1 [==============================] - 0s 18ms/step\n",
            "1\n",
            "1/1 [==============================] - 0s 19ms/step\n"
          ]
        },
        {
          "output_type": "stream",
          "name": "stderr",
          "text": [
            "\r 31%|███       | 254/828 [00:40<00:52, 10.90it/s]"
          ]
        },
        {
          "output_type": "stream",
          "name": "stdout",
          "text": [
            "1\n",
            "1/1 [==============================] - 0s 24ms/step\n",
            "1\n",
            "1/1 [==============================] - 1s 830ms/step\n"
          ]
        },
        {
          "output_type": "stream",
          "name": "stderr",
          "text": [
            "\r 31%|███       | 256/828 [00:41<01:59,  4.78it/s]"
          ]
        },
        {
          "output_type": "stream",
          "name": "stdout",
          "text": [
            "1\n",
            "1/1 [==============================] - 0s 237ms/step\n"
          ]
        },
        {
          "output_type": "stream",
          "name": "stderr",
          "text": [
            "\r 31%|███       | 257/828 [00:41<02:09,  4.40it/s]"
          ]
        },
        {
          "output_type": "stream",
          "name": "stdout",
          "text": [
            "1\n",
            "1/1 [==============================] - 0s 18ms/step\n",
            "1\n",
            "1/1 [==============================] - 0s 18ms/step\n"
          ]
        },
        {
          "output_type": "stream",
          "name": "stderr",
          "text": [
            "\r 31%|███▏      | 259/828 [00:42<01:38,  5.77it/s]"
          ]
        },
        {
          "output_type": "stream",
          "name": "stdout",
          "text": [
            "2\n",
            "1/1 [==============================] - 0s 40ms/step\n"
          ]
        },
        {
          "output_type": "stream",
          "name": "stderr",
          "text": [
            "\r 31%|███▏      | 260/828 [00:42<01:30,  6.28it/s]"
          ]
        },
        {
          "output_type": "stream",
          "name": "stdout",
          "text": [
            "1\n",
            "1/1 [==============================] - 0s 17ms/step\n",
            "1\n",
            "1/1 [==============================] - 0s 18ms/step\n"
          ]
        },
        {
          "output_type": "stream",
          "name": "stderr",
          "text": [
            "\r 32%|███▏      | 262/828 [00:42<01:14,  7.60it/s]"
          ]
        },
        {
          "output_type": "stream",
          "name": "stdout",
          "text": [
            "1\n",
            "1/1 [==============================] - 0s 18ms/step\n",
            "1\n",
            "1/1 [==============================] - 0s 22ms/step\n"
          ]
        },
        {
          "output_type": "stream",
          "name": "stderr",
          "text": [
            "\r 32%|███▏      | 264/828 [00:42<01:03,  8.95it/s]"
          ]
        },
        {
          "output_type": "stream",
          "name": "stdout",
          "text": [
            "0\n",
            "1/1 [==============================] - 0s 17ms/step\n",
            "2\n",
            "1/1 [==============================] - 0s 17ms/step\n"
          ]
        },
        {
          "output_type": "stream",
          "name": "stderr",
          "text": [
            "\r 32%|███▏      | 266/828 [00:42<00:57,  9.72it/s]"
          ]
        },
        {
          "output_type": "stream",
          "name": "stdout",
          "text": [
            "1\n",
            "1/1 [==============================] - 0s 16ms/step\n",
            "1\n",
            "1/1 [==============================] - 0s 19ms/step\n"
          ]
        },
        {
          "output_type": "stream",
          "name": "stderr",
          "text": [
            "\r 32%|███▏      | 268/828 [00:42<00:52, 10.60it/s]"
          ]
        },
        {
          "output_type": "stream",
          "name": "stdout",
          "text": [
            "1\n",
            "1/1 [==============================] - 0s 186ms/step\n",
            "0\n",
            "1/1 [==============================] - 0s 18ms/step\n"
          ]
        },
        {
          "output_type": "stream",
          "name": "stderr",
          "text": [
            "\r 33%|███▎      | 270/828 [00:43<01:03,  8.72it/s]"
          ]
        },
        {
          "output_type": "stream",
          "name": "stdout",
          "text": [
            "1\n",
            "1/1 [==============================] - 0s 17ms/step\n",
            "1\n",
            "1/1 [==============================] - 0s 17ms/step\n"
          ]
        },
        {
          "output_type": "stream",
          "name": "stderr",
          "text": [
            "\r 33%|███▎      | 272/828 [00:43<01:54,  4.86it/s]"
          ]
        },
        {
          "output_type": "stream",
          "name": "stdout",
          "text": [
            "1\n",
            "1/1 [==============================] - 0s 24ms/step\n",
            "1\n",
            "1/1 [==============================] - 0s 19ms/step\n"
          ]
        },
        {
          "output_type": "stream",
          "name": "stderr",
          "text": [
            "\r 33%|███▎      | 274/828 [00:44<01:32,  6.01it/s]"
          ]
        },
        {
          "output_type": "stream",
          "name": "stdout",
          "text": [
            "1\n",
            "1/1 [==============================] - 0s 17ms/step\n",
            "1\n",
            "1/1 [==============================] - 0s 22ms/step\n"
          ]
        },
        {
          "output_type": "stream",
          "name": "stderr",
          "text": [
            "\r 33%|███▎      | 276/828 [00:44<01:18,  7.06it/s]"
          ]
        },
        {
          "output_type": "stream",
          "name": "stdout",
          "text": [
            "0\n",
            "1/1 [==============================] - 0s 18ms/step\n",
            "1\n",
            "1/1 [==============================] - 0s 18ms/step\n"
          ]
        },
        {
          "output_type": "stream",
          "name": "stderr",
          "text": [
            "\r 34%|███▎      | 278/828 [00:44<01:06,  8.22it/s]"
          ]
        },
        {
          "output_type": "stream",
          "name": "stdout",
          "text": [
            "1\n",
            "1/1 [==============================] - 0s 20ms/step\n",
            "2\n",
            "1/1 [==============================] - 0s 32ms/step\n"
          ]
        },
        {
          "output_type": "stream",
          "name": "stderr",
          "text": [
            "\r 34%|███▍      | 280/828 [00:44<00:59,  9.27it/s]"
          ]
        },
        {
          "output_type": "stream",
          "name": "stdout",
          "text": [
            "2\n",
            "1/1 [==============================] - 0s 18ms/step\n",
            "1\n",
            "1/1 [==============================] - 0s 204ms/step\n"
          ]
        },
        {
          "output_type": "stream",
          "name": "stderr",
          "text": [
            "\r 34%|███▍      | 282/828 [00:44<01:08,  7.98it/s]"
          ]
        },
        {
          "output_type": "stream",
          "name": "stdout",
          "text": [
            "1\n",
            "1/1 [==============================] - 0s 17ms/step\n",
            "2\n",
            "1/1 [==============================] - 0s 17ms/step\n"
          ]
        },
        {
          "output_type": "stream",
          "name": "stderr",
          "text": [
            "\r 34%|███▍      | 284/828 [00:45<00:59,  9.22it/s]"
          ]
        },
        {
          "output_type": "stream",
          "name": "stdout",
          "text": [
            "1\n",
            "1/1 [==============================] - 1s 616ms/step\n",
            "1\n",
            "1/1 [==============================] - 0s 16ms/step\n"
          ]
        },
        {
          "output_type": "stream",
          "name": "stderr",
          "text": [
            "\r 35%|███▍      | 286/828 [00:45<01:41,  5.32it/s]"
          ]
        },
        {
          "output_type": "stream",
          "name": "stdout",
          "text": [
            "1\n",
            "1/1 [==============================] - 0s 17ms/step\n",
            "1\n",
            "1/1 [==============================] - 0s 20ms/step\n"
          ]
        },
        {
          "output_type": "stream",
          "name": "stderr",
          "text": [
            "\r 35%|███▍      | 288/828 [00:45<01:22,  6.57it/s]"
          ]
        },
        {
          "output_type": "stream",
          "name": "stdout",
          "text": [
            "2\n",
            "1/1 [==============================] - 0s 25ms/step\n",
            "1\n",
            "1/1 [==============================] - 0s 25ms/step\n"
          ]
        },
        {
          "output_type": "stream",
          "name": "stderr",
          "text": [
            "\r 35%|███▌      | 290/828 [00:46<01:09,  7.70it/s]"
          ]
        },
        {
          "output_type": "stream",
          "name": "stdout",
          "text": [
            "1\n",
            "1/1 [==============================] - 0s 19ms/step\n",
            "1\n",
            "1/1 [==============================] - 0s 19ms/step\n"
          ]
        },
        {
          "output_type": "stream",
          "name": "stderr",
          "text": [
            "\r 35%|███▌      | 292/828 [00:46<01:00,  8.80it/s]"
          ]
        },
        {
          "output_type": "stream",
          "name": "stdout",
          "text": [
            "1\n",
            "1/1 [==============================] - 0s 18ms/step\n",
            "1\n",
            "1/1 [==============================] - 0s 20ms/step\n"
          ]
        },
        {
          "output_type": "stream",
          "name": "stderr",
          "text": [
            "\r 36%|███▌      | 294/828 [00:46<00:54,  9.84it/s]"
          ]
        },
        {
          "output_type": "stream",
          "name": "stdout",
          "text": [
            "1\n",
            "1/1 [==============================] - 0s 21ms/step\n",
            "1\n",
            "1/1 [==============================] - 0s 24ms/step\n"
          ]
        },
        {
          "output_type": "stream",
          "name": "stderr",
          "text": [
            "\r 36%|███▌      | 296/828 [00:46<00:49, 10.72it/s]"
          ]
        },
        {
          "output_type": "stream",
          "name": "stdout",
          "text": [
            "1\n",
            "1/1 [==============================] - 0s 27ms/step\n",
            "1\n",
            "1/1 [==============================] - 0s 18ms/step\n"
          ]
        },
        {
          "output_type": "stream",
          "name": "stderr",
          "text": [
            "\r 36%|███▌      | 298/828 [00:46<00:47, 11.13it/s]"
          ]
        },
        {
          "output_type": "stream",
          "name": "stdout",
          "text": [
            "1\n",
            "1/1 [==============================] - 0s 29ms/step\n",
            "1\n",
            "1/1 [==============================] - 0s 17ms/step\n"
          ]
        },
        {
          "output_type": "stream",
          "name": "stderr",
          "text": [
            "\r 36%|███▌      | 300/828 [00:47<01:11,  7.34it/s]"
          ]
        },
        {
          "output_type": "stream",
          "name": "stdout",
          "text": [
            "1\n",
            "1/1 [==============================] - 0s 18ms/step\n",
            "1\n",
            "1/1 [==============================] - 0s 31ms/step\n"
          ]
        },
        {
          "output_type": "stream",
          "name": "stderr",
          "text": [
            "\r 36%|███▋      | 302/828 [00:47<01:02,  8.46it/s]"
          ]
        },
        {
          "output_type": "stream",
          "name": "stdout",
          "text": [
            "1\n",
            "1/1 [==============================] - 0s 18ms/step\n",
            "1\n",
            "1/1 [==============================] - 0s 23ms/step\n"
          ]
        },
        {
          "output_type": "stream",
          "name": "stderr",
          "text": [
            "\r 37%|███▋      | 304/828 [00:47<00:54,  9.58it/s]"
          ]
        },
        {
          "output_type": "stream",
          "name": "stdout",
          "text": [
            "1\n",
            "1/1 [==============================] - 0s 20ms/step\n",
            "1\n",
            "1/1 [==============================] - 0s 20ms/step\n"
          ]
        },
        {
          "output_type": "stream",
          "name": "stderr",
          "text": [
            "\r 37%|███▋      | 306/828 [00:47<00:50, 10.29it/s]"
          ]
        },
        {
          "output_type": "stream",
          "name": "stdout",
          "text": [
            "1\n",
            "1/1 [==============================] - 0s 341ms/step\n",
            "1\n",
            "1/1 [==============================] - 0s 21ms/step\n"
          ]
        },
        {
          "output_type": "stream",
          "name": "stderr",
          "text": [
            "\r 37%|███▋      | 308/828 [00:48<01:13,  7.11it/s]"
          ]
        },
        {
          "output_type": "stream",
          "name": "stdout",
          "text": [
            "1\n",
            "1/1 [==============================] - 0s 19ms/step\n",
            "1\n",
            "1/1 [==============================] - 0s 22ms/step\n"
          ]
        },
        {
          "output_type": "stream",
          "name": "stderr",
          "text": [
            "\r 37%|███▋      | 310/828 [00:48<01:01,  8.45it/s]"
          ]
        },
        {
          "output_type": "stream",
          "name": "stdout",
          "text": [
            "1\n",
            "1/1 [==============================] - 0s 17ms/step\n",
            "2\n",
            "1/1 [==============================] - 0s 30ms/step\n"
          ]
        },
        {
          "output_type": "stream",
          "name": "stderr",
          "text": [
            "\r 38%|███▊      | 312/828 [00:48<00:55,  9.37it/s]"
          ]
        },
        {
          "output_type": "stream",
          "name": "stdout",
          "text": [
            "1\n",
            "1/1 [==============================] - 0s 33ms/step\n",
            "1\n",
            "1/1 [==============================] - 0s 19ms/step\n"
          ]
        },
        {
          "output_type": "stream",
          "name": "stderr",
          "text": [
            "\r 38%|███▊      | 314/828 [00:48<00:50, 10.16it/s]"
          ]
        },
        {
          "output_type": "stream",
          "name": "stdout",
          "text": [
            "1\n",
            "1/1 [==============================] - 0s 17ms/step\n",
            "1\n",
            "1/1 [==============================] - 0s 19ms/step\n"
          ]
        },
        {
          "output_type": "stream",
          "name": "stderr",
          "text": [
            "\r 38%|███▊      | 316/828 [00:48<00:48, 10.59it/s]"
          ]
        },
        {
          "output_type": "stream",
          "name": "stdout",
          "text": [
            "2\n",
            "1/1 [==============================] - 0s 16ms/step\n",
            "1\n",
            "1/1 [==============================] - 0s 334ms/step\n"
          ]
        },
        {
          "output_type": "stream",
          "name": "stderr",
          "text": [
            "\r 38%|███▊      | 318/828 [00:49<01:08,  7.39it/s]"
          ]
        },
        {
          "output_type": "stream",
          "name": "stdout",
          "text": [
            "1\n",
            "1/1 [==============================] - 0s 19ms/step\n",
            "0\n",
            "1/1 [==============================] - 0s 18ms/step\n"
          ]
        },
        {
          "output_type": "stream",
          "name": "stderr",
          "text": [
            "\r 39%|███▊      | 320/828 [00:49<00:59,  8.57it/s]"
          ]
        },
        {
          "output_type": "stream",
          "name": "stdout",
          "text": [
            "1\n",
            "1/1 [==============================] - 0s 23ms/step\n",
            "1\n",
            "1/1 [==============================] - 0s 18ms/step\n"
          ]
        },
        {
          "output_type": "stream",
          "name": "stderr",
          "text": [
            "\r 39%|███▉      | 322/828 [00:49<00:51,  9.84it/s]"
          ]
        },
        {
          "output_type": "stream",
          "name": "stdout",
          "text": [
            "2\n",
            "1/1 [==============================] - 0s 18ms/step\n",
            "1\n",
            "1/1 [==============================] - 0s 18ms/step\n"
          ]
        },
        {
          "output_type": "stream",
          "name": "stderr",
          "text": [
            "\r 39%|███▉      | 324/828 [00:49<00:47, 10.65it/s]"
          ]
        },
        {
          "output_type": "stream",
          "name": "stdout",
          "text": [
            "1\n",
            "1/1 [==============================] - 0s 28ms/step\n",
            "1\n",
            "1/1 [==============================] - 0s 21ms/step\n"
          ]
        },
        {
          "output_type": "stream",
          "name": "stderr",
          "text": [
            "\r 39%|███▉      | 326/828 [00:49<00:45, 11.05it/s]"
          ]
        },
        {
          "output_type": "stream",
          "name": "stdout",
          "text": [
            "1\n",
            "1/1 [==============================] - 1s 841ms/step\n",
            "1\n",
            "1/1 [==============================] - 0s 242ms/step\n"
          ]
        },
        {
          "output_type": "stream",
          "name": "stderr",
          "text": [
            "\r 40%|███▉      | 328/828 [00:50<02:01,  4.11it/s]"
          ]
        },
        {
          "output_type": "stream",
          "name": "stdout",
          "text": [
            "1\n",
            "1/1 [==============================] - 0s 24ms/step\n",
            "1\n",
            "1/1 [==============================] - 0s 19ms/step\n"
          ]
        },
        {
          "output_type": "stream",
          "name": "stderr",
          "text": [
            "\r 40%|███▉      | 330/828 [00:51<01:35,  5.20it/s]"
          ]
        },
        {
          "output_type": "stream",
          "name": "stdout",
          "text": [
            "2\n",
            "1/1 [==============================] - 0s 18ms/step\n",
            "1\n",
            "1/1 [==============================] - 0s 23ms/step\n"
          ]
        },
        {
          "output_type": "stream",
          "name": "stderr",
          "text": [
            "\r 40%|████      | 332/828 [00:51<01:18,  6.34it/s]"
          ]
        },
        {
          "output_type": "stream",
          "name": "stdout",
          "text": [
            "1\n",
            "1/1 [==============================] - 0s 18ms/step\n",
            "1\n",
            "1/1 [==============================] - 0s 17ms/step\n"
          ]
        },
        {
          "output_type": "stream",
          "name": "stderr",
          "text": [
            "\r 40%|████      | 334/828 [00:51<01:06,  7.38it/s]"
          ]
        },
        {
          "output_type": "stream",
          "name": "stdout",
          "text": [
            "2\n",
            "1/1 [==============================] - 0s 18ms/step\n",
            "1\n",
            "1/1 [==============================] - 0s 28ms/step\n"
          ]
        },
        {
          "output_type": "stream",
          "name": "stderr",
          "text": [
            "\r 41%|████      | 336/828 [00:51<00:57,  8.50it/s]"
          ]
        },
        {
          "output_type": "stream",
          "name": "stdout",
          "text": [
            "1\n",
            "1/1 [==============================] - 0s 280ms/step\n",
            "1\n",
            "1/1 [==============================] - 0s 18ms/step\n"
          ]
        },
        {
          "output_type": "stream",
          "name": "stderr",
          "text": [
            "\r 41%|████      | 338/828 [00:52<01:10,  6.97it/s]"
          ]
        },
        {
          "output_type": "stream",
          "name": "stdout",
          "text": [
            "0\n",
            "1/1 [==============================] - 0s 19ms/step\n",
            "1\n",
            "1/1 [==============================] - 0s 25ms/step\n"
          ]
        },
        {
          "output_type": "stream",
          "name": "stderr",
          "text": [
            "\r 41%|████      | 340/828 [00:52<00:59,  8.19it/s]"
          ]
        },
        {
          "output_type": "stream",
          "name": "stdout",
          "text": [
            "1\n",
            "1/1 [==============================] - 0s 31ms/step\n",
            "1\n",
            "1/1 [==============================] - 0s 19ms/step\n"
          ]
        },
        {
          "output_type": "stream",
          "name": "stderr",
          "text": [
            "\r 41%|████▏     | 342/828 [00:52<00:54,  8.89it/s]"
          ]
        },
        {
          "output_type": "stream",
          "name": "stdout",
          "text": [
            "1\n",
            "1/1 [==============================] - 0s 18ms/step\n",
            "1\n",
            "1/1 [==============================] - 0s 24ms/step\n"
          ]
        },
        {
          "output_type": "stream",
          "name": "stderr",
          "text": [
            "\r 42%|████▏     | 344/828 [00:52<00:51,  9.37it/s]"
          ]
        },
        {
          "output_type": "stream",
          "name": "stdout",
          "text": [
            "1\n",
            "1/1 [==============================] - 0s 17ms/step\n",
            "1\n",
            "1/1 [==============================] - 0s 17ms/step\n"
          ]
        },
        {
          "output_type": "stream",
          "name": "stderr",
          "text": [
            "\r 42%|████▏     | 346/828 [00:52<00:48,  9.97it/s]"
          ]
        },
        {
          "output_type": "stream",
          "name": "stdout",
          "text": [
            "1\n",
            "1/1 [==============================] - 0s 20ms/step\n",
            "1\n",
            "1/1 [==============================] - 0s 279ms/step\n"
          ]
        },
        {
          "output_type": "stream",
          "name": "stderr",
          "text": [
            "\r 42%|████▏     | 348/828 [00:53<01:06,  7.24it/s]"
          ]
        },
        {
          "output_type": "stream",
          "name": "stdout",
          "text": [
            "1\n",
            "1/1 [==============================] - 0s 19ms/step\n",
            "1\n",
            "1/1 [==============================] - 0s 18ms/step\n"
          ]
        },
        {
          "output_type": "stream",
          "name": "stderr",
          "text": [
            "\r 42%|████▏     | 350/828 [00:53<00:56,  8.44it/s]"
          ]
        },
        {
          "output_type": "stream",
          "name": "stdout",
          "text": [
            "1\n",
            "1/1 [==============================] - 0s 25ms/step\n",
            "0\n",
            "1/1 [==============================] - 0s 28ms/step\n"
          ]
        },
        {
          "output_type": "stream",
          "name": "stderr",
          "text": [
            "\r 43%|████▎     | 352/828 [00:53<00:49,  9.54it/s]"
          ]
        },
        {
          "output_type": "stream",
          "name": "stdout",
          "text": [
            "1\n",
            "1/1 [==============================] - 0s 21ms/step\n",
            "1\n",
            "1/1 [==============================] - 0s 22ms/step\n"
          ]
        },
        {
          "output_type": "stream",
          "name": "stderr",
          "text": [
            "\r 43%|████▎     | 354/828 [00:53<00:45, 10.35it/s]"
          ]
        },
        {
          "output_type": "stream",
          "name": "stdout",
          "text": [
            "1\n",
            "1/1 [==============================] - 0s 18ms/step\n",
            "1\n",
            "1/1 [==============================] - 0s 26ms/step\n"
          ]
        },
        {
          "output_type": "stream",
          "name": "stderr",
          "text": [
            "\r 43%|████▎     | 356/828 [00:53<00:43, 10.93it/s]"
          ]
        },
        {
          "output_type": "stream",
          "name": "stdout",
          "text": [
            "1\n",
            "1/1 [==============================] - 0s 283ms/step\n",
            "1\n",
            "1/1 [==============================] - 0s 19ms/step\n"
          ]
        },
        {
          "output_type": "stream",
          "name": "stderr",
          "text": [
            "\r 43%|████▎     | 358/828 [00:54<00:59,  7.94it/s]"
          ]
        },
        {
          "output_type": "stream",
          "name": "stdout",
          "text": [
            "1\n",
            "1/1 [==============================] - 0s 18ms/step\n",
            "1\n",
            "1/1 [==============================] - 0s 24ms/step\n"
          ]
        },
        {
          "output_type": "stream",
          "name": "stderr",
          "text": [
            "\r 43%|████▎     | 360/828 [00:54<00:51,  9.10it/s]"
          ]
        },
        {
          "output_type": "stream",
          "name": "stdout",
          "text": [
            "1\n",
            "1/1 [==============================] - 0s 18ms/step\n",
            "1\n",
            "1/1 [==============================] - 0s 24ms/step\n"
          ]
        },
        {
          "output_type": "stream",
          "name": "stderr",
          "text": [
            "\r 44%|████▎     | 362/828 [00:54<00:47,  9.89it/s]"
          ]
        },
        {
          "output_type": "stream",
          "name": "stdout",
          "text": [
            "0\n",
            "1/1 [==============================] - 0s 18ms/step\n",
            "1\n",
            "1/1 [==============================] - 0s 24ms/step\n"
          ]
        },
        {
          "output_type": "stream",
          "name": "stderr",
          "text": [
            "\r 44%|████▍     | 364/828 [00:54<00:45, 10.19it/s]"
          ]
        },
        {
          "output_type": "stream",
          "name": "stdout",
          "text": [
            "1\n",
            "1/1 [==============================] - 0s 332ms/step\n",
            "2\n",
            "1/1 [==============================] - 0s 18ms/step\n"
          ]
        },
        {
          "output_type": "stream",
          "name": "stderr",
          "text": [
            "\r 44%|████▍     | 366/828 [00:55<01:02,  7.34it/s]"
          ]
        },
        {
          "output_type": "stream",
          "name": "stdout",
          "text": [
            "1\n",
            "1/1 [==============================] - 1s 660ms/step\n"
          ]
        },
        {
          "output_type": "stream",
          "name": "stderr",
          "text": [
            "\r 44%|████▍     | 367/828 [00:55<01:50,  4.18it/s]"
          ]
        },
        {
          "output_type": "stream",
          "name": "stdout",
          "text": [
            "2\n",
            "1/1 [==============================] - 0s 17ms/step\n",
            "1\n",
            "1/1 [==============================] - 0s 18ms/step\n"
          ]
        },
        {
          "output_type": "stream",
          "name": "stderr",
          "text": [
            "\r 45%|████▍     | 369/828 [00:55<01:25,  5.39it/s]"
          ]
        },
        {
          "output_type": "stream",
          "name": "stdout",
          "text": [
            "1\n",
            "1/1 [==============================] - 0s 29ms/step\n",
            "1\n",
            "1/1 [==============================] - 0s 20ms/step\n"
          ]
        },
        {
          "output_type": "stream",
          "name": "stderr",
          "text": [
            "\r 45%|████▍     | 371/828 [00:56<01:09,  6.53it/s]"
          ]
        },
        {
          "output_type": "stream",
          "name": "stdout",
          "text": [
            "1\n",
            "1/1 [==============================] - 0s 18ms/step\n",
            "1\n",
            "1/1 [==============================] - 0s 18ms/step\n"
          ]
        },
        {
          "output_type": "stream",
          "name": "stderr",
          "text": [
            "\r 45%|████▌     | 373/828 [00:56<00:59,  7.64it/s]"
          ]
        },
        {
          "output_type": "stream",
          "name": "stdout",
          "text": [
            "1\n",
            "1/1 [==============================] - 0s 18ms/step\n",
            "1\n",
            "1/1 [==============================] - 0s 17ms/step\n"
          ]
        },
        {
          "output_type": "stream",
          "name": "stderr",
          "text": [
            "\r 45%|████▌     | 375/828 [00:56<00:51,  8.83it/s]"
          ]
        },
        {
          "output_type": "stream",
          "name": "stdout",
          "text": [
            "1\n",
            "1/1 [==============================] - 0s 19ms/step\n",
            "1\n",
            "1/1 [==============================] - 0s 26ms/step\n"
          ]
        },
        {
          "output_type": "stream",
          "name": "stderr",
          "text": [
            "\r 46%|████▌     | 377/828 [00:56<00:46,  9.74it/s]"
          ]
        },
        {
          "output_type": "stream",
          "name": "stdout",
          "text": [
            "1\n",
            "1/1 [==============================] - 0s 17ms/step\n",
            "1\n",
            "1/1 [==============================] - 0s 30ms/step\n"
          ]
        },
        {
          "output_type": "stream",
          "name": "stderr",
          "text": [
            "\r 46%|████▌     | 379/828 [00:56<00:56,  7.92it/s]"
          ]
        },
        {
          "output_type": "stream",
          "name": "stdout",
          "text": [
            "1\n",
            "1/1 [==============================] - 0s 30ms/step\n",
            "1\n",
            "1/1 [==============================] - 0s 17ms/step\n"
          ]
        },
        {
          "output_type": "stream",
          "name": "stderr",
          "text": [
            "\r 46%|████▌     | 381/828 [00:57<00:49,  8.99it/s]"
          ]
        },
        {
          "output_type": "stream",
          "name": "stdout",
          "text": [
            "1\n",
            "1/1 [==============================] - 0s 20ms/step\n",
            "1\n",
            "1/1 [==============================] - 0s 21ms/step\n"
          ]
        },
        {
          "output_type": "stream",
          "name": "stderr",
          "text": [
            "\r 46%|████▋     | 383/828 [00:57<00:45,  9.80it/s]"
          ]
        },
        {
          "output_type": "stream",
          "name": "stdout",
          "text": [
            "1\n",
            "1/1 [==============================] - 0s 18ms/step\n",
            "1\n",
            "1/1 [==============================] - 0s 23ms/step\n"
          ]
        },
        {
          "output_type": "stream",
          "name": "stderr",
          "text": [
            "\r 46%|████▋     | 385/828 [00:57<00:41, 10.56it/s]"
          ]
        },
        {
          "output_type": "stream",
          "name": "stdout",
          "text": [
            "1\n",
            "1/1 [==============================] - 0s 17ms/step\n",
            "0\n",
            "1/1 [==============================] - 0s 25ms/step\n"
          ]
        },
        {
          "output_type": "stream",
          "name": "stderr",
          "text": [
            "\r 47%|████▋     | 387/828 [00:57<00:39, 11.20it/s]"
          ]
        },
        {
          "output_type": "stream",
          "name": "stdout",
          "text": [
            "1\n",
            "1/1 [==============================] - 0s 219ms/step\n",
            "1\n",
            "1/1 [==============================] - 0s 16ms/step\n"
          ]
        },
        {
          "output_type": "stream",
          "name": "stderr",
          "text": [
            "\r 47%|████▋     | 389/828 [00:57<00:51,  8.52it/s]"
          ]
        },
        {
          "output_type": "stream",
          "name": "stdout",
          "text": [
            "1\n",
            "1/1 [==============================] - 0s 20ms/step\n",
            "1\n",
            "1/1 [==============================] - 0s 18ms/step\n"
          ]
        },
        {
          "output_type": "stream",
          "name": "stderr",
          "text": [
            "\r 47%|████▋     | 391/828 [00:58<00:47,  9.22it/s]"
          ]
        },
        {
          "output_type": "stream",
          "name": "stdout",
          "text": [
            "1\n",
            "1/1 [==============================] - 0s 19ms/step\n",
            "2\n",
            "1/1 [==============================] - 0s 18ms/step\n"
          ]
        },
        {
          "output_type": "stream",
          "name": "stderr",
          "text": [
            "\r 47%|████▋     | 393/828 [00:58<00:43,  9.93it/s]"
          ]
        },
        {
          "output_type": "stream",
          "name": "stdout",
          "text": [
            "1\n",
            "1/1 [==============================] - 0s 18ms/step\n",
            "1\n",
            "1/1 [==============================] - 0s 17ms/step\n"
          ]
        },
        {
          "output_type": "stream",
          "name": "stderr",
          "text": [
            "\r 48%|████▊     | 395/828 [00:58<00:40, 10.62it/s]"
          ]
        },
        {
          "output_type": "stream",
          "name": "stdout",
          "text": [
            "1\n",
            "1/1 [==============================] - 0s 18ms/step\n",
            "1\n",
            "1/1 [==============================] - 0s 242ms/step\n"
          ]
        },
        {
          "output_type": "stream",
          "name": "stderr",
          "text": [
            "\r 48%|████▊     | 397/828 [00:58<00:53,  8.11it/s]"
          ]
        },
        {
          "output_type": "stream",
          "name": "stdout",
          "text": [
            "2\n",
            "1/1 [==============================] - 0s 18ms/step\n",
            "0\n",
            "1/1 [==============================] - 0s 16ms/step\n"
          ]
        },
        {
          "output_type": "stream",
          "name": "stderr",
          "text": [
            "\r 48%|████▊     | 399/828 [00:59<00:47,  9.10it/s]"
          ]
        },
        {
          "output_type": "stream",
          "name": "stdout",
          "text": [
            "1\n",
            "1/1 [==============================] - 0s 23ms/step\n",
            "0\n",
            "1/1 [==============================] - 0s 19ms/step\n"
          ]
        },
        {
          "output_type": "stream",
          "name": "stderr",
          "text": [
            "\r 48%|████▊     | 401/828 [00:59<00:42,  9.98it/s]"
          ]
        },
        {
          "output_type": "stream",
          "name": "stdout",
          "text": [
            "1\n",
            "1/1 [==============================] - 0s 20ms/step\n",
            "1\n",
            "1/1 [==============================] - 0s 18ms/step\n"
          ]
        },
        {
          "output_type": "stream",
          "name": "stderr",
          "text": [
            "\r 49%|████▊     | 403/828 [00:59<00:40, 10.59it/s]"
          ]
        },
        {
          "output_type": "stream",
          "name": "stdout",
          "text": [
            "1\n",
            "1/1 [==============================] - 0s 20ms/step\n",
            "1\n",
            "1/1 [==============================] - 0s 31ms/step\n"
          ]
        },
        {
          "output_type": "stream",
          "name": "stderr",
          "text": [
            "\r 49%|████▉     | 405/828 [00:59<00:38, 11.09it/s]"
          ]
        },
        {
          "output_type": "stream",
          "name": "stdout",
          "text": [
            "1\n",
            "1/1 [==============================] - 0s 18ms/step\n",
            "1\n",
            "1/1 [==============================] - 0s 22ms/step\n"
          ]
        },
        {
          "output_type": "stream",
          "name": "stderr",
          "text": [
            "\r 49%|████▉     | 407/828 [00:59<00:36, 11.59it/s]"
          ]
        },
        {
          "output_type": "stream",
          "name": "stdout",
          "text": [
            "1\n",
            "1/1 [==============================] - 0s 21ms/step\n",
            "1\n",
            "1/1 [==============================] - 0s 246ms/step\n"
          ]
        },
        {
          "output_type": "stream",
          "name": "stderr",
          "text": [
            "\r 49%|████▉     | 409/828 [01:00<00:49,  8.51it/s]"
          ]
        },
        {
          "output_type": "stream",
          "name": "stdout",
          "text": [
            "1\n",
            "1/1 [==============================] - 0s 17ms/step\n",
            "1\n",
            "1/1 [==============================] - 0s 20ms/step\n"
          ]
        },
        {
          "output_type": "stream",
          "name": "stderr",
          "text": [
            "\r 50%|████▉     | 411/828 [01:00<00:44,  9.40it/s]"
          ]
        },
        {
          "output_type": "stream",
          "name": "stdout",
          "text": [
            "1\n",
            "1/1 [==============================] - 0s 18ms/step\n",
            "1\n",
            "1/1 [==============================] - 0s 24ms/step\n"
          ]
        },
        {
          "output_type": "stream",
          "name": "stderr",
          "text": [
            "\r 50%|████▉     | 413/828 [01:00<00:40, 10.37it/s]"
          ]
        },
        {
          "output_type": "stream",
          "name": "stdout",
          "text": [
            "1\n",
            "1/1 [==============================] - 0s 21ms/step\n",
            "1\n",
            "1/1 [==============================] - 0s 31ms/step\n"
          ]
        },
        {
          "output_type": "stream",
          "name": "stderr",
          "text": [
            "\r 50%|█████     | 415/828 [01:00<00:37, 10.98it/s]"
          ]
        },
        {
          "output_type": "stream",
          "name": "stdout",
          "text": [
            "1\n",
            "1/1 [==============================] - 0s 17ms/step\n",
            "1\n",
            "1/1 [==============================] - 0s 19ms/step\n"
          ]
        },
        {
          "output_type": "stream",
          "name": "stderr",
          "text": [
            "\r 50%|█████     | 417/828 [01:00<00:35, 11.44it/s]"
          ]
        },
        {
          "output_type": "stream",
          "name": "stdout",
          "text": [
            "1\n",
            "1/1 [==============================] - 0s 283ms/step\n",
            "1\n",
            "1/1 [==============================] - 0s 21ms/step\n"
          ]
        },
        {
          "output_type": "stream",
          "name": "stderr",
          "text": [
            "\r 51%|█████     | 419/828 [01:01<00:50,  8.13it/s]"
          ]
        },
        {
          "output_type": "stream",
          "name": "stdout",
          "text": [
            "1\n",
            "1/1 [==============================] - 1s 628ms/step\n"
          ]
        },
        {
          "output_type": "stream",
          "name": "stderr",
          "text": [
            "\r 51%|█████     | 420/828 [01:01<01:31,  4.47it/s]"
          ]
        },
        {
          "output_type": "stream",
          "name": "stdout",
          "text": [
            "1\n",
            "1/1 [==============================] - 0s 18ms/step\n",
            "2\n",
            "1/1 [==============================] - 0s 17ms/step\n"
          ]
        },
        {
          "output_type": "stream",
          "name": "stderr",
          "text": [
            "\r 51%|█████     | 422/828 [01:01<01:10,  5.80it/s]"
          ]
        },
        {
          "output_type": "stream",
          "name": "stdout",
          "text": [
            "0\n",
            "1/1 [==============================] - 0s 23ms/step\n",
            "1\n",
            "1/1 [==============================] - 0s 30ms/step\n"
          ]
        },
        {
          "output_type": "stream",
          "name": "stderr",
          "text": [
            "\r 51%|█████     | 424/828 [01:02<00:57,  6.97it/s]"
          ]
        },
        {
          "output_type": "stream",
          "name": "stdout",
          "text": [
            "1\n",
            "1/1 [==============================] - 0s 17ms/step\n",
            "0\n",
            "1/1 [==============================] - 0s 21ms/step\n"
          ]
        },
        {
          "output_type": "stream",
          "name": "stderr",
          "text": [
            "\r 51%|█████▏    | 426/828 [01:02<00:49,  8.17it/s]"
          ]
        },
        {
          "output_type": "stream",
          "name": "stdout",
          "text": [
            "1\n",
            "1/1 [==============================] - 0s 24ms/step\n",
            "1\n",
            "2/2 [==============================] - 0s 10ms/step\n"
          ]
        },
        {
          "output_type": "stream",
          "name": "stderr",
          "text": [
            "\r 52%|█████▏    | 428/828 [01:02<00:44,  8.92it/s]"
          ]
        },
        {
          "output_type": "stream",
          "name": "stdout",
          "text": [
            "1\n",
            "1/1 [==============================] - 0s 18ms/step\n",
            "1\n",
            "1/1 [==============================] - 0s 18ms/step\n"
          ]
        },
        {
          "output_type": "stream",
          "name": "stderr",
          "text": [
            "\r 52%|█████▏    | 430/828 [01:02<00:40,  9.81it/s]"
          ]
        },
        {
          "output_type": "stream",
          "name": "stdout",
          "text": [
            "1\n",
            "1/1 [==============================] - 0s 17ms/step\n",
            "1\n",
            "1/1 [==============================] - 0s 18ms/step\n"
          ]
        },
        {
          "output_type": "stream",
          "name": "stderr",
          "text": [
            "\r 52%|█████▏    | 432/828 [01:02<00:37, 10.62it/s]"
          ]
        },
        {
          "output_type": "stream",
          "name": "stdout",
          "text": [
            "1\n",
            "1/1 [==============================] - 0s 19ms/step\n",
            "1\n",
            "1/1 [==============================] - 1s 821ms/step\n"
          ]
        },
        {
          "output_type": "stream",
          "name": "stderr",
          "text": [
            "\r 52%|█████▏    | 434/828 [01:03<01:23,  4.74it/s]"
          ]
        },
        {
          "output_type": "stream",
          "name": "stdout",
          "text": [
            "1\n",
            "1/1 [==============================] - 0s 284ms/step\n"
          ]
        },
        {
          "output_type": "stream",
          "name": "stderr",
          "text": [
            "\r 53%|█████▎    | 435/828 [01:04<01:32,  4.23it/s]"
          ]
        },
        {
          "output_type": "stream",
          "name": "stdout",
          "text": [
            "1\n",
            "1/1 [==============================] - 1s 630ms/step\n"
          ]
        },
        {
          "output_type": "stream",
          "name": "stderr",
          "text": [
            "\r 53%|█████▎    | 436/828 [01:04<02:08,  3.05it/s]"
          ]
        },
        {
          "output_type": "stream",
          "name": "stdout",
          "text": [
            "1\n",
            "1/1 [==============================] - 0s 17ms/step\n",
            "1\n",
            "1/1 [==============================] - 0s 17ms/step\n"
          ]
        },
        {
          "output_type": "stream",
          "name": "stderr",
          "text": [
            "\r 53%|█████▎    | 438/828 [01:04<01:31,  4.26it/s]"
          ]
        },
        {
          "output_type": "stream",
          "name": "stdout",
          "text": [
            "1\n",
            "1/1 [==============================] - 0s 25ms/step\n",
            "1\n",
            "1/1 [==============================] - 0s 33ms/step\n"
          ]
        },
        {
          "output_type": "stream",
          "name": "stderr",
          "text": [
            "\r 53%|█████▎    | 440/828 [01:05<01:10,  5.47it/s]"
          ]
        },
        {
          "output_type": "stream",
          "name": "stdout",
          "text": [
            "1\n",
            "1/1 [==============================] - 0s 18ms/step\n",
            "1\n",
            "1/1 [==============================] - 0s 17ms/step\n"
          ]
        },
        {
          "output_type": "stream",
          "name": "stderr",
          "text": [
            "\r 53%|█████▎    | 442/828 [01:05<00:57,  6.68it/s]"
          ]
        },
        {
          "output_type": "stream",
          "name": "stdout",
          "text": [
            "1\n",
            "1/1 [==============================] - 0s 19ms/step\n",
            "1\n",
            "1/1 [==============================] - 0s 17ms/step\n"
          ]
        },
        {
          "output_type": "stream",
          "name": "stderr",
          "text": [
            "\r 54%|█████▎    | 444/828 [01:05<00:49,  7.82it/s]"
          ]
        },
        {
          "output_type": "stream",
          "name": "stdout",
          "text": [
            "1\n",
            "1/1 [==============================] - 0s 18ms/step\n",
            "1\n",
            "1/1 [==============================] - 0s 17ms/step\n"
          ]
        },
        {
          "output_type": "stream",
          "name": "stderr",
          "text": [
            "\r 54%|█████▍    | 446/828 [01:05<00:42,  8.90it/s]"
          ]
        },
        {
          "output_type": "stream",
          "name": "stdout",
          "text": [
            "1\n",
            "1/1 [==============================] - 0s 18ms/step\n",
            "1\n",
            "1/1 [==============================] - 0s 19ms/step\n"
          ]
        },
        {
          "output_type": "stream",
          "name": "stderr",
          "text": [
            "\r 54%|█████▍    | 448/828 [01:05<00:38,  9.84it/s]"
          ]
        },
        {
          "output_type": "stream",
          "name": "stdout",
          "text": [
            "1\n",
            "1/1 [==============================] - 0s 19ms/step\n",
            "1\n",
            "1/1 [==============================] - 0s 298ms/step\n"
          ]
        },
        {
          "output_type": "stream",
          "name": "stderr",
          "text": [
            "\r 54%|█████▍    | 450/828 [01:06<00:51,  7.31it/s]"
          ]
        },
        {
          "output_type": "stream",
          "name": "stdout",
          "text": [
            "1\n",
            "1/1 [==============================] - 0s 18ms/step\n",
            "1\n",
            "1/1 [==============================] - 0s 18ms/step\n"
          ]
        },
        {
          "output_type": "stream",
          "name": "stderr",
          "text": [
            "\r 55%|█████▍    | 452/828 [01:06<00:45,  8.30it/s]"
          ]
        },
        {
          "output_type": "stream",
          "name": "stdout",
          "text": [
            "1\n",
            "1/1 [==============================] - 0s 19ms/step\n",
            "1\n",
            "1/1 [==============================] - 0s 31ms/step\n"
          ]
        },
        {
          "output_type": "stream",
          "name": "stderr",
          "text": [
            "\r 55%|█████▍    | 454/828 [01:06<00:41,  9.12it/s]"
          ]
        },
        {
          "output_type": "stream",
          "name": "stdout",
          "text": [
            "1\n",
            "1/1 [==============================] - 0s 18ms/step\n",
            "1\n",
            "1/1 [==============================] - 0s 18ms/step\n"
          ]
        },
        {
          "output_type": "stream",
          "name": "stderr",
          "text": [
            "\r 55%|█████▌    | 456/828 [01:06<00:37, 10.03it/s]"
          ]
        },
        {
          "output_type": "stream",
          "name": "stdout",
          "text": [
            "1\n",
            "1/1 [==============================] - 0s 16ms/step\n",
            "1\n",
            "1/1 [==============================] - 0s 23ms/step\n"
          ]
        },
        {
          "output_type": "stream",
          "name": "stderr",
          "text": [
            "\r 55%|█████▌    | 458/828 [01:06<00:36, 10.07it/s]"
          ]
        },
        {
          "output_type": "stream",
          "name": "stdout",
          "text": [
            "1\n",
            "1/1 [==============================] - 0s 19ms/step\n",
            "1\n",
            "1/1 [==============================] - 0s 19ms/step\n"
          ]
        },
        {
          "output_type": "stream",
          "name": "stderr",
          "text": [
            "\r 56%|█████▌    | 460/828 [01:07<00:49,  7.50it/s]"
          ]
        },
        {
          "output_type": "stream",
          "name": "stdout",
          "text": [
            "1\n",
            "1/1 [==============================] - 0s 23ms/step\n",
            "0\n",
            "1/1 [==============================] - 0s 22ms/step\n"
          ]
        },
        {
          "output_type": "stream",
          "name": "stderr",
          "text": [
            "\r 56%|█████▌    | 462/828 [01:07<00:42,  8.68it/s]"
          ]
        },
        {
          "output_type": "stream",
          "name": "stdout",
          "text": [
            "1\n",
            "1/1 [==============================] - 0s 28ms/step\n",
            "1\n",
            "1/1 [==============================] - 0s 18ms/step\n"
          ]
        },
        {
          "output_type": "stream",
          "name": "stderr",
          "text": [
            "\r 56%|█████▌    | 464/828 [01:07<00:38,  9.47it/s]"
          ]
        },
        {
          "output_type": "stream",
          "name": "stdout",
          "text": [
            "1\n",
            "1/1 [==============================] - 0s 19ms/step\n",
            "0\n",
            "1/1 [==============================] - 0s 138ms/step\n"
          ]
        },
        {
          "output_type": "stream",
          "name": "stderr",
          "text": [
            "\r 56%|█████▋    | 466/828 [01:07<00:42,  8.60it/s]"
          ]
        },
        {
          "output_type": "stream",
          "name": "stdout",
          "text": [
            "1\n",
            "1/1 [==============================] - 0s 18ms/step\n",
            "1\n",
            "1/1 [==============================] - 0s 20ms/step\n"
          ]
        },
        {
          "output_type": "stream",
          "name": "stderr",
          "text": [
            "\r 57%|█████▋    | 468/828 [01:07<00:37,  9.58it/s]"
          ]
        },
        {
          "output_type": "stream",
          "name": "stdout",
          "text": [
            "1\n",
            "1/1 [==============================] - 0s 20ms/step\n",
            "1\n",
            "1/1 [==============================] - 0s 31ms/step\n"
          ]
        },
        {
          "output_type": "stream",
          "name": "stderr",
          "text": [
            "\r 57%|█████▋    | 470/828 [01:08<00:35, 10.15it/s]"
          ]
        },
        {
          "output_type": "stream",
          "name": "stdout",
          "text": [
            "1\n",
            "1/1 [==============================] - 0s 28ms/step\n",
            "1\n",
            "1/1 [==============================] - 0s 19ms/step\n"
          ]
        },
        {
          "output_type": "stream",
          "name": "stderr",
          "text": [
            "\r 57%|█████▋    | 472/828 [01:08<00:32, 10.87it/s]"
          ]
        },
        {
          "output_type": "stream",
          "name": "stdout",
          "text": [
            "1\n",
            "1/1 [==============================] - 0s 20ms/step\n",
            "1\n",
            "1/1 [==============================] - 0s 25ms/step\n"
          ]
        },
        {
          "output_type": "stream",
          "name": "stderr",
          "text": [
            "\r 57%|█████▋    | 474/828 [01:08<00:30, 11.43it/s]"
          ]
        },
        {
          "output_type": "stream",
          "name": "stdout",
          "text": [
            "1\n",
            "1/1 [==============================] - 0s 21ms/step\n",
            "1\n",
            "1/1 [==============================] - 0s 21ms/step\n"
          ]
        },
        {
          "output_type": "stream",
          "name": "stderr",
          "text": [
            "\r 57%|█████▋    | 476/828 [01:08<00:29, 11.90it/s]"
          ]
        },
        {
          "output_type": "stream",
          "name": "stdout",
          "text": [
            "1\n",
            "1/1 [==============================] - 0s 17ms/step\n",
            "1\n",
            "1/1 [==============================] - 0s 17ms/step\n"
          ]
        },
        {
          "output_type": "stream",
          "name": "stderr",
          "text": [
            "\r 58%|█████▊    | 478/828 [01:08<00:29, 11.71it/s]"
          ]
        },
        {
          "output_type": "stream",
          "name": "stdout",
          "text": [
            "1\n",
            "1/1 [==============================] - 0s 18ms/step\n",
            "1\n",
            "1/1 [==============================] - 0s 267ms/step\n"
          ]
        },
        {
          "output_type": "stream",
          "name": "stderr",
          "text": [
            "\r 58%|█████▊    | 480/828 [01:09<00:41,  8.38it/s]"
          ]
        },
        {
          "output_type": "stream",
          "name": "stdout",
          "text": [
            "1\n",
            "1/1 [==============================] - 0s 21ms/step\n",
            "1\n",
            "1/1 [==============================] - 0s 27ms/step\n"
          ]
        },
        {
          "output_type": "stream",
          "name": "stderr",
          "text": [
            "\r 58%|█████▊    | 482/828 [01:09<00:37,  9.21it/s]"
          ]
        },
        {
          "output_type": "stream",
          "name": "stdout",
          "text": [
            "1\n",
            "1/1 [==============================] - 0s 18ms/step\n",
            "1\n",
            "1/1 [==============================] - 0s 20ms/step\n"
          ]
        },
        {
          "output_type": "stream",
          "name": "stderr",
          "text": [
            "\r 58%|█████▊    | 484/828 [01:09<00:35,  9.78it/s]"
          ]
        },
        {
          "output_type": "stream",
          "name": "stdout",
          "text": [
            "1\n",
            "1/1 [==============================] - 0s 17ms/step\n",
            "1\n",
            "1/1 [==============================] - 0s 17ms/step\n"
          ]
        },
        {
          "output_type": "stream",
          "name": "stderr",
          "text": [
            "\r 59%|█████▊    | 486/828 [01:09<00:32, 10.63it/s]"
          ]
        },
        {
          "output_type": "stream",
          "name": "stdout",
          "text": [
            "1\n",
            "1/1 [==============================] - 0s 18ms/step\n",
            "1\n",
            "1/1 [==============================] - 1s 855ms/step\n"
          ]
        },
        {
          "output_type": "stream",
          "name": "stderr",
          "text": [
            "\r 59%|█████▉    | 488/828 [01:10<01:14,  4.57it/s]"
          ]
        },
        {
          "output_type": "stream",
          "name": "stdout",
          "text": [
            "1\n",
            "1/1 [==============================] - 0s 248ms/step\n"
          ]
        },
        {
          "output_type": "stream",
          "name": "stderr",
          "text": [
            "\r 59%|█████▉    | 489/828 [01:10<01:19,  4.25it/s]"
          ]
        },
        {
          "output_type": "stream",
          "name": "stdout",
          "text": [
            "1\n",
            "1/1 [==============================] - 0s 22ms/step\n",
            "1\n",
            "1/1 [==============================] - 0s 17ms/step\n"
          ]
        },
        {
          "output_type": "stream",
          "name": "stderr",
          "text": [
            "\r 59%|█████▉    | 491/828 [01:11<01:01,  5.47it/s]"
          ]
        },
        {
          "output_type": "stream",
          "name": "stdout",
          "text": [
            "1\n",
            "1/1 [==============================] - 0s 26ms/step\n",
            "1\n",
            "1/1 [==============================] - 0s 17ms/step\n"
          ]
        },
        {
          "output_type": "stream",
          "name": "stderr",
          "text": [
            "\r 60%|█████▉    | 493/828 [01:11<00:50,  6.61it/s]"
          ]
        },
        {
          "output_type": "stream",
          "name": "stdout",
          "text": [
            "1\n",
            "1/1 [==============================] - 0s 22ms/step\n",
            "1\n",
            "1/1 [==============================] - 0s 17ms/step\n"
          ]
        },
        {
          "output_type": "stream",
          "name": "stderr",
          "text": [
            "\r 60%|█████▉    | 495/828 [01:11<00:43,  7.72it/s]"
          ]
        },
        {
          "output_type": "stream",
          "name": "stdout",
          "text": [
            "1\n",
            "1/1 [==============================] - 0s 18ms/step\n",
            "1\n",
            "1/1 [==============================] - 0s 312ms/step\n"
          ]
        },
        {
          "output_type": "stream",
          "name": "stderr",
          "text": [
            "\r 60%|██████    | 497/828 [01:11<00:53,  6.21it/s]"
          ]
        },
        {
          "output_type": "stream",
          "name": "stdout",
          "text": [
            "1\n",
            "1/1 [==============================] - 0s 18ms/step\n",
            "1\n",
            "1/1 [==============================] - 0s 17ms/step\n"
          ]
        },
        {
          "output_type": "stream",
          "name": "stderr",
          "text": [
            "\r 60%|██████    | 499/828 [01:12<00:44,  7.40it/s]"
          ]
        },
        {
          "output_type": "stream",
          "name": "stdout",
          "text": [
            "1\n",
            "1/1 [==============================] - 0s 19ms/step\n",
            "1\n",
            "1/1 [==============================] - 0s 18ms/step\n"
          ]
        },
        {
          "output_type": "stream",
          "name": "stderr",
          "text": [
            "\r 61%|██████    | 501/828 [01:12<00:39,  8.27it/s]"
          ]
        },
        {
          "output_type": "stream",
          "name": "stdout",
          "text": [
            "1\n",
            "2/2 [==============================] - 0s 6ms/step\n",
            "1\n",
            "1/1 [==============================] - 0s 17ms/step\n"
          ]
        },
        {
          "output_type": "stream",
          "name": "stderr",
          "text": [
            "\r 61%|██████    | 503/828 [01:12<00:35,  9.03it/s]"
          ]
        },
        {
          "output_type": "stream",
          "name": "stdout",
          "text": [
            "1\n",
            "1/1 [==============================] - 0s 17ms/step\n",
            "1\n",
            "1/1 [==============================] - 0s 20ms/step\n"
          ]
        },
        {
          "output_type": "stream",
          "name": "stderr",
          "text": [
            "\r 61%|██████    | 505/828 [01:12<00:33,  9.77it/s]"
          ]
        },
        {
          "output_type": "stream",
          "name": "stdout",
          "text": [
            "1\n",
            "1/1 [==============================] - 0s 17ms/step\n",
            "1\n",
            "1/1 [==============================] - 0s 18ms/step\n"
          ]
        },
        {
          "output_type": "stream",
          "name": "stderr",
          "text": [
            "\r 61%|██████    | 507/828 [01:12<00:31, 10.30it/s]"
          ]
        },
        {
          "output_type": "stream",
          "name": "stdout",
          "text": [
            "1\n",
            "1/1 [==============================] - 0s 299ms/step\n",
            "1\n",
            "1/1 [==============================] - 0s 18ms/step\n"
          ]
        },
        {
          "output_type": "stream",
          "name": "stderr",
          "text": [
            "\r 61%|██████▏   | 509/828 [01:13<00:42,  7.52it/s]"
          ]
        },
        {
          "output_type": "stream",
          "name": "stdout",
          "text": [
            "0\n",
            "1/1 [==============================] - 0s 18ms/step\n",
            "1\n",
            "1/1 [==============================] - 0s 34ms/step\n"
          ]
        },
        {
          "output_type": "stream",
          "name": "stderr",
          "text": [
            "\r 62%|██████▏   | 511/828 [01:13<00:37,  8.41it/s]"
          ]
        },
        {
          "output_type": "stream",
          "name": "stdout",
          "text": [
            "2\n",
            "1/1 [==============================] - 0s 18ms/step\n",
            "1\n",
            "1/1 [==============================] - 0s 18ms/step\n"
          ]
        },
        {
          "output_type": "stream",
          "name": "stderr",
          "text": [
            "\r 62%|██████▏   | 513/828 [01:13<00:34,  9.11it/s]"
          ]
        },
        {
          "output_type": "stream",
          "name": "stdout",
          "text": [
            "1\n",
            "1/1 [==============================] - 0s 18ms/step\n",
            "1\n",
            "1/1 [==============================] - 0s 28ms/step\n"
          ]
        },
        {
          "output_type": "stream",
          "name": "stderr",
          "text": [
            "\r 62%|██████▏   | 515/828 [01:13<00:32,  9.72it/s]"
          ]
        },
        {
          "output_type": "stream",
          "name": "stdout",
          "text": [
            "1\n",
            "1/1 [==============================] - 0s 304ms/step\n",
            "1\n",
            "1/1 [==============================] - 0s 22ms/step\n"
          ]
        },
        {
          "output_type": "stream",
          "name": "stderr",
          "text": [
            "\r 62%|██████▏   | 517/828 [01:14<00:43,  7.15it/s]"
          ]
        },
        {
          "output_type": "stream",
          "name": "stdout",
          "text": [
            "1\n",
            "1/1 [==============================] - 0s 17ms/step\n",
            "1\n",
            "1/1 [==============================] - 0s 19ms/step\n"
          ]
        },
        {
          "output_type": "stream",
          "name": "stderr",
          "text": [
            "\r 63%|██████▎   | 519/828 [01:14<00:37,  8.27it/s]"
          ]
        },
        {
          "output_type": "stream",
          "name": "stdout",
          "text": [
            "1\n",
            "1/1 [==============================] - 0s 20ms/step\n",
            "1\n",
            "1/1 [==============================] - 0s 17ms/step\n"
          ]
        },
        {
          "output_type": "stream",
          "name": "stderr",
          "text": [
            "\r 63%|██████▎   | 521/828 [01:14<00:33,  9.04it/s]"
          ]
        },
        {
          "output_type": "stream",
          "name": "stdout",
          "text": [
            "1\n",
            "1/1 [==============================] - 0s 18ms/step\n",
            "1\n",
            "1/1 [==============================] - 0s 24ms/step\n"
          ]
        },
        {
          "output_type": "stream",
          "name": "stderr",
          "text": [
            "\r 63%|██████▎   | 523/828 [01:14<00:30,  9.88it/s]"
          ]
        },
        {
          "output_type": "stream",
          "name": "stdout",
          "text": [
            "1\n",
            "1/1 [==============================] - 0s 18ms/step\n",
            "1\n",
            "1/1 [==============================] - 0s 19ms/step\n"
          ]
        },
        {
          "output_type": "stream",
          "name": "stderr",
          "text": [
            "\r 63%|██████▎   | 525/828 [01:14<00:29, 10.32it/s]"
          ]
        },
        {
          "output_type": "stream",
          "name": "stdout",
          "text": [
            "1\n",
            "1/1 [==============================] - 0s 18ms/step\n",
            "1\n",
            "1/1 [==============================] - 1s 813ms/step\n"
          ]
        },
        {
          "output_type": "stream",
          "name": "stderr",
          "text": [
            "\r 64%|██████▎   | 527/828 [01:15<01:03,  4.74it/s]"
          ]
        },
        {
          "output_type": "stream",
          "name": "stdout",
          "text": [
            "1\n",
            "1/1 [==============================] - 1s 873ms/step\n"
          ]
        },
        {
          "output_type": "stream",
          "name": "stderr",
          "text": [
            "\r 64%|██████▍   | 528/828 [01:16<01:42,  2.93it/s]"
          ]
        },
        {
          "output_type": "stream",
          "name": "stdout",
          "text": [
            "1\n",
            "1/1 [==============================] - 0s 293ms/step\n"
          ]
        },
        {
          "output_type": "stream",
          "name": "stderr",
          "text": [
            "\r 64%|██████▍   | 529/828 [01:17<01:44,  2.86it/s]"
          ]
        },
        {
          "output_type": "stream",
          "name": "stdout",
          "text": [
            "1\n",
            "1/1 [==============================] - 0s 29ms/step\n"
          ]
        },
        {
          "output_type": "stream",
          "name": "stderr",
          "text": [
            "\r 64%|██████▍   | 530/828 [01:17<01:28,  3.35it/s]"
          ]
        },
        {
          "output_type": "stream",
          "name": "stdout",
          "text": [
            "1\n",
            "1/1 [==============================] - 0s 34ms/step\n"
          ]
        },
        {
          "output_type": "stream",
          "name": "stderr",
          "text": [
            "\r 64%|██████▍   | 531/828 [01:17<01:14,  3.96it/s]"
          ]
        },
        {
          "output_type": "stream",
          "name": "stdout",
          "text": [
            "1\n",
            "1/1 [==============================] - 0s 39ms/step\n"
          ]
        },
        {
          "output_type": "stream",
          "name": "stderr",
          "text": [
            "\r 64%|██████▍   | 532/828 [01:17<01:05,  4.52it/s]"
          ]
        },
        {
          "output_type": "stream",
          "name": "stdout",
          "text": [
            "1\n",
            "1/1 [==============================] - 0s 35ms/step\n"
          ]
        },
        {
          "output_type": "stream",
          "name": "stderr",
          "text": [
            "\r 64%|██████▍   | 533/828 [01:17<00:57,  5.12it/s]"
          ]
        },
        {
          "output_type": "stream",
          "name": "stdout",
          "text": [
            "1\n",
            "1/1 [==============================] - 0s 249ms/step\n"
          ]
        },
        {
          "output_type": "stream",
          "name": "stderr",
          "text": [
            "\r 64%|██████▍   | 534/828 [01:17<01:08,  4.31it/s]"
          ]
        },
        {
          "output_type": "stream",
          "name": "stdout",
          "text": [
            "2\n",
            "1/1 [==============================] - 0s 26ms/step\n"
          ]
        },
        {
          "output_type": "stream",
          "name": "stderr",
          "text": [
            "\r 65%|██████▍   | 535/828 [01:18<00:57,  5.08it/s]"
          ]
        },
        {
          "output_type": "stream",
          "name": "stdout",
          "text": [
            "1\n",
            "1/1 [==============================] - 1s 741ms/step\n"
          ]
        },
        {
          "output_type": "stream",
          "name": "stderr",
          "text": [
            "\r 65%|██████▍   | 536/828 [01:18<01:48,  2.69it/s]"
          ]
        },
        {
          "output_type": "stream",
          "name": "stdout",
          "text": [
            "2\n",
            "1/1 [==============================] - 0s 27ms/step\n"
          ]
        },
        {
          "output_type": "stream",
          "name": "stderr",
          "text": [
            "\r 65%|██████▍   | 537/828 [01:18<01:26,  3.35it/s]"
          ]
        },
        {
          "output_type": "stream",
          "name": "stdout",
          "text": [
            "1\n",
            "1/1 [==============================] - 0s 36ms/step\n"
          ]
        },
        {
          "output_type": "stream",
          "name": "stderr",
          "text": [
            "\r 65%|██████▍   | 538/828 [01:19<01:10,  4.12it/s]"
          ]
        },
        {
          "output_type": "stream",
          "name": "stdout",
          "text": [
            "1\n",
            "1/1 [==============================] - 0s 28ms/step\n"
          ]
        },
        {
          "output_type": "stream",
          "name": "stderr",
          "text": [
            "\r 65%|██████▌   | 539/828 [01:19<00:58,  4.94it/s]"
          ]
        },
        {
          "output_type": "stream",
          "name": "stdout",
          "text": [
            "1\n",
            "1/1 [==============================] - 0s 29ms/step\n"
          ]
        },
        {
          "output_type": "stream",
          "name": "stderr",
          "text": [
            "\r 65%|██████▌   | 540/828 [01:19<00:49,  5.78it/s]"
          ]
        },
        {
          "output_type": "stream",
          "name": "stdout",
          "text": [
            "2\n",
            "1/1 [==============================] - 0s 27ms/step\n"
          ]
        },
        {
          "output_type": "stream",
          "name": "stderr",
          "text": [
            "\r 65%|██████▌   | 541/828 [01:19<00:43,  6.55it/s]"
          ]
        },
        {
          "output_type": "stream",
          "name": "stdout",
          "text": [
            "1\n",
            "1/1 [==============================] - 0s 27ms/step\n",
            "1\n",
            "1/1 [==============================] - 0s 29ms/step\n"
          ]
        },
        {
          "output_type": "stream",
          "name": "stderr",
          "text": [
            "\r 66%|██████▌   | 543/828 [01:19<00:36,  7.81it/s]"
          ]
        },
        {
          "output_type": "stream",
          "name": "stdout",
          "text": [
            "1\n",
            "1/1 [==============================] - 0s 17ms/step\n",
            "1\n",
            "1/1 [==============================] - 0s 21ms/step\n"
          ]
        },
        {
          "output_type": "stream",
          "name": "stderr",
          "text": [
            "\r 66%|██████▌   | 545/828 [01:19<00:30,  9.13it/s]"
          ]
        },
        {
          "output_type": "stream",
          "name": "stdout",
          "text": [
            "2\n",
            "1/1 [==============================] - 1s 672ms/step\n",
            "1\n",
            "1/1 [==============================] - 0s 17ms/step\n"
          ]
        },
        {
          "output_type": "stream",
          "name": "stderr",
          "text": [
            "\r 66%|██████▌   | 547/828 [01:20<01:13,  3.82it/s]"
          ]
        },
        {
          "output_type": "stream",
          "name": "stdout",
          "text": [
            "1\n",
            "1/1 [==============================] - 0s 18ms/step\n",
            "1\n",
            "1/1 [==============================] - 0s 28ms/step\n"
          ]
        },
        {
          "output_type": "stream",
          "name": "stderr",
          "text": [
            "\r 66%|██████▋   | 549/828 [01:20<00:55,  5.05it/s]"
          ]
        },
        {
          "output_type": "stream",
          "name": "stdout",
          "text": [
            "1\n",
            "1/1 [==============================] - 0s 21ms/step\n",
            "1\n",
            "1/1 [==============================] - 0s 22ms/step\n"
          ]
        },
        {
          "output_type": "stream",
          "name": "stderr",
          "text": [
            "\r 67%|██████▋   | 551/828 [01:21<00:44,  6.17it/s]"
          ]
        },
        {
          "output_type": "stream",
          "name": "stdout",
          "text": [
            "1\n",
            "1/1 [==============================] - 0s 21ms/step\n",
            "0\n",
            "1/1 [==============================] - 0s 20ms/step\n"
          ]
        },
        {
          "output_type": "stream",
          "name": "stderr",
          "text": [
            "\r 67%|██████▋   | 553/828 [01:21<00:37,  7.31it/s]"
          ]
        },
        {
          "output_type": "stream",
          "name": "stdout",
          "text": [
            "1\n",
            "1/1 [==============================] - 0s 19ms/step\n",
            "1\n",
            "1/1 [==============================] - 0s 22ms/step\n"
          ]
        },
        {
          "output_type": "stream",
          "name": "stderr",
          "text": [
            "\r 67%|██████▋   | 555/828 [01:21<00:32,  8.39it/s]"
          ]
        },
        {
          "output_type": "stream",
          "name": "stdout",
          "text": [
            "1\n",
            "1/1 [==============================] - 0s 21ms/step\n",
            "1\n",
            "1/1 [==============================] - 0s 20ms/step\n"
          ]
        },
        {
          "output_type": "stream",
          "name": "stderr",
          "text": [
            "\r 67%|██████▋   | 557/828 [01:21<00:28,  9.38it/s]"
          ]
        },
        {
          "output_type": "stream",
          "name": "stdout",
          "text": [
            "1\n",
            "1/1 [==============================] - 0s 19ms/step\n",
            "1\n",
            "1/1 [==============================] - 0s 18ms/step\n"
          ]
        },
        {
          "output_type": "stream",
          "name": "stderr",
          "text": [
            "\r 68%|██████▊   | 559/828 [01:21<00:26, 10.18it/s]"
          ]
        },
        {
          "output_type": "stream",
          "name": "stdout",
          "text": [
            "1\n",
            "1/1 [==============================] - 1s 798ms/step\n",
            "1\n",
            "1/1 [==============================] - 0s 288ms/step\n"
          ]
        },
        {
          "output_type": "stream",
          "name": "stderr",
          "text": [
            "\r 68%|██████▊   | 561/828 [01:22<01:07,  3.97it/s]"
          ]
        },
        {
          "output_type": "stream",
          "name": "stdout",
          "text": [
            "1\n",
            "1/1 [==============================] - 1s 677ms/step\n"
          ]
        },
        {
          "output_type": "stream",
          "name": "stderr",
          "text": [
            "\r 68%|██████▊   | 562/828 [01:23<01:30,  2.92it/s]"
          ]
        },
        {
          "output_type": "stream",
          "name": "stdout",
          "text": [
            "1\n",
            "1/1 [==============================] - 0s 17ms/step\n",
            "1\n",
            "1/1 [==============================] - 0s 17ms/step\n"
          ]
        },
        {
          "output_type": "stream",
          "name": "stderr",
          "text": [
            "\r 68%|██████▊   | 564/828 [01:23<01:06,  3.98it/s]"
          ]
        },
        {
          "output_type": "stream",
          "name": "stdout",
          "text": [
            "1\n",
            "1/1 [==============================] - 0s 18ms/step\n",
            "1\n",
            "1/1 [==============================] - 0s 25ms/step\n"
          ]
        },
        {
          "output_type": "stream",
          "name": "stderr",
          "text": [
            "\r 68%|██████▊   | 566/828 [01:24<00:51,  5.13it/s]"
          ]
        },
        {
          "output_type": "stream",
          "name": "stdout",
          "text": [
            "1\n",
            "1/1 [==============================] - 0s 17ms/step\n",
            "1\n",
            "1/1 [==============================] - 0s 24ms/step\n"
          ]
        },
        {
          "output_type": "stream",
          "name": "stderr",
          "text": [
            "\r 69%|██████▊   | 568/828 [01:24<00:40,  6.38it/s]"
          ]
        },
        {
          "output_type": "stream",
          "name": "stdout",
          "text": [
            "1\n",
            "1/1 [==============================] - 0s 28ms/step\n",
            "1\n",
            "1/1 [==============================] - 0s 18ms/step\n"
          ]
        },
        {
          "output_type": "stream",
          "name": "stderr",
          "text": [
            "\r 69%|██████▉   | 570/828 [01:24<00:34,  7.45it/s]"
          ]
        },
        {
          "output_type": "stream",
          "name": "stdout",
          "text": [
            "0\n",
            "1/1 [==============================] - 0s 21ms/step\n",
            "1\n",
            "1/1 [==============================] - 0s 18ms/step\n"
          ]
        },
        {
          "output_type": "stream",
          "name": "stderr",
          "text": [
            "\r 69%|██████▉   | 572/828 [01:24<00:29,  8.62it/s]"
          ]
        },
        {
          "output_type": "stream",
          "name": "stdout",
          "text": [
            "1\n",
            "1/1 [==============================] - 0s 19ms/step\n",
            "1\n",
            "1/1 [==============================] - 0s 227ms/step\n"
          ]
        },
        {
          "output_type": "stream",
          "name": "stderr",
          "text": [
            "\r 69%|██████▉   | 574/828 [01:24<00:34,  7.28it/s]"
          ]
        },
        {
          "output_type": "stream",
          "name": "stdout",
          "text": [
            "1\n",
            "1/1 [==============================] - 0s 18ms/step\n",
            "1\n",
            "1/1 [==============================] - 0s 17ms/step\n"
          ]
        },
        {
          "output_type": "stream",
          "name": "stderr",
          "text": [
            "\r 70%|██████▉   | 576/828 [01:25<00:29,  8.54it/s]"
          ]
        },
        {
          "output_type": "stream",
          "name": "stdout",
          "text": [
            "1\n",
            "1/1 [==============================] - 1s 686ms/step\n",
            "1\n",
            "1/1 [==============================] - 0s 16ms/step\n"
          ]
        },
        {
          "output_type": "stream",
          "name": "stderr",
          "text": [
            "\r 70%|██████▉   | 578/828 [01:25<00:51,  4.88it/s]"
          ]
        },
        {
          "output_type": "stream",
          "name": "stdout",
          "text": [
            "2\n",
            "1/1 [==============================] - 0s 18ms/step\n",
            "1\n",
            "1/1 [==============================] - 0s 26ms/step\n"
          ]
        },
        {
          "output_type": "stream",
          "name": "stderr",
          "text": [
            "\r 70%|███████   | 580/828 [01:26<00:41,  5.92it/s]"
          ]
        },
        {
          "output_type": "stream",
          "name": "stdout",
          "text": [
            "2\n",
            "1/1 [==============================] - 0s 18ms/step\n",
            "1\n",
            "1/1 [==============================] - 0s 19ms/step\n"
          ]
        },
        {
          "output_type": "stream",
          "name": "stderr",
          "text": [
            "\r 70%|███████   | 582/828 [01:26<00:34,  7.05it/s]"
          ]
        },
        {
          "output_type": "stream",
          "name": "stdout",
          "text": [
            "1\n",
            "1/1 [==============================] - 0s 19ms/step\n",
            "1\n",
            "1/1 [==============================] - 0s 19ms/step\n"
          ]
        },
        {
          "output_type": "stream",
          "name": "stderr",
          "text": [
            "\r 71%|███████   | 584/828 [01:26<00:30,  8.07it/s]"
          ]
        },
        {
          "output_type": "stream",
          "name": "stdout",
          "text": [
            "2\n",
            "1/1 [==============================] - 0s 18ms/step\n",
            "1\n",
            "1/1 [==============================] - 0s 17ms/step\n"
          ]
        },
        {
          "output_type": "stream",
          "name": "stderr",
          "text": [
            "\r 71%|███████   | 586/828 [01:26<00:26,  9.00it/s]"
          ]
        },
        {
          "output_type": "stream",
          "name": "stdout",
          "text": [
            "1\n",
            "1/1 [==============================] - 0s 16ms/step\n",
            "1\n",
            "1/1 [==============================] - 0s 25ms/step\n"
          ]
        },
        {
          "output_type": "stream",
          "name": "stderr",
          "text": [
            "\r 71%|███████   | 588/828 [01:26<00:24,  9.73it/s]"
          ]
        },
        {
          "output_type": "stream",
          "name": "stdout",
          "text": [
            "0\n",
            "1/1 [==============================] - 0s 185ms/step\n",
            "1\n",
            "1/1 [==============================] - 0s 18ms/step\n"
          ]
        },
        {
          "output_type": "stream",
          "name": "stderr",
          "text": [
            "\r 71%|███████▏  | 590/828 [01:27<00:29,  8.12it/s]"
          ]
        },
        {
          "output_type": "stream",
          "name": "stdout",
          "text": [
            "1\n",
            "1/1 [==============================] - 0s 18ms/step\n"
          ]
        },
        {
          "output_type": "stream",
          "name": "stderr",
          "text": [
            "\r 71%|███████▏  | 591/828 [01:27<00:54,  4.32it/s]"
          ]
        },
        {
          "output_type": "stream",
          "name": "stdout",
          "text": [
            "1\n",
            "1/1 [==============================] - 0s 17ms/step\n",
            "1\n",
            "1/1 [==============================] - 0s 17ms/step\n"
          ]
        },
        {
          "output_type": "stream",
          "name": "stderr",
          "text": [
            "\r 72%|███████▏  | 593/828 [01:27<00:41,  5.62it/s]"
          ]
        },
        {
          "output_type": "stream",
          "name": "stdout",
          "text": [
            "1\n",
            "1/1 [==============================] - 0s 25ms/step\n",
            "1\n",
            "1/1 [==============================] - 0s 24ms/step\n"
          ]
        },
        {
          "output_type": "stream",
          "name": "stderr",
          "text": [
            "\r 72%|███████▏  | 595/828 [01:28<00:34,  6.77it/s]"
          ]
        },
        {
          "output_type": "stream",
          "name": "stdout",
          "text": [
            "1\n",
            "1/1 [==============================] - 0s 17ms/step\n",
            "1\n",
            "1/1 [==============================] - 0s 18ms/step\n"
          ]
        },
        {
          "output_type": "stream",
          "name": "stderr",
          "text": [
            "\r 72%|███████▏  | 597/828 [01:28<00:28,  7.97it/s]"
          ]
        },
        {
          "output_type": "stream",
          "name": "stdout",
          "text": [
            "1\n",
            "1/1 [==============================] - 0s 17ms/step\n",
            "1\n",
            "1/1 [==============================] - 0s 17ms/step\n"
          ]
        },
        {
          "output_type": "stream",
          "name": "stderr",
          "text": [
            "\r 72%|███████▏  | 599/828 [01:28<00:25,  9.04it/s]"
          ]
        },
        {
          "output_type": "stream",
          "name": "stdout",
          "text": [
            "0\n",
            "1/1 [==============================] - 0s 26ms/step\n",
            "1\n",
            "1/1 [==============================] - 0s 23ms/step\n"
          ]
        },
        {
          "output_type": "stream",
          "name": "stderr",
          "text": [
            "\r 73%|███████▎  | 601/828 [01:28<00:23,  9.73it/s]"
          ]
        },
        {
          "output_type": "stream",
          "name": "stdout",
          "text": [
            "0\n",
            "1/1 [==============================] - 0s 18ms/step\n",
            "1\n",
            "1/1 [==============================] - 0s 18ms/step\n"
          ]
        },
        {
          "output_type": "stream",
          "name": "stderr",
          "text": [
            "\r 73%|███████▎  | 603/828 [01:28<00:21, 10.48it/s]"
          ]
        },
        {
          "output_type": "stream",
          "name": "stdout",
          "text": [
            "1\n",
            "1/1 [==============================] - 0s 28ms/step\n",
            "1\n",
            "1/1 [==============================] - 1s 814ms/step\n"
          ]
        },
        {
          "output_type": "stream",
          "name": "stderr",
          "text": [
            "\r 73%|███████▎  | 605/828 [01:29<00:47,  4.66it/s]"
          ]
        },
        {
          "output_type": "stream",
          "name": "stdout",
          "text": [
            "1\n",
            "1/1 [==============================] - 0s 247ms/step\n"
          ]
        },
        {
          "output_type": "stream",
          "name": "stderr",
          "text": [
            "\r 73%|███████▎  | 606/828 [01:29<00:51,  4.34it/s]"
          ]
        },
        {
          "output_type": "stream",
          "name": "stdout",
          "text": [
            "1\n",
            "1/1 [==============================] - 0s 18ms/step\n",
            "1\n",
            "1/1 [==============================] - 0s 18ms/step\n"
          ]
        },
        {
          "output_type": "stream",
          "name": "stderr",
          "text": [
            "\r 73%|███████▎  | 608/828 [01:30<00:39,  5.57it/s]"
          ]
        },
        {
          "output_type": "stream",
          "name": "stdout",
          "text": [
            "1\n",
            "1/1 [==============================] - 0s 17ms/step\n",
            "1\n",
            "1/1 [==============================] - 0s 22ms/step\n"
          ]
        },
        {
          "output_type": "stream",
          "name": "stderr",
          "text": [
            "\r 74%|███████▎  | 610/828 [01:30<00:32,  6.81it/s]"
          ]
        },
        {
          "output_type": "stream",
          "name": "stdout",
          "text": [
            "1\n",
            "1/1 [==============================] - 0s 19ms/step\n",
            "1\n",
            "1/1 [==============================] - 0s 24ms/step\n"
          ]
        },
        {
          "output_type": "stream",
          "name": "stderr",
          "text": [
            "\r 74%|███████▍  | 612/828 [01:30<00:27,  7.94it/s]"
          ]
        },
        {
          "output_type": "stream",
          "name": "stdout",
          "text": [
            "1\n",
            "1/1 [==============================] - 0s 18ms/step\n",
            "1\n",
            "1/1 [==============================] - 0s 20ms/step\n"
          ]
        },
        {
          "output_type": "stream",
          "name": "stderr",
          "text": [
            "\r 74%|███████▍  | 614/828 [01:30<00:23,  8.99it/s]"
          ]
        },
        {
          "output_type": "stream",
          "name": "stdout",
          "text": [
            "1\n",
            "1/1 [==============================] - 0s 242ms/step\n",
            "1\n",
            "1/1 [==============================] - 0s 22ms/step\n"
          ]
        },
        {
          "output_type": "stream",
          "name": "stderr",
          "text": [
            "\r 74%|███████▍  | 616/828 [01:30<00:28,  7.36it/s]"
          ]
        },
        {
          "output_type": "stream",
          "name": "stdout",
          "text": [
            "0\n",
            "1/1 [==============================] - 0s 22ms/step\n",
            "1\n",
            "1/1 [==============================] - 0s 21ms/step\n"
          ]
        },
        {
          "output_type": "stream",
          "name": "stderr",
          "text": [
            "\r 75%|███████▍  | 618/828 [01:31<00:24,  8.46it/s]"
          ]
        },
        {
          "output_type": "stream",
          "name": "stdout",
          "text": [
            "1\n",
            "1/1 [==============================] - 0s 18ms/step\n",
            "1\n",
            "1/1 [==============================] - 0s 23ms/step\n"
          ]
        },
        {
          "output_type": "stream",
          "name": "stderr",
          "text": [
            "\r 75%|███████▍  | 620/828 [01:31<00:22,  9.28it/s]"
          ]
        },
        {
          "output_type": "stream",
          "name": "stdout",
          "text": [
            "1\n",
            "1/1 [==============================] - 0s 19ms/step\n",
            "1\n",
            "1/1 [==============================] - 0s 18ms/step\n"
          ]
        },
        {
          "output_type": "stream",
          "name": "stderr",
          "text": [
            "\r 75%|███████▌  | 622/828 [01:31<00:20, 10.02it/s]"
          ]
        },
        {
          "output_type": "stream",
          "name": "stdout",
          "text": [
            "1\n",
            "1/1 [==============================] - 0s 19ms/step\n",
            "0\n",
            "1/1 [==============================] - 0s 19ms/step\n"
          ]
        },
        {
          "output_type": "stream",
          "name": "stderr",
          "text": [
            "\r 75%|███████▌  | 624/828 [01:31<00:19, 10.63it/s]"
          ]
        },
        {
          "output_type": "stream",
          "name": "stdout",
          "text": [
            "1\n",
            "1/1 [==============================] - 0s 17ms/step\n",
            "1\n",
            "1/1 [==============================] - 0s 18ms/step\n"
          ]
        },
        {
          "output_type": "stream",
          "name": "stderr",
          "text": [
            "\r 76%|███████▌  | 626/828 [01:31<00:17, 11.32it/s]"
          ]
        },
        {
          "output_type": "stream",
          "name": "stdout",
          "text": [
            "1\n",
            "1/1 [==============================] - 0s 214ms/step\n",
            "1\n",
            "1/1 [==============================] - 0s 17ms/step\n"
          ]
        },
        {
          "output_type": "stream",
          "name": "stderr",
          "text": [
            "\r 76%|███████▌  | 628/828 [01:32<00:23,  8.43it/s]"
          ]
        },
        {
          "output_type": "stream",
          "name": "stdout",
          "text": [
            "1\n",
            "1/1 [==============================] - 0s 18ms/step\n",
            "1\n",
            "1/1 [==============================] - 0s 23ms/step\n"
          ]
        },
        {
          "output_type": "stream",
          "name": "stderr",
          "text": [
            "\r 76%|███████▌  | 630/828 [01:32<00:20,  9.46it/s]"
          ]
        },
        {
          "output_type": "stream",
          "name": "stdout",
          "text": [
            "1\n",
            "1/1 [==============================] - 0s 17ms/step\n",
            "1\n",
            "1/1 [==============================] - 0s 18ms/step\n"
          ]
        },
        {
          "output_type": "stream",
          "name": "stderr",
          "text": [
            "\r 76%|███████▋  | 632/828 [01:32<00:19, 10.22it/s]"
          ]
        },
        {
          "output_type": "stream",
          "name": "stdout",
          "text": [
            "1\n",
            "1/1 [==============================] - 0s 18ms/step\n",
            "1\n",
            "1/1 [==============================] - 0s 16ms/step\n"
          ]
        },
        {
          "output_type": "stream",
          "name": "stderr",
          "text": [
            "\r 77%|███████▋  | 634/828 [01:32<00:17, 11.05it/s]"
          ]
        },
        {
          "output_type": "stream",
          "name": "stdout",
          "text": [
            "1\n",
            "1/1 [==============================] - 0s 20ms/step\n",
            "1\n",
            "1/1 [==============================] - 1s 834ms/step\n"
          ]
        },
        {
          "output_type": "stream",
          "name": "stderr",
          "text": [
            "\r 77%|███████▋  | 636/828 [01:33<00:40,  4.76it/s]"
          ]
        },
        {
          "output_type": "stream",
          "name": "stdout",
          "text": [
            "1\n",
            "2/2 [==============================] - 0s 239ms/step\n"
          ]
        },
        {
          "output_type": "stream",
          "name": "stderr",
          "text": [
            "\r 77%|███████▋  | 637/828 [01:33<00:45,  4.19it/s]"
          ]
        },
        {
          "output_type": "stream",
          "name": "stdout",
          "text": [
            "1\n",
            "1/1 [==============================] - 1s 637ms/step\n"
          ]
        },
        {
          "output_type": "stream",
          "name": "stderr",
          "text": [
            "\r 77%|███████▋  | 638/828 [01:34<01:02,  3.03it/s]"
          ]
        },
        {
          "output_type": "stream",
          "name": "stdout",
          "text": [
            "1\n",
            "1/1 [==============================] - 0s 17ms/step\n",
            "1\n",
            "1/1 [==============================] - 0s 18ms/step\n"
          ]
        },
        {
          "output_type": "stream",
          "name": "stderr",
          "text": [
            "\r 77%|███████▋  | 640/828 [01:34<00:44,  4.23it/s]"
          ]
        },
        {
          "output_type": "stream",
          "name": "stdout",
          "text": [
            "1\n",
            "1/1 [==============================] - 0s 24ms/step\n",
            "1\n",
            "1/1 [==============================] - 0s 20ms/step\n"
          ]
        },
        {
          "output_type": "stream",
          "name": "stderr",
          "text": [
            "\r 78%|███████▊  | 642/828 [01:34<00:33,  5.49it/s]"
          ]
        },
        {
          "output_type": "stream",
          "name": "stdout",
          "text": [
            "1\n",
            "1/1 [==============================] - 0s 25ms/step\n",
            "1\n",
            "1/1 [==============================] - 0s 33ms/step\n"
          ]
        },
        {
          "output_type": "stream",
          "name": "stderr",
          "text": [
            "\r 78%|███████▊  | 644/828 [01:35<00:27,  6.60it/s]"
          ]
        },
        {
          "output_type": "stream",
          "name": "stdout",
          "text": [
            "1\n",
            "1/1 [==============================] - 0s 19ms/step\n",
            "1\n",
            "1/1 [==============================] - 0s 17ms/step\n"
          ]
        },
        {
          "output_type": "stream",
          "name": "stderr",
          "text": [
            "\r 78%|███████▊  | 646/828 [01:35<00:23,  7.73it/s]"
          ]
        },
        {
          "output_type": "stream",
          "name": "stdout",
          "text": [
            "1\n",
            "1/1 [==============================] - 0s 18ms/step\n",
            "1\n",
            "1/1 [==============================] - 0s 23ms/step\n"
          ]
        },
        {
          "output_type": "stream",
          "name": "stderr",
          "text": [
            "\r 78%|███████▊  | 648/828 [01:35<00:20,  8.80it/s]"
          ]
        },
        {
          "output_type": "stream",
          "name": "stdout",
          "text": [
            "2\n",
            "1/1 [==============================] - 0s 18ms/step\n",
            "1\n",
            "1/1 [==============================] - 0s 27ms/step\n"
          ]
        },
        {
          "output_type": "stream",
          "name": "stderr",
          "text": [
            "\r 79%|███████▊  | 650/828 [01:35<00:18,  9.50it/s]"
          ]
        },
        {
          "output_type": "stream",
          "name": "stdout",
          "text": [
            "1\n",
            "1/1 [==============================] - 0s 18ms/step\n",
            "1\n",
            "1/1 [==============================] - 0s 231ms/step\n"
          ]
        },
        {
          "output_type": "stream",
          "name": "stderr",
          "text": [
            "\r 79%|███████▊  | 652/828 [01:36<00:22,  7.71it/s]"
          ]
        },
        {
          "output_type": "stream",
          "name": "stdout",
          "text": [
            "1\n",
            "1/1 [==============================] - 0s 18ms/step\n",
            "1\n",
            "1/1 [==============================] - 0s 17ms/step\n"
          ]
        },
        {
          "output_type": "stream",
          "name": "stderr",
          "text": [
            "\r 79%|███████▉  | 654/828 [01:36<00:19,  8.73it/s]"
          ]
        },
        {
          "output_type": "stream",
          "name": "stdout",
          "text": [
            "1\n",
            "1/1 [==============================] - 0s 19ms/step\n",
            "1\n",
            "1/1 [==============================] - 0s 23ms/step\n"
          ]
        },
        {
          "output_type": "stream",
          "name": "stderr",
          "text": [
            "\r 79%|███████▉  | 656/828 [01:36<00:17,  9.59it/s]"
          ]
        },
        {
          "output_type": "stream",
          "name": "stdout",
          "text": [
            "1\n",
            "1/1 [==============================] - 0s 19ms/step\n",
            "1\n",
            "1/1 [==============================] - 0s 20ms/step\n"
          ]
        },
        {
          "output_type": "stream",
          "name": "stderr",
          "text": [
            "\r 79%|███████▉  | 658/828 [01:36<00:16, 10.46it/s]"
          ]
        },
        {
          "output_type": "stream",
          "name": "stdout",
          "text": [
            "1\n",
            "1/1 [==============================] - 0s 19ms/step\n",
            "1\n",
            "1/1 [==============================] - 0s 25ms/step\n"
          ]
        },
        {
          "output_type": "stream",
          "name": "stderr",
          "text": [
            "\r 80%|███████▉  | 660/828 [01:36<00:22,  7.55it/s]"
          ]
        },
        {
          "output_type": "stream",
          "name": "stdout",
          "text": [
            "1\n",
            "1/1 [==============================] - 0s 18ms/step\n",
            "1\n",
            "1/1 [==============================] - 0s 18ms/step\n"
          ]
        },
        {
          "output_type": "stream",
          "name": "stderr",
          "text": [
            "\r 80%|███████▉  | 662/828 [01:37<00:19,  8.50it/s]"
          ]
        },
        {
          "output_type": "stream",
          "name": "stdout",
          "text": [
            "1\n",
            "1/1 [==============================] - 0s 18ms/step\n",
            "1\n",
            "1/1 [==============================] - 0s 21ms/step\n"
          ]
        },
        {
          "output_type": "stream",
          "name": "stderr",
          "text": [
            "\r 80%|████████  | 664/828 [01:37<00:17,  9.38it/s]"
          ]
        },
        {
          "output_type": "stream",
          "name": "stdout",
          "text": [
            "1\n",
            "1/1 [==============================] - 0s 18ms/step\n",
            "1\n",
            "1/1 [==============================] - 0s 19ms/step\n"
          ]
        },
        {
          "output_type": "stream",
          "name": "stderr",
          "text": [
            "\r 80%|████████  | 666/828 [01:37<00:16, 10.00it/s]"
          ]
        },
        {
          "output_type": "stream",
          "name": "stdout",
          "text": [
            "1\n",
            "1/1 [==============================] - 0s 18ms/step\n",
            "1\n",
            "1/1 [==============================] - 0s 256ms/step\n"
          ]
        },
        {
          "output_type": "stream",
          "name": "stderr",
          "text": [
            "\r 81%|████████  | 668/828 [01:37<00:20,  7.65it/s]"
          ]
        },
        {
          "output_type": "stream",
          "name": "stdout",
          "text": [
            "1\n",
            "1/1 [==============================] - 0s 18ms/step\n",
            "1\n",
            "1/1 [==============================] - 0s 20ms/step\n"
          ]
        },
        {
          "output_type": "stream",
          "name": "stderr",
          "text": [
            "\r 81%|████████  | 670/828 [01:37<00:17,  8.89it/s]"
          ]
        },
        {
          "output_type": "stream",
          "name": "stdout",
          "text": [
            "1\n",
            "1/1 [==============================] - 0s 22ms/step\n",
            "1\n",
            "1/1 [==============================] - 0s 18ms/step\n"
          ]
        },
        {
          "output_type": "stream",
          "name": "stderr",
          "text": [
            "\r 81%|████████  | 672/828 [01:38<00:16,  9.46it/s]"
          ]
        },
        {
          "output_type": "stream",
          "name": "stdout",
          "text": [
            "1\n",
            "1/1 [==============================] - 0s 22ms/step\n",
            "1\n",
            "1/1 [==============================] - 0s 24ms/step\n"
          ]
        },
        {
          "output_type": "stream",
          "name": "stderr",
          "text": [
            "\r 81%|████████▏ | 674/828 [01:38<00:15, 10.24it/s]"
          ]
        },
        {
          "output_type": "stream",
          "name": "stdout",
          "text": [
            "1\n",
            "1/1 [==============================] - 0s 20ms/step\n",
            "2\n",
            "1/1 [==============================] - 0s 21ms/step\n"
          ]
        },
        {
          "output_type": "stream",
          "name": "stderr",
          "text": [
            "\r 82%|████████▏ | 676/828 [01:38<00:13, 11.06it/s]"
          ]
        },
        {
          "output_type": "stream",
          "name": "stdout",
          "text": [
            "1\n",
            "1/1 [==============================] - 0s 21ms/step\n",
            "0\n",
            "1/1 [==============================] - 0s 22ms/step\n"
          ]
        },
        {
          "output_type": "stream",
          "name": "stderr",
          "text": [
            "\r 82%|████████▏ | 678/828 [01:38<00:13, 11.32it/s]"
          ]
        },
        {
          "output_type": "stream",
          "name": "stdout",
          "text": [
            "2\n",
            "1/1 [==============================] - 0s 18ms/step\n",
            "1\n",
            "1/1 [==============================] - 0s 233ms/step\n"
          ]
        },
        {
          "output_type": "stream",
          "name": "stderr",
          "text": [
            "\r 82%|████████▏ | 680/828 [01:38<00:17,  8.65it/s]"
          ]
        },
        {
          "output_type": "stream",
          "name": "stdout",
          "text": [
            "1\n",
            "1/1 [==============================] - 1s 605ms/step\n",
            "1\n",
            "1/1 [==============================] - 0s 17ms/step\n"
          ]
        },
        {
          "output_type": "stream",
          "name": "stderr",
          "text": [
            "\r 82%|████████▏ | 682/828 [01:39<00:28,  5.15it/s]"
          ]
        },
        {
          "output_type": "stream",
          "name": "stdout",
          "text": [
            "1\n",
            "1/1 [==============================] - 0s 18ms/step\n",
            "1\n",
            "1/1 [==============================] - 0s 31ms/step\n"
          ]
        },
        {
          "output_type": "stream",
          "name": "stderr",
          "text": [
            "\r 83%|████████▎ | 684/828 [01:39<00:23,  6.26it/s]"
          ]
        },
        {
          "output_type": "stream",
          "name": "stdout",
          "text": [
            "1\n",
            "1/1 [==============================] - 0s 21ms/step\n",
            "1\n",
            "1/1 [==============================] - 0s 24ms/step\n"
          ]
        },
        {
          "output_type": "stream",
          "name": "stderr",
          "text": [
            "\r 83%|████████▎ | 686/828 [01:40<00:19,  7.14it/s]"
          ]
        },
        {
          "output_type": "stream",
          "name": "stdout",
          "text": [
            "1\n",
            "2/2 [==============================] - 0s 8ms/step\n"
          ]
        },
        {
          "output_type": "stream",
          "name": "stderr",
          "text": [
            "\r 83%|████████▎ | 687/828 [01:40<00:18,  7.50it/s]"
          ]
        },
        {
          "output_type": "stream",
          "name": "stdout",
          "text": [
            "0\n",
            "1/1 [==============================] - 0s 18ms/step\n",
            "1\n",
            "1/1 [==============================] - 0s 18ms/step\n"
          ]
        },
        {
          "output_type": "stream",
          "name": "stderr",
          "text": [
            "\r 83%|████████▎ | 689/828 [01:40<00:16,  8.66it/s]"
          ]
        },
        {
          "output_type": "stream",
          "name": "stdout",
          "text": [
            "1\n",
            "1/1 [==============================] - 0s 17ms/step\n",
            "1\n",
            "1/1 [==============================] - 0s 23ms/step\n"
          ]
        },
        {
          "output_type": "stream",
          "name": "stderr",
          "text": [
            "\r 83%|████████▎ | 691/828 [01:40<00:13,  9.85it/s]"
          ]
        },
        {
          "output_type": "stream",
          "name": "stdout",
          "text": [
            "1\n",
            "1/1 [==============================] - 0s 21ms/step\n",
            "1\n",
            "1/1 [==============================] - 0s 18ms/step\n"
          ]
        },
        {
          "output_type": "stream",
          "name": "stderr",
          "text": [
            "\r 84%|████████▎ | 693/828 [01:40<00:12, 10.62it/s]"
          ]
        },
        {
          "output_type": "stream",
          "name": "stdout",
          "text": [
            "1\n",
            "1/1 [==============================] - 0s 20ms/step\n",
            "1\n",
            "1/1 [==============================] - 0s 24ms/step\n"
          ]
        },
        {
          "output_type": "stream",
          "name": "stderr",
          "text": [
            "\r 84%|████████▍ | 695/828 [01:40<00:11, 11.26it/s]"
          ]
        },
        {
          "output_type": "stream",
          "name": "stdout",
          "text": [
            "1\n",
            "1/1 [==============================] - 1s 856ms/step\n",
            "1\n",
            "1/1 [==============================] - 0s 320ms/step\n"
          ]
        },
        {
          "output_type": "stream",
          "name": "stderr",
          "text": [
            "\r 84%|████████▍ | 697/828 [01:42<00:34,  3.82it/s]"
          ]
        },
        {
          "output_type": "stream",
          "name": "stdout",
          "text": [
            "1\n",
            "1/1 [==============================] - 0s 46ms/step\n"
          ]
        },
        {
          "output_type": "stream",
          "name": "stderr",
          "text": [
            "\r 84%|████████▍ | 698/828 [01:42<00:30,  4.26it/s]"
          ]
        },
        {
          "output_type": "stream",
          "name": "stdout",
          "text": [
            "1\n",
            "1/1 [==============================] - 0s 18ms/step\n",
            "1\n",
            "1/1 [==============================] - 0s 18ms/step\n"
          ]
        },
        {
          "output_type": "stream",
          "name": "stderr",
          "text": [
            "\r 85%|████████▍ | 700/828 [01:42<00:23,  5.51it/s]"
          ]
        },
        {
          "output_type": "stream",
          "name": "stdout",
          "text": [
            "1\n",
            "1/1 [==============================] - 0s 17ms/step\n",
            "1\n",
            "1/1 [==============================] - 0s 22ms/step\n"
          ]
        },
        {
          "output_type": "stream",
          "name": "stderr",
          "text": [
            "\r 85%|████████▍ | 702/828 [01:42<00:19,  6.62it/s]"
          ]
        },
        {
          "output_type": "stream",
          "name": "stdout",
          "text": [
            "1\n",
            "1/1 [==============================] - 0s 18ms/step\n",
            "1\n",
            "1/1 [==============================] - 0s 23ms/step\n"
          ]
        },
        {
          "output_type": "stream",
          "name": "stderr",
          "text": [
            "\r 85%|████████▌ | 704/828 [01:42<00:16,  7.65it/s]"
          ]
        },
        {
          "output_type": "stream",
          "name": "stdout",
          "text": [
            "1\n",
            "1/1 [==============================] - 1s 832ms/step\n",
            "1\n",
            "1/1 [==============================] - 0s 246ms/step\n"
          ]
        },
        {
          "output_type": "stream",
          "name": "stderr",
          "text": [
            "\r 85%|████████▌ | 706/828 [01:43<00:33,  3.60it/s]"
          ]
        },
        {
          "output_type": "stream",
          "name": "stdout",
          "text": [
            "1\n",
            "1/1 [==============================] - 0s 17ms/step\n",
            "1\n",
            "1/1 [==============================] - 0s 17ms/step\n"
          ]
        },
        {
          "output_type": "stream",
          "name": "stderr",
          "text": [
            "\r 86%|████████▌ | 708/828 [01:44<00:26,  4.61it/s]"
          ]
        },
        {
          "output_type": "stream",
          "name": "stdout",
          "text": [
            "0\n",
            "1/1 [==============================] - 0s 23ms/step\n",
            "1\n",
            "1/1 [==============================] - 0s 19ms/step\n"
          ]
        },
        {
          "output_type": "stream",
          "name": "stderr",
          "text": [
            "\r 86%|████████▌ | 710/828 [01:44<00:20,  5.68it/s]"
          ]
        },
        {
          "output_type": "stream",
          "name": "stdout",
          "text": [
            "0\n",
            "1/1 [==============================] - 0s 24ms/step\n",
            "1\n",
            "1/1 [==============================] - 0s 19ms/step\n"
          ]
        },
        {
          "output_type": "stream",
          "name": "stderr",
          "text": [
            "\r 86%|████████▌ | 712/828 [01:44<00:17,  6.62it/s]"
          ]
        },
        {
          "output_type": "stream",
          "name": "stdout",
          "text": [
            "1\n",
            "1/1 [==============================] - 0s 19ms/step\n",
            "1\n",
            "1/1 [==============================] - 0s 19ms/step\n"
          ]
        },
        {
          "output_type": "stream",
          "name": "stderr",
          "text": [
            "\r 86%|████████▌ | 714/828 [01:44<00:14,  7.66it/s]"
          ]
        },
        {
          "output_type": "stream",
          "name": "stdout",
          "text": [
            "1\n",
            "1/1 [==============================] - 0s 18ms/step\n",
            "1\n",
            "1/1 [==============================] - 0s 21ms/step\n"
          ]
        },
        {
          "output_type": "stream",
          "name": "stderr",
          "text": [
            "\r 86%|████████▋ | 716/828 [01:44<00:12,  8.64it/s]"
          ]
        },
        {
          "output_type": "stream",
          "name": "stdout",
          "text": [
            "1\n",
            "1/1 [==============================] - 0s 219ms/step\n",
            "1\n",
            "1/1 [==============================] - 1s 715ms/step\n"
          ]
        },
        {
          "output_type": "stream",
          "name": "stderr",
          "text": [
            "\r 87%|████████▋ | 718/828 [01:45<00:26,  4.14it/s]"
          ]
        },
        {
          "output_type": "stream",
          "name": "stdout",
          "text": [
            "1\n",
            "1/1 [==============================] - 0s 17ms/step\n",
            "1\n",
            "1/1 [==============================] - 0s 19ms/step\n"
          ]
        },
        {
          "output_type": "stream",
          "name": "stderr",
          "text": [
            "\r 87%|████████▋ | 720/828 [01:45<00:20,  5.17it/s]"
          ]
        },
        {
          "output_type": "stream",
          "name": "stdout",
          "text": [
            "1\n",
            "1/1 [==============================] - 1s 683ms/step\n"
          ]
        },
        {
          "output_type": "stream",
          "name": "stderr",
          "text": [
            "\r 87%|████████▋ | 721/828 [01:46<00:31,  3.43it/s]"
          ]
        },
        {
          "output_type": "stream",
          "name": "stdout",
          "text": [
            "1\n",
            "1/1 [==============================] - 0s 18ms/step\n",
            "1\n",
            "1/1 [==============================] - 0s 19ms/step\n"
          ]
        },
        {
          "output_type": "stream",
          "name": "stderr",
          "text": [
            "\r 87%|████████▋ | 723/828 [01:46<00:22,  4.57it/s]"
          ]
        },
        {
          "output_type": "stream",
          "name": "stdout",
          "text": [
            "1\n",
            "1/1 [==============================] - 0s 20ms/step\n",
            "1\n",
            "1/1 [==============================] - 0s 22ms/step\n"
          ]
        },
        {
          "output_type": "stream",
          "name": "stderr",
          "text": [
            "\r 88%|████████▊ | 725/828 [01:47<00:18,  5.68it/s]"
          ]
        },
        {
          "output_type": "stream",
          "name": "stdout",
          "text": [
            "1\n",
            "1/1 [==============================] - 0s 20ms/step\n",
            "1\n",
            "1/1 [==============================] - 0s 19ms/step\n"
          ]
        },
        {
          "output_type": "stream",
          "name": "stderr",
          "text": [
            "\r 88%|████████▊ | 727/828 [01:47<00:14,  6.89it/s]"
          ]
        },
        {
          "output_type": "stream",
          "name": "stdout",
          "text": [
            "1\n",
            "1/1 [==============================] - 0s 19ms/step\n",
            "1\n",
            "1/1 [==============================] - 0s 18ms/step\n"
          ]
        },
        {
          "output_type": "stream",
          "name": "stderr",
          "text": [
            "\r 88%|████████▊ | 729/828 [01:47<00:12,  7.93it/s]"
          ]
        },
        {
          "output_type": "stream",
          "name": "stdout",
          "text": [
            "1\n",
            "1/1 [==============================] - 0s 19ms/step\n",
            "1\n",
            "1/1 [==============================] - 0s 19ms/step\n"
          ]
        },
        {
          "output_type": "stream",
          "name": "stderr",
          "text": [
            "\r 88%|████████▊ | 731/828 [01:47<00:10,  8.88it/s]"
          ]
        },
        {
          "output_type": "stream",
          "name": "stdout",
          "text": [
            "1\n",
            "1/1 [==============================] - 0s 18ms/step\n",
            "1\n",
            "1/1 [==============================] - 0s 18ms/step\n"
          ]
        },
        {
          "output_type": "stream",
          "name": "stderr",
          "text": [
            "\r 89%|████████▊ | 733/828 [01:47<00:09,  9.57it/s]"
          ]
        },
        {
          "output_type": "stream",
          "name": "stdout",
          "text": [
            "1\n",
            "1/1 [==============================] - 1s 859ms/step\n",
            "1\n",
            "1/1 [==============================] - 0s 252ms/step\n"
          ]
        },
        {
          "output_type": "stream",
          "name": "stderr",
          "text": [
            "\r 89%|████████▉ | 735/828 [01:48<00:24,  3.87it/s]"
          ]
        },
        {
          "output_type": "stream",
          "name": "stdout",
          "text": [
            "1\n",
            "1/1 [==============================] - 0s 17ms/step\n",
            "1\n",
            "1/1 [==============================] - 1s 572ms/step\n"
          ]
        },
        {
          "output_type": "stream",
          "name": "stderr",
          "text": [
            "\r 89%|████████▉ | 737/828 [01:49<00:26,  3.47it/s]"
          ]
        },
        {
          "output_type": "stream",
          "name": "stdout",
          "text": [
            "1\n",
            "1/1 [==============================] - 0s 17ms/step\n",
            "1\n",
            "1/1 [==============================] - 0s 18ms/step\n"
          ]
        },
        {
          "output_type": "stream",
          "name": "stderr",
          "text": [
            "\r 89%|████████▉ | 739/828 [01:49<00:20,  4.44it/s]"
          ]
        },
        {
          "output_type": "stream",
          "name": "stdout",
          "text": [
            "1\n",
            "1/1 [==============================] - 0s 23ms/step\n",
            "1\n",
            "1/1 [==============================] - 0s 21ms/step\n"
          ]
        },
        {
          "output_type": "stream",
          "name": "stderr",
          "text": [
            "\r 89%|████████▉ | 741/828 [01:49<00:15,  5.51it/s]"
          ]
        },
        {
          "output_type": "stream",
          "name": "stdout",
          "text": [
            "1\n",
            "1/1 [==============================] - 0s 21ms/step\n",
            "1\n",
            "1/1 [==============================] - 0s 18ms/step\n"
          ]
        },
        {
          "output_type": "stream",
          "name": "stderr",
          "text": [
            "\r 90%|████████▉ | 743/828 [01:50<00:12,  6.59it/s]"
          ]
        },
        {
          "output_type": "stream",
          "name": "stdout",
          "text": [
            "1\n",
            "1/1 [==============================] - 0s 18ms/step\n",
            "1\n",
            "1/1 [==============================] - 0s 20ms/step\n"
          ]
        },
        {
          "output_type": "stream",
          "name": "stderr",
          "text": [
            "\r 90%|████████▉ | 745/828 [01:50<00:10,  7.66it/s]"
          ]
        },
        {
          "output_type": "stream",
          "name": "stdout",
          "text": [
            "1\n",
            "1/1 [==============================] - 0s 17ms/step\n",
            "1\n",
            "1/1 [==============================] - 0s 17ms/step\n"
          ]
        },
        {
          "output_type": "stream",
          "name": "stderr",
          "text": [
            "\r 90%|█████████ | 747/828 [01:50<00:09,  8.53it/s]"
          ]
        },
        {
          "output_type": "stream",
          "name": "stdout",
          "text": [
            "1\n",
            "1/1 [==============================] - 0s 18ms/step\n",
            "1\n",
            "1/1 [==============================] - 0s 18ms/step\n"
          ]
        },
        {
          "output_type": "stream",
          "name": "stderr",
          "text": [
            "\r 90%|█████████ | 749/828 [01:50<00:08,  9.42it/s]"
          ]
        },
        {
          "output_type": "stream",
          "name": "stdout",
          "text": [
            "1\n",
            "1/1 [==============================] - 0s 18ms/step\n",
            "1\n",
            "1/1 [==============================] - 0s 203ms/step\n"
          ]
        },
        {
          "output_type": "stream",
          "name": "stderr",
          "text": [
            "\r 91%|█████████ | 751/828 [01:50<00:09,  7.78it/s]"
          ]
        },
        {
          "output_type": "stream",
          "name": "stdout",
          "text": [
            "1\n",
            "1/1 [==============================] - 0s 19ms/step\n",
            "1\n",
            "1/1 [==============================] - 0s 20ms/step\n"
          ]
        },
        {
          "output_type": "stream",
          "name": "stderr",
          "text": [
            "\r 91%|█████████ | 753/828 [01:51<00:08,  8.86it/s]"
          ]
        },
        {
          "output_type": "stream",
          "name": "stdout",
          "text": [
            "2\n",
            "1/1 [==============================] - 0s 19ms/step\n",
            "1\n",
            "1/1 [==============================] - 0s 25ms/step\n"
          ]
        },
        {
          "output_type": "stream",
          "name": "stderr",
          "text": [
            "\r 91%|█████████ | 755/828 [01:51<00:07,  9.69it/s]"
          ]
        },
        {
          "output_type": "stream",
          "name": "stdout",
          "text": [
            "1\n",
            "1/1 [==============================] - 0s 27ms/step\n",
            "1\n",
            "1/1 [==============================] - 0s 19ms/step\n"
          ]
        },
        {
          "output_type": "stream",
          "name": "stderr",
          "text": [
            "\r 91%|█████████▏| 757/828 [01:51<00:07, 10.09it/s]"
          ]
        },
        {
          "output_type": "stream",
          "name": "stdout",
          "text": [
            "1\n",
            "1/1 [==============================] - 0s 26ms/step\n",
            "1\n",
            "1/1 [==============================] - 0s 21ms/step\n"
          ]
        },
        {
          "output_type": "stream",
          "name": "stderr",
          "text": [
            "\r 92%|█████████▏| 759/828 [01:51<00:06, 10.36it/s]"
          ]
        },
        {
          "output_type": "stream",
          "name": "stdout",
          "text": [
            "1\n",
            "1/1 [==============================] - 0s 200ms/step\n",
            "1\n",
            "1/1 [==============================] - 0s 18ms/step\n"
          ]
        },
        {
          "output_type": "stream",
          "name": "stderr",
          "text": [
            "\r 92%|█████████▏| 761/828 [01:52<00:07,  8.46it/s]"
          ]
        },
        {
          "output_type": "stream",
          "name": "stdout",
          "text": [
            "0\n",
            "1/1 [==============================] - 0s 20ms/step\n",
            "1\n",
            "1/1 [==============================] - 0s 25ms/step\n"
          ]
        },
        {
          "output_type": "stream",
          "name": "stderr",
          "text": [
            "\r 92%|█████████▏| 763/828 [01:52<00:06,  9.39it/s]"
          ]
        },
        {
          "output_type": "stream",
          "name": "stdout",
          "text": [
            "2\n",
            "1/1 [==============================] - 0s 21ms/step\n",
            "2\n",
            "1/1 [==============================] - 0s 18ms/step\n"
          ]
        },
        {
          "output_type": "stream",
          "name": "stderr",
          "text": [
            "\r 92%|█████████▏| 765/828 [01:52<00:06,  9.78it/s]"
          ]
        },
        {
          "output_type": "stream",
          "name": "stdout",
          "text": [
            "1\n",
            "1/1 [==============================] - 0s 18ms/step\n",
            "0\n",
            "1/1 [==============================] - 0s 18ms/step\n"
          ]
        },
        {
          "output_type": "stream",
          "name": "stderr",
          "text": [
            "\r 93%|█████████▎| 767/828 [01:52<00:06,  9.88it/s]"
          ]
        },
        {
          "output_type": "stream",
          "name": "stdout",
          "text": [
            "1\n",
            "1/1 [==============================] - 0s 289ms/step\n",
            "1\n",
            "1/1 [==============================] - 0s 18ms/step\n"
          ]
        },
        {
          "output_type": "stream",
          "name": "stderr",
          "text": [
            "\r 93%|█████████▎| 769/828 [01:52<00:07,  7.38it/s]"
          ]
        },
        {
          "output_type": "stream",
          "name": "stdout",
          "text": [
            "1\n",
            "1/1 [==============================] - 0s 22ms/step\n",
            "1\n",
            "1/1 [==============================] - 0s 18ms/step\n"
          ]
        },
        {
          "output_type": "stream",
          "name": "stderr",
          "text": [
            "\r 93%|█████████▎| 771/828 [01:53<00:06,  8.41it/s]"
          ]
        },
        {
          "output_type": "stream",
          "name": "stdout",
          "text": [
            "1\n",
            "1/1 [==============================] - 0s 20ms/step\n",
            "1\n",
            "1/1 [==============================] - 0s 18ms/step\n"
          ]
        },
        {
          "output_type": "stream",
          "name": "stderr",
          "text": [
            "\r 93%|█████████▎| 773/828 [01:53<00:05,  9.33it/s]"
          ]
        },
        {
          "output_type": "stream",
          "name": "stdout",
          "text": [
            "1\n",
            "1/1 [==============================] - 0s 19ms/step\n",
            "1\n",
            "1/1 [==============================] - 0s 22ms/step\n"
          ]
        },
        {
          "output_type": "stream",
          "name": "stderr",
          "text": [
            "\r 94%|█████████▎| 775/828 [01:53<00:05,  9.84it/s]"
          ]
        },
        {
          "output_type": "stream",
          "name": "stdout",
          "text": [
            "1\n",
            "1/1 [==============================] - 0s 17ms/step\n",
            "1\n",
            "1/1 [==============================] - 0s 17ms/step\n"
          ]
        },
        {
          "output_type": "stream",
          "name": "stderr",
          "text": [
            "\r 94%|█████████▍| 777/828 [01:53<00:04, 10.62it/s]"
          ]
        },
        {
          "output_type": "stream",
          "name": "stdout",
          "text": [
            "1\n",
            "1/1 [==============================] - 0s 21ms/step\n",
            "1\n",
            "1/1 [==============================] - 0s 21ms/step\n"
          ]
        },
        {
          "output_type": "stream",
          "name": "stderr",
          "text": [
            "\r 94%|█████████▍| 779/828 [01:53<00:04, 11.15it/s]"
          ]
        },
        {
          "output_type": "stream",
          "name": "stdout",
          "text": [
            "1\n",
            "1/1 [==============================] - 0s 240ms/step\n",
            "1\n",
            "1/1 [==============================] - 0s 19ms/step\n"
          ]
        },
        {
          "output_type": "stream",
          "name": "stderr",
          "text": [
            "\r 94%|█████████▍| 781/828 [01:54<00:05,  8.29it/s]"
          ]
        },
        {
          "output_type": "stream",
          "name": "stdout",
          "text": [
            "1\n",
            "1/1 [==============================] - 0s 26ms/step\n",
            "1\n",
            "1/1 [==============================] - 0s 24ms/step\n"
          ]
        },
        {
          "output_type": "stream",
          "name": "stderr",
          "text": [
            "\r 95%|█████████▍| 783/828 [01:54<00:04,  9.31it/s]"
          ]
        },
        {
          "output_type": "stream",
          "name": "stdout",
          "text": [
            "1\n",
            "1/1 [==============================] - 0s 19ms/step\n",
            "1\n",
            "1/1 [==============================] - 0s 18ms/step\n"
          ]
        },
        {
          "output_type": "stream",
          "name": "stderr",
          "text": [
            "\r 95%|█████████▍| 785/828 [01:54<00:04,  9.76it/s]"
          ]
        },
        {
          "output_type": "stream",
          "name": "stdout",
          "text": [
            "1\n",
            "1/1 [==============================] - 0s 18ms/step\n",
            "1\n",
            "1/1 [==============================] - 0s 17ms/step\n"
          ]
        },
        {
          "output_type": "stream",
          "name": "stderr",
          "text": [
            "\r 95%|█████████▌| 787/828 [01:54<00:03, 10.29it/s]"
          ]
        },
        {
          "output_type": "stream",
          "name": "stdout",
          "text": [
            "1\n",
            "1/1 [==============================] - 0s 18ms/step\n",
            "1\n",
            "1/1 [==============================] - 0s 251ms/step\n"
          ]
        },
        {
          "output_type": "stream",
          "name": "stderr",
          "text": [
            "\r 95%|█████████▌| 789/828 [01:55<00:04,  7.83it/s]"
          ]
        },
        {
          "output_type": "stream",
          "name": "stdout",
          "text": [
            "2\n",
            "1/1 [==============================] - 0s 19ms/step\n",
            "1\n",
            "1/1 [==============================] - 0s 19ms/step\n"
          ]
        },
        {
          "output_type": "stream",
          "name": "stderr",
          "text": [
            "\r 96%|█████████▌| 791/828 [01:55<00:04,  8.72it/s]"
          ]
        },
        {
          "output_type": "stream",
          "name": "stdout",
          "text": [
            "1\n",
            "1/1 [==============================] - 0s 26ms/step\n",
            "1\n",
            "1/1 [==============================] - 0s 18ms/step\n"
          ]
        },
        {
          "output_type": "stream",
          "name": "stderr",
          "text": [
            "\r 96%|█████████▌| 793/828 [01:55<00:03,  9.49it/s]"
          ]
        },
        {
          "output_type": "stream",
          "name": "stdout",
          "text": [
            "0\n",
            "1/1 [==============================] - 0s 31ms/step\n",
            "1\n",
            "1/1 [==============================] - 0s 17ms/step\n"
          ]
        },
        {
          "output_type": "stream",
          "name": "stderr",
          "text": [
            "\r 96%|█████████▌| 795/828 [01:55<00:03,  9.93it/s]"
          ]
        },
        {
          "output_type": "stream",
          "name": "stdout",
          "text": [
            "1\n",
            "1/1 [==============================] - 0s 24ms/step\n",
            "2\n",
            "1/1 [==============================] - 1s 604ms/step\n"
          ]
        },
        {
          "output_type": "stream",
          "name": "stderr",
          "text": [
            "\r 96%|█████████▋| 797/828 [01:56<00:05,  5.36it/s]"
          ]
        },
        {
          "output_type": "stream",
          "name": "stdout",
          "text": [
            "1\n",
            "1/1 [==============================] - 0s 25ms/step\n"
          ]
        },
        {
          "output_type": "stream",
          "name": "stderr",
          "text": [
            "\r 96%|█████████▋| 798/828 [01:56<00:05,  5.72it/s]"
          ]
        },
        {
          "output_type": "stream",
          "name": "stdout",
          "text": [
            "2\n",
            "1/1 [==============================] - 0s 17ms/step\n"
          ]
        },
        {
          "output_type": "stream",
          "name": "stderr",
          "text": [
            "\r 96%|█████████▋| 799/828 [01:56<00:05,  5.78it/s]"
          ]
        },
        {
          "output_type": "stream",
          "name": "stdout",
          "text": [
            "1\n",
            "1/1 [==============================] - 0s 18ms/step\n",
            "1\n",
            "1/1 [==============================] - 0s 17ms/step\n"
          ]
        },
        {
          "output_type": "stream",
          "name": "stderr",
          "text": [
            "\r 97%|█████████▋| 801/828 [01:56<00:03,  7.27it/s]"
          ]
        },
        {
          "output_type": "stream",
          "name": "stdout",
          "text": [
            "1\n",
            "1/1 [==============================] - 0s 28ms/step\n",
            "1\n",
            "1/1 [==============================] - 0s 252ms/step\n"
          ]
        },
        {
          "output_type": "stream",
          "name": "stderr",
          "text": [
            "\r 97%|█████████▋| 803/828 [01:57<00:04,  6.11it/s]"
          ]
        },
        {
          "output_type": "stream",
          "name": "stdout",
          "text": [
            "1\n",
            "1/1 [==============================] - 0s 105ms/step\n"
          ]
        },
        {
          "output_type": "stream",
          "name": "stderr",
          "text": [
            "\r 97%|█████████▋| 804/828 [01:57<00:04,  5.04it/s]"
          ]
        },
        {
          "output_type": "stream",
          "name": "stdout",
          "text": [
            "1\n",
            "1/1 [==============================] - 0s 224ms/step\n"
          ]
        },
        {
          "output_type": "stream",
          "name": "stderr",
          "text": [
            "\r 97%|█████████▋| 805/828 [01:57<00:05,  4.07it/s]"
          ]
        },
        {
          "output_type": "stream",
          "name": "stdout",
          "text": [
            "1\n",
            "1/1 [==============================] - 1s 804ms/step\n"
          ]
        },
        {
          "output_type": "stream",
          "name": "stderr",
          "text": [
            "\r 97%|█████████▋| 806/828 [01:58<00:08,  2.51it/s]"
          ]
        },
        {
          "output_type": "stream",
          "name": "stdout",
          "text": [
            "1\n",
            "1/1 [==============================] - 0s 17ms/step\n",
            "1\n",
            "1/1 [==============================] - 0s 18ms/step\n"
          ]
        },
        {
          "output_type": "stream",
          "name": "stderr",
          "text": [
            "\r 98%|█████████▊| 808/828 [01:59<00:05,  3.72it/s]"
          ]
        },
        {
          "output_type": "stream",
          "name": "stdout",
          "text": [
            "1\n",
            "1/1 [==============================] - 0s 17ms/step\n",
            "1\n",
            "1/1 [==============================] - 0s 21ms/step\n"
          ]
        },
        {
          "output_type": "stream",
          "name": "stderr",
          "text": [
            "\r 98%|█████████▊| 810/828 [01:59<00:03,  4.98it/s]"
          ]
        },
        {
          "output_type": "stream",
          "name": "stdout",
          "text": [
            "1\n",
            "1/1 [==============================] - 0s 21ms/step\n",
            "1\n",
            "1/1 [==============================] - 0s 17ms/step\n"
          ]
        },
        {
          "output_type": "stream",
          "name": "stderr",
          "text": [
            "\r 98%|█████████▊| 812/828 [01:59<00:02,  6.21it/s]"
          ]
        },
        {
          "output_type": "stream",
          "name": "stdout",
          "text": [
            "1\n",
            "1/1 [==============================] - 0s 18ms/step\n",
            "1\n",
            "1/1 [==============================] - 0s 19ms/step\n"
          ]
        },
        {
          "output_type": "stream",
          "name": "stderr",
          "text": [
            "\r 98%|█████████▊| 814/828 [01:59<00:01,  7.43it/s]"
          ]
        },
        {
          "output_type": "stream",
          "name": "stdout",
          "text": [
            "1\n",
            "1/1 [==============================] - 0s 192ms/step\n",
            "1\n",
            "1/1 [==============================] - 0s 17ms/step\n"
          ]
        },
        {
          "output_type": "stream",
          "name": "stderr",
          "text": [
            "\r 99%|█████████▊| 816/828 [01:59<00:01,  6.88it/s]"
          ]
        },
        {
          "output_type": "stream",
          "name": "stdout",
          "text": [
            "1\n",
            "1/1 [==============================] - 0s 19ms/step\n",
            "1\n",
            "1/1 [==============================] - 0s 18ms/step\n"
          ]
        },
        {
          "output_type": "stream",
          "name": "stderr",
          "text": [
            "\r 99%|█████████▉| 818/828 [02:00<00:01,  7.98it/s]"
          ]
        },
        {
          "output_type": "stream",
          "name": "stdout",
          "text": [
            "1\n",
            "1/1 [==============================] - 0s 20ms/step\n",
            "1\n",
            "1/1 [==============================] - 0s 18ms/step\n"
          ]
        },
        {
          "output_type": "stream",
          "name": "stderr",
          "text": [
            "\r 99%|█████████▉| 820/828 [02:00<00:00,  8.89it/s]"
          ]
        },
        {
          "output_type": "stream",
          "name": "stdout",
          "text": [
            "1\n",
            "1/1 [==============================] - 0s 18ms/step\n",
            "1\n",
            "1/1 [==============================] - 0s 19ms/step\n"
          ]
        },
        {
          "output_type": "stream",
          "name": "stderr",
          "text": [
            "\r 99%|█████████▉| 822/828 [02:00<00:00,  9.74it/s]"
          ]
        },
        {
          "output_type": "stream",
          "name": "stdout",
          "text": [
            "1\n",
            "1/1 [==============================] - 0s 27ms/step\n",
            "2\n",
            "1/1 [==============================] - 0s 19ms/step\n"
          ]
        },
        {
          "output_type": "stream",
          "name": "stderr",
          "text": [
            "\r100%|█████████▉| 824/828 [02:00<00:00, 10.17it/s]"
          ]
        },
        {
          "output_type": "stream",
          "name": "stdout",
          "text": [
            "1\n",
            "1/1 [==============================] - 0s 19ms/step\n",
            "1\n",
            "1/1 [==============================] - 0s 20ms/step\n"
          ]
        },
        {
          "output_type": "stream",
          "name": "stderr",
          "text": [
            "\r100%|█████████▉| 826/828 [02:00<00:00, 10.52it/s]"
          ]
        },
        {
          "output_type": "stream",
          "name": "stdout",
          "text": [
            "1\n",
            "1/1 [==============================] - 0s 23ms/step\n",
            "1\n",
            "1/1 [==============================] - 0s 279ms/step\n"
          ]
        },
        {
          "output_type": "stream",
          "name": "stderr",
          "text": [
            "100%|██████████| 828/828 [02:01<00:00,  6.84it/s]"
          ]
        },
        {
          "output_type": "stream",
          "name": "stdout",
          "text": [
            "1\n"
          ]
        },
        {
          "output_type": "stream",
          "name": "stderr",
          "text": [
            "\n"
          ]
        },
        {
          "output_type": "execute_result",
          "data": {
            "text/plain": [
              "list"
            ]
          },
          "metadata": {},
          "execution_count": 68
        }
      ],
      "source": [
        "from keras.preprocessing.text import Tokenizer\n",
        "from keras.utils import pad_sequences\n",
        "import pickle\n",
        "# tokenizer = Tokenizer(num_words=max_fatures, split=' ')\n",
        "\n",
        "\"\"\"\n",
        "\n",
        "\"war\" itself alone is Netural. that makes sense enough, noting wrong that much.  \n",
        "\"terrible war\" is turely Negative  beace if the word of \"terrible\".\n",
        "\n",
        "\n",
        "\"How are you\" cause error\n",
        "\n",
        "\n",
        "\"\"\"\n",
        "# user = str(input(\" Type smt to test the model\"))\n",
        "# user = X_test[:99]\n",
        "\n",
        "# user = (\" ugly face\")\n",
        "# user = (\" terrible\")\n",
        "# user = (\"Angry\")\n",
        "\n",
        "\n",
        "# user = (\"Terrible war\")\n",
        "# user = (\" walking\")\n",
        "user = (\" Mom is comming\")\n",
        "# user = (\" how is your day going?\")\n",
        "# user = (\"Black sheep\")\n",
        "\n",
        "\n",
        "# user = (\" love\")\n",
        "# user = (\" Beautiful colorful dress \")\n",
        "# user = (\"clever trick\")\n",
        "\n",
        "predict_label = []\n",
        "\n",
        "# user = [\" how is your day going?\" , \"Black sheep\", \"Black sheep\"]  \n",
        "\n",
        "def label_encode(output):\n",
        "    if output == \"Netural\":\n",
        "      # print(1)\n",
        "      output = 1\n",
        "    elif output == \"Postivie\":\n",
        "      # print(2)\n",
        "      output = 2\n",
        "       \n",
        "    elif output == \"Negitive\":\n",
        "      # print(0)  \n",
        "      output = 0\n",
        "\n",
        "    \n",
        "    predict_label.append(output)\n",
        "       \n",
        "    print(output)\n",
        "  \n",
        "\n",
        "\n",
        "def model_pip(user):\n",
        "  # return user\n",
        "  prediction = model.predict(user)\n",
        "  # print(prediction)\n",
        "  predicted = np.argmax(prediction)\n",
        "  \n",
        "  # predicted = np.argmax(prediction) \n",
        "  # print(predicted)\n",
        "\n",
        "  if predicted == 1:\n",
        "    # print(\"Netural\")\n",
        "    output = \"Netural\"\n",
        "\n",
        "  elif (predicted) == 2:\n",
        "    # print(\"Postivie\")\n",
        "    output = \"Postivie\"\n",
        "\n",
        "  elif (predicted) == 0:\n",
        "    # print(\"Negitive\")\n",
        "    output = \"Negitive\"\n",
        "\n",
        "  else:\n",
        "    # print(\"Netural\")\n",
        "    output = \"Netural\"\n",
        "\n",
        "  # print(output) \n",
        "  label_encode(output)\n",
        "\n",
        "   \n",
        "\n",
        "def token(user):\n",
        "  user= tweet_to_words(user)\n",
        "  user = tokenizer.texts_to_sequences(user)\n",
        "  user = pad_sequences(user)\n",
        "  # print(user)\n",
        "  model_pip(user)\n",
        "  # print(user)\n",
        "\n",
        "def main(user):\n",
        "  user  = remove_links(user)\n",
        "  user  = remove_emoji(user)\n",
        "  user = preprocess(user)\n",
        "  user  =preprocess(user)\n",
        "  # user  =remove_users(remove_users)\n",
        "  user  =clean(user)\n",
        "  # return user\n",
        "  # user = tokenizer.texts_to_sequences(user)\n",
        "  # return user\n",
        "     \n",
        "  token(user)\n",
        "  # token(user)\n",
        "\n",
        "# for i in user:\n",
        "#   main(i)\n",
        "\n",
        "from tqdm import tqdm\n",
        "for sentence in tqdm(val_Feature):\n",
        "  test =  main(sentence)\n",
        "\n",
        "type(predict_label)\n",
        "\n",
        "  \n",
        "# main(user)\n",
        " \n",
        "# user = (\" how is your day going?\")\n",
        "# user = (\"Black sheep\")\n",
        "\n",
        "\n",
        "# user = (\" love\")\n",
        "\n",
        "\n"
      ]
    },
    {
      "cell_type": "code",
      "source": [
        "predict_label"
      ],
      "metadata": {
        "colab": {
          "base_uri": "https://localhost:8080/"
        },
        "id": "_oQHi45uiHIa",
        "outputId": "71384dcb-4ce3-4bb5-cc74-edf649b39134"
      },
      "execution_count": null,
      "outputs": [
        {
          "output_type": "execute_result",
          "data": {
            "text/plain": [
              "[1,\n",
              " 1,\n",
              " 1,\n",
              " 1,\n",
              " 1,\n",
              " 1,\n",
              " 1,\n",
              " 1,\n",
              " 1,\n",
              " 1,\n",
              " 1,\n",
              " 1,\n",
              " 1,\n",
              " 1,\n",
              " 1,\n",
              " 1,\n",
              " 1,\n",
              " 1,\n",
              " 1,\n",
              " 1,\n",
              " 1,\n",
              " 1,\n",
              " 1,\n",
              " 1,\n",
              " 1,\n",
              " 1,\n",
              " 1,\n",
              " 1,\n",
              " 1,\n",
              " 1,\n",
              " 1,\n",
              " 1,\n",
              " 1,\n",
              " 1,\n",
              " 1,\n",
              " 1,\n",
              " 1,\n",
              " 1,\n",
              " 1,\n",
              " 1,\n",
              " 1,\n",
              " 1,\n",
              " 1,\n",
              " 2,\n",
              " 1,\n",
              " 1,\n",
              " 1,\n",
              " 1,\n",
              " 1,\n",
              " 1,\n",
              " 1,\n",
              " 1,\n",
              " 1,\n",
              " 1,\n",
              " 1,\n",
              " 1,\n",
              " 2,\n",
              " 1,\n",
              " 1,\n",
              " 1,\n",
              " 1,\n",
              " 1,\n",
              " 1,\n",
              " 1,\n",
              " 0,\n",
              " 1,\n",
              " 2,\n",
              " 2,\n",
              " 1,\n",
              " 1,\n",
              " 1,\n",
              " 1,\n",
              " 2,\n",
              " 1,\n",
              " 1,\n",
              " 1,\n",
              " 1,\n",
              " 1,\n",
              " 1,\n",
              " 1,\n",
              " 1,\n",
              " 1,\n",
              " 1,\n",
              " 1,\n",
              " 1,\n",
              " 1,\n",
              " 1,\n",
              " 1,\n",
              " 1,\n",
              " 1,\n",
              " 1,\n",
              " 1,\n",
              " 1,\n",
              " 1,\n",
              " 2,\n",
              " 1,\n",
              " 1,\n",
              " 1,\n",
              " 1,\n",
              " 1,\n",
              " 1,\n",
              " 1,\n",
              " 1,\n",
              " 1,\n",
              " 1,\n",
              " 1,\n",
              " 1,\n",
              " 1,\n",
              " 1,\n",
              " 1,\n",
              " 1,\n",
              " 1,\n",
              " 1,\n",
              " 1,\n",
              " 1,\n",
              " 1,\n",
              " 1,\n",
              " 1,\n",
              " 1,\n",
              " 1,\n",
              " 1,\n",
              " 1,\n",
              " 1,\n",
              " 1,\n",
              " 1,\n",
              " 2,\n",
              " 1,\n",
              " 1,\n",
              " 1,\n",
              " 0,\n",
              " 1,\n",
              " 0,\n",
              " 1,\n",
              " 1,\n",
              " 1,\n",
              " 1,\n",
              " 1,\n",
              " 2,\n",
              " 1,\n",
              " 1,\n",
              " 1,\n",
              " 0,\n",
              " 1,\n",
              " 1,\n",
              " 1,\n",
              " 1,\n",
              " 1,\n",
              " 1,\n",
              " 1,\n",
              " 1,\n",
              " 1,\n",
              " 1,\n",
              " 1,\n",
              " 1,\n",
              " 1,\n",
              " 1,\n",
              " 0,\n",
              " 1,\n",
              " 1,\n",
              " 1,\n",
              " 1,\n",
              " 2,\n",
              " 1,\n",
              " 1,\n",
              " 1,\n",
              " 1,\n",
              " 1,\n",
              " 1,\n",
              " 1,\n",
              " 1,\n",
              " 1,\n",
              " 1,\n",
              " 1,\n",
              " 1,\n",
              " 1,\n",
              " 1,\n",
              " 1,\n",
              " 1,\n",
              " 0,\n",
              " 1,\n",
              " 1,\n",
              " 1,\n",
              " 1,\n",
              " 1,\n",
              " 2,\n",
              " 1,\n",
              " 1,\n",
              " 1,\n",
              " 1,\n",
              " 1,\n",
              " 1,\n",
              " 1,\n",
              " 1,\n",
              " 1,\n",
              " 1,\n",
              " 1,\n",
              " 1,\n",
              " 1,\n",
              " 1,\n",
              " 1,\n",
              " 1,\n",
              " 1,\n",
              " 1,\n",
              " 1,\n",
              " 1,\n",
              " 1,\n",
              " 1,\n",
              " 1,\n",
              " 1,\n",
              " 1,\n",
              " 1,\n",
              " 1,\n",
              " 1,\n",
              " 1,\n",
              " 1,\n",
              " 1,\n",
              " 1,\n",
              " 1,\n",
              " 1,\n",
              " 1,\n",
              " 1,\n",
              " 1,\n",
              " 1,\n",
              " 1,\n",
              " 1,\n",
              " 1,\n",
              " 1,\n",
              " 1,\n",
              " 1,\n",
              " 1,\n",
              " 1,\n",
              " 1,\n",
              " 1,\n",
              " 0,\n",
              " 1,\n",
              " 1,\n",
              " 1,\n",
              " 1,\n",
              " 1,\n",
              " 1,\n",
              " 1,\n",
              " 1,\n",
              " 1,\n",
              " 0,\n",
              " 1,\n",
              " 1,\n",
              " 1,\n",
              " 1,\n",
              " 1,\n",
              " 1,\n",
              " 1,\n",
              " 1,\n",
              " 1,\n",
              " 1,\n",
              " 1,\n",
              " 1,\n",
              " 1,\n",
              " 1,\n",
              " 2,\n",
              " 1,\n",
              " 1,\n",
              " 1,\n",
              " 1,\n",
              " 0,\n",
              " 2,\n",
              " 1,\n",
              " 1,\n",
              " 1,\n",
              " 0,\n",
              " 1,\n",
              " 1,\n",
              " 1,\n",
              " 1,\n",
              " 1,\n",
              " 1,\n",
              " 0,\n",
              " 1,\n",
              " 1,\n",
              " 2,\n",
              " 2,\n",
              " 1,\n",
              " 1,\n",
              " 2,\n",
              " 1,\n",
              " 1,\n",
              " 1,\n",
              " 1,\n",
              " 2,\n",
              " 1,\n",
              " 1,\n",
              " 1,\n",
              " 1,\n",
              " 1,\n",
              " 1,\n",
              " 1,\n",
              " 1,\n",
              " 1,\n",
              " 1,\n",
              " 1,\n",
              " 1,\n",
              " 1,\n",
              " 1,\n",
              " 1,\n",
              " 1,\n",
              " 1,\n",
              " 1,\n",
              " 1,\n",
              " 1,\n",
              " 1,\n",
              " 1,\n",
              " 2,\n",
              " 1,\n",
              " 1,\n",
              " 1,\n",
              " 1,\n",
              " 2,\n",
              " 1,\n",
              " 1,\n",
              " 0,\n",
              " 1,\n",
              " 1,\n",
              " 2,\n",
              " 1,\n",
              " 1,\n",
              " 1,\n",
              " 1,\n",
              " 1,\n",
              " 1,\n",
              " 1,\n",
              " 2,\n",
              " 1,\n",
              " 1,\n",
              " 1,\n",
              " 2,\n",
              " 1,\n",
              " 1,\n",
              " 1,\n",
              " 0,\n",
              " 1,\n",
              " 1,\n",
              " 1,\n",
              " 1,\n",
              " 1,\n",
              " 1,\n",
              " 1,\n",
              " 1,\n",
              " 1,\n",
              " 1,\n",
              " 1,\n",
              " 1,\n",
              " 0,\n",
              " 1,\n",
              " 1,\n",
              " 1,\n",
              " 1,\n",
              " 1,\n",
              " 1,\n",
              " 1,\n",
              " 1,\n",
              " 1,\n",
              " 1,\n",
              " 0,\n",
              " 1,\n",
              " 1,\n",
              " 2,\n",
              " 1,\n",
              " 2,\n",
              " 1,\n",
              " 1,\n",
              " 1,\n",
              " 1,\n",
              " 1,\n",
              " 1,\n",
              " 1,\n",
              " 1,\n",
              " 1,\n",
              " 1,\n",
              " 1,\n",
              " 1,\n",
              " 1,\n",
              " 1,\n",
              " 1,\n",
              " 1,\n",
              " 1,\n",
              " 1,\n",
              " 0,\n",
              " 1,\n",
              " 1,\n",
              " 1,\n",
              " 1,\n",
              " 1,\n",
              " 2,\n",
              " 1,\n",
              " 1,\n",
              " 1,\n",
              " 1,\n",
              " 2,\n",
              " 0,\n",
              " 1,\n",
              " 0,\n",
              " 1,\n",
              " 1,\n",
              " 1,\n",
              " 1,\n",
              " 1,\n",
              " 1,\n",
              " 1,\n",
              " 1,\n",
              " 1,\n",
              " 1,\n",
              " 1,\n",
              " 1,\n",
              " 1,\n",
              " 1,\n",
              " 1,\n",
              " 1,\n",
              " 1,\n",
              " 1,\n",
              " 1,\n",
              " 1,\n",
              " 2,\n",
              " 0,\n",
              " 1,\n",
              " 1,\n",
              " 0,\n",
              " 1,\n",
              " 1,\n",
              " 1,\n",
              " 1,\n",
              " 1,\n",
              " 1,\n",
              " 1,\n",
              " 1,\n",
              " 1,\n",
              " 1,\n",
              " 1,\n",
              " 1,\n",
              " 1,\n",
              " 1,\n",
              " 1,\n",
              " 1,\n",
              " 1,\n",
              " 1,\n",
              " 1,\n",
              " 1,\n",
              " 1,\n",
              " 1,\n",
              " 1,\n",
              " 1,\n",
              " 1,\n",
              " 1,\n",
              " 1,\n",
              " 1,\n",
              " 1,\n",
              " 1,\n",
              " 1,\n",
              " 1,\n",
              " 1,\n",
              " 1,\n",
              " 1,\n",
              " 0,\n",
              " 1,\n",
              " 1,\n",
              " 1,\n",
              " 0,\n",
              " 1,\n",
              " 1,\n",
              " 1,\n",
              " 1,\n",
              " 1,\n",
              " 1,\n",
              " 1,\n",
              " 1,\n",
              " 1,\n",
              " 1,\n",
              " 1,\n",
              " 1,\n",
              " 1,\n",
              " 1,\n",
              " 1,\n",
              " 1,\n",
              " 1,\n",
              " 1,\n",
              " 1,\n",
              " 1,\n",
              " 1,\n",
              " 1,\n",
              " 1,\n",
              " 1,\n",
              " 1,\n",
              " 1,\n",
              " 1,\n",
              " 1,\n",
              " 1,\n",
              " 1,\n",
              " 1,\n",
              " 1,\n",
              " 1,\n",
              " 1,\n",
              " 1,\n",
              " 1,\n",
              " 1,\n",
              " 1,\n",
              " 1,\n",
              " 1,\n",
              " 1,\n",
              " 1,\n",
              " 1,\n",
              " 0,\n",
              " 1,\n",
              " 2,\n",
              " 1,\n",
              " 1,\n",
              " 1,\n",
              " 1,\n",
              " 1,\n",
              " 1,\n",
              " 1,\n",
              " 1,\n",
              " 1,\n",
              " 1,\n",
              " 1,\n",
              " 1,\n",
              " 1,\n",
              " 1,\n",
              " 1,\n",
              " 1,\n",
              " 1,\n",
              " 1,\n",
              " 1,\n",
              " 1,\n",
              " 1,\n",
              " 1,\n",
              " 2,\n",
              " 1,\n",
              " 2,\n",
              " 1,\n",
              " 1,\n",
              " 1,\n",
              " 2,\n",
              " 1,\n",
              " 1,\n",
              " 1,\n",
              " 1,\n",
              " 2,\n",
              " 1,\n",
              " 1,\n",
              " 1,\n",
              " 1,\n",
              " 1,\n",
              " 1,\n",
              " 0,\n",
              " 1,\n",
              " 1,\n",
              " 1,\n",
              " 1,\n",
              " 1,\n",
              " 1,\n",
              " 1,\n",
              " 1,\n",
              " 1,\n",
              " 1,\n",
              " 1,\n",
              " 1,\n",
              " 1,\n",
              " 1,\n",
              " 1,\n",
              " 1,\n",
              " 1,\n",
              " 0,\n",
              " 1,\n",
              " 1,\n",
              " 1,\n",
              " 1,\n",
              " 1,\n",
              " 1,\n",
              " 1,\n",
              " 2,\n",
              " 1,\n",
              " 2,\n",
              " 1,\n",
              " 1,\n",
              " 1,\n",
              " 2,\n",
              " 1,\n",
              " 1,\n",
              " 1,\n",
              " 0,\n",
              " 1,\n",
              " 1,\n",
              " 1,\n",
              " 1,\n",
              " 1,\n",
              " 1,\n",
              " 1,\n",
              " 1,\n",
              " 1,\n",
              " 1,\n",
              " 0,\n",
              " 1,\n",
              " 0,\n",
              " 1,\n",
              " 1,\n",
              " 1,\n",
              " 1,\n",
              " 1,\n",
              " 1,\n",
              " 1,\n",
              " 1,\n",
              " 1,\n",
              " 1,\n",
              " 1,\n",
              " 1,\n",
              " 1,\n",
              " 1,\n",
              " 0,\n",
              " 1,\n",
              " 1,\n",
              " 1,\n",
              " 1,\n",
              " 1,\n",
              " 1,\n",
              " 0,\n",
              " 1,\n",
              " 1,\n",
              " 1,\n",
              " 1,\n",
              " 1,\n",
              " 1,\n",
              " 1,\n",
              " 1,\n",
              " 1,\n",
              " 1,\n",
              " 1,\n",
              " 1,\n",
              " 1,\n",
              " 1,\n",
              " 1,\n",
              " 1,\n",
              " 1,\n",
              " 1,\n",
              " 1,\n",
              " 1,\n",
              " 1,\n",
              " 1,\n",
              " 1,\n",
              " 1,\n",
              " 2,\n",
              " 1,\n",
              " 1,\n",
              " 1,\n",
              " 1,\n",
              " 1,\n",
              " 1,\n",
              " 1,\n",
              " 1,\n",
              " 1,\n",
              " 1,\n",
              " 1,\n",
              " 1,\n",
              " 1,\n",
              " 1,\n",
              " 1,\n",
              " 1,\n",
              " 1,\n",
              " 1,\n",
              " 1,\n",
              " 1,\n",
              " 1,\n",
              " 1,\n",
              " 1,\n",
              " 1,\n",
              " 1,\n",
              " 1,\n",
              " 2,\n",
              " 1,\n",
              " 0,\n",
              " 2,\n",
              " 1,\n",
              " 1,\n",
              " 1,\n",
              " 1,\n",
              " 1,\n",
              " 1,\n",
              " 1,\n",
              " 1,\n",
              " 0,\n",
              " 1,\n",
              " 1,\n",
              " 1,\n",
              " 1,\n",
              " 1,\n",
              " 1,\n",
              " 1,\n",
              " 1,\n",
              " 1,\n",
              " 1,\n",
              " 1,\n",
              " 1,\n",
              " 1,\n",
              " 1,\n",
              " 1,\n",
              " 1,\n",
              " 1,\n",
              " 1,\n",
              " 1,\n",
              " 1,\n",
              " 0,\n",
              " 1,\n",
              " 0,\n",
              " 1,\n",
              " 1,\n",
              " 1,\n",
              " 1,\n",
              " 1,\n",
              " 1,\n",
              " 1,\n",
              " 1,\n",
              " 1,\n",
              " 1,\n",
              " 1,\n",
              " 1,\n",
              " 1,\n",
              " 1,\n",
              " 1,\n",
              " 1,\n",
              " 1,\n",
              " 1,\n",
              " 1,\n",
              " 1,\n",
              " 1,\n",
              " 1,\n",
              " 1,\n",
              " 1,\n",
              " 1,\n",
              " 1,\n",
              " 1,\n",
              " 1,\n",
              " 1,\n",
              " 1,\n",
              " 1,\n",
              " 1,\n",
              " 1,\n",
              " 1,\n",
              " 1,\n",
              " 1,\n",
              " 1,\n",
              " 1,\n",
              " 1,\n",
              " 1,\n",
              " 1,\n",
              " 1,\n",
              " 2,\n",
              " 1,\n",
              " 1,\n",
              " 1,\n",
              " 1,\n",
              " 1,\n",
              " 1,\n",
              " 1,\n",
              " 0,\n",
              " 1,\n",
              " 2,\n",
              " 2,\n",
              " 1,\n",
              " 0,\n",
              " 1,\n",
              " 1,\n",
              " 1,\n",
              " 1,\n",
              " 1,\n",
              " 1,\n",
              " 1,\n",
              " 1,\n",
              " 1,\n",
              " 1,\n",
              " 1,\n",
              " 1,\n",
              " 1,\n",
              " 1,\n",
              " 1,\n",
              " 1,\n",
              " 1,\n",
              " 1,\n",
              " 1,\n",
              " 1,\n",
              " 1,\n",
              " 1,\n",
              " 2,\n",
              " 1,\n",
              " 1,\n",
              " 1,\n",
              " 0,\n",
              " 1,\n",
              " 1,\n",
              " 2,\n",
              " 1,\n",
              " 2,\n",
              " 1,\n",
              " 1,\n",
              " 1,\n",
              " 1,\n",
              " 1,\n",
              " 1,\n",
              " 1,\n",
              " 1,\n",
              " 1,\n",
              " 1,\n",
              " 1,\n",
              " 1,\n",
              " 1,\n",
              " 1,\n",
              " 1,\n",
              " 1,\n",
              " 1,\n",
              " 1,\n",
              " 1,\n",
              " 1,\n",
              " 1,\n",
              " 1,\n",
              " 1,\n",
              " 1,\n",
              " 2,\n",
              " 1,\n",
              " 1,\n",
              " 1,\n",
              " 1,\n",
              " 1]"
            ]
          },
          "metadata": {},
          "execution_count": 69
        }
      ]
    },
    {
      "cell_type": "code",
      "source": [
        "# val_label = val_label.to_numpy()\n",
        "val_label"
      ],
      "metadata": {
        "colab": {
          "base_uri": "https://localhost:8080/"
        },
        "id": "qnV_LK8Ch2d7",
        "outputId": "27bbac3c-eaea-4f64-af6a-927eb61a557c"
      },
      "execution_count": null,
      "outputs": [
        {
          "output_type": "execute_result",
          "data": {
            "text/plain": [
              "1      0\n",
              "2      1\n",
              "3      1\n",
              "4      0\n",
              "5      1\n",
              "      ..\n",
              "993    1\n",
              "994    2\n",
              "997    2\n",
              "998    2\n",
              "999    0\n",
              "Name: label, Length: 828, dtype: object"
            ]
          },
          "metadata": {},
          "execution_count": 74
        }
      ]
    },
    {
      "cell_type": "code",
      "source": [
        "predict_label =np.array(predict_label)\n",
        "type(predict_label) \n",
        "# final_label.values"
      ],
      "metadata": {
        "id": "dRjW2f9WohbR",
        "outputId": "d4708705-c461-4473-be11-d91638b87293",
        "colab": {
          "base_uri": "https://localhost:8080/"
        }
      },
      "execution_count": null,
      "outputs": [
        {
          "output_type": "execute_result",
          "data": {
            "text/plain": [
              "numpy.ndarray"
            ]
          },
          "metadata": {},
          "execution_count": 72
        }
      ]
    },
    {
      "cell_type": "code",
      "source": [
        "predict_label"
      ],
      "metadata": {
        "id": "dcpR-Qv4odhy"
      },
      "execution_count": null,
      "outputs": []
    },
    {
      "cell_type": "code",
      "source": [
        "from sklearn.metrics import classification_report\n",
        "print(classification_report(list(val_label), predict_label))\n",
        "       "
      ],
      "metadata": {
        "id": "tTJ_SBb7fyZs",
        "outputId": "f1dc2b9c-fdcc-439e-b3c6-61d433ff774c",
        "colab": {
          "base_uri": "https://localhost:8080/"
        }
      },
      "execution_count": null,
      "outputs": [
        {
          "output_type": "stream",
          "name": "stdout",
          "text": [
            "              precision    recall  f1-score   support\n",
            "\n",
            "           0       0.16      0.02      0.04       285\n",
            "           1       0.32      0.89      0.47       266\n",
            "           2       0.82      0.13      0.22       277\n",
            "\n",
            "    accuracy                           0.34       828\n",
            "   macro avg       0.43      0.35      0.24       828\n",
            "weighted avg       0.43      0.34      0.24       828\n",
            "\n"
          ]
        }
      ]
    },
    {
      "cell_type": "code",
      "execution_count": null,
      "metadata": {
        "id": "Mhg1kUp7zyU5"
      },
      "outputs": [],
      "source": [
        "F =  df[\"Feature\"]\n",
        "F"
      ]
    },
    {
      "cell_type": "code",
      "execution_count": null,
      "metadata": {
        "id": "X3SQEwEBhSO5"
      },
      "outputs": [],
      "source": [
        "# from google.colab import drive\n",
        "# drive.mount('/content/drive')"
      ]
    },
    {
      "cell_type": "code",
      "execution_count": null,
      "metadata": {
        "id": "Y4tCxqOwRfeC"
      },
      "outputs": [],
      "source": [
        "from tqdm import tqdm\n",
        "predict_label = []\n",
        "for sentence in tqdm(F.to_list()):\n",
        "  test =  main(sentence)\n",
        "  predict_label.append(test)\n",
        "\n",
        "predict_label"
      ]
    },
    {
      "cell_type": "code",
      "execution_count": null,
      "metadata": {
        "id": "J2znu2-xZI_y"
      },
      "outputs": [],
      "source": [
        "from tqdm import tqdm\n",
        "\n",
        "user = []\n",
        "\n",
        "for i in tqdm(df[\"Feature\"]):\n",
        "  i.append[user.apply|()]\n",
        "\n",
        "main(user)\n"
      ]
    },
    {
      "cell_type": "code",
      "source": [
        "df.label[:5]"
      ],
      "metadata": {
        "id": "1VlneR7Cb7_R"
      },
      "execution_count": null,
      "outputs": []
    },
    {
      "cell_type": "code",
      "execution_count": null,
      "metadata": {
        "id": "OgZ16Is0Yi4X"
      },
      "outputs": [],
      "source": [
        "from sklearn.metrics import classification_report\n",
        "print(classification_report(predict_label, df.label[5]))\n",
        "       "
      ]
    },
    {
      "cell_type": "code",
      "execution_count": null,
      "metadata": {
        "id": "psUq6vWHQJdI"
      },
      "outputs": [],
      "source": [
        "val_data[\"label\"]"
      ]
    },
    {
      "cell_type": "code",
      "execution_count": null,
      "metadata": {
        "id": "HQ-6CuJKQNuu"
      },
      "outputs": [],
      "source": [
        "val_data[\"Feature\"]"
      ]
    },
    {
      "cell_type": "code",
      "execution_count": null,
      "metadata": {
        "id": "6p6ORNLYQR6M"
      },
      "outputs": [],
      "source": [
        "len(val_data[\"label\"]), len(val_data[\"Feature\"])"
      ]
    },
    {
      "cell_type": "code",
      "execution_count": null,
      "metadata": {
        "id": "GLsOOA5xkk6C"
      },
      "outputs": [],
      "source": [
        "print(\"Accuracy of ELMO is:\",accuracy_score(y_test,y_preds))\n"
      ]
    },
    {
      "cell_type": "code",
      "execution_count": null,
      "metadata": {
        "id": "hwo4CB5QROXs"
      },
      "outputs": [],
      "source": [
        "val_data.Feature"
      ]
    },
    {
      "cell_type": "code",
      "execution_count": null,
      "metadata": {
        "id": "zj6zcTGARAvk"
      },
      "outputs": [],
      "source": [
        "len(val_data.Feature), len(val_data.label)"
      ]
    },
    {
      "cell_type": "code",
      "execution_count": null,
      "metadata": {
        "id": "4FLJnkvaJKhh"
      },
      "outputs": [],
      "source": [
        "print(\"Evaluate on test data\")\n",
        "results = model.evaluate(X_val, y_val)\n",
        "# print(\"test loss, test acc:\", results)\n",
        "\n",
        "# Generate predictions (probabilities -- the output of the last layer)\n",
        "# on new data using `predict`\n",
        "# print(\"Generate predictions for 3 samples\")\n",
        "# predictions = model.predict(val_data.Feature[:3])\n",
        "# print(\"predictions shape:\", predictions.shape)"
      ]
    },
    {
      "cell_type": "code",
      "execution_count": null,
      "metadata": {
        "id": "O7yg1_QnRHeK"
      },
      "outputs": [],
      "source": [
        "result = model.evaluate(val_Feature)"
      ]
    },
    {
      "cell_type": "code",
      "execution_count": null,
      "metadata": {
        "id": "-48dlGqPEV00"
      },
      "outputs": [],
      "source": [
        "# df['Feature']= df[\"Feature\"].apply(tweet_to_words)\n",
        "# df['Feature']= df[\"Feature\"].apply(remove_emoji)\n",
        "# df['Feature']= df[\"Feature\"].apply(preprocess)\n",
        "# df['Feature']= df[\"Feature\"].apply(remove_users)\n",
        "# df['Feature']= df[\"Feature\"].apply(remove_links)\n",
        "# df['Feature']= df[\"Feature\"].apply(clean)\n",
        "\n",
        "# user= user.apply(tweet_to_words)\n",
        "# user= user.apply(remove_emoji)\n",
        "# user= user.apply(preprocess)\n",
        "# user= user.apply(remove_users)\n",
        "# user= user.apply(remove_links)\n",
        "# user= user.apply(clean)\n",
        "\n",
        "\n",
        "\n",
        "\n"
      ]
    }
  ],
  "metadata": {
    "colab": {
      "collapsed_sections": [],
      "provenance": [],
      "include_colab_link": true
    },
    "kernelspec": {
      "display_name": "Python 3",
      "name": "python3"
    },
    "language_info": {
      "name": "python"
    }
  },
  "nbformat": 4,
  "nbformat_minor": 0
}